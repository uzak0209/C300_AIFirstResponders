{
 "cells": [
  {
   "cell_type": "code",
   "execution_count": 2,
   "metadata": {},
   "outputs": [
    {
     "name": "stdout",
     "output_type": "stream",
     "text": [
      "Validating fire for all uploads\n",
      "\n",
      "image 1/1 e:\\Default_Apps\\Desktop\\Development\\_School\\FYP\\C300_AIFirstResponders\\server\\fire_detection_ai\\scripts\\..\\..\\uploads\\dustbn_fire.jpg: 640x416 (no detections), 17.0ms\n",
      "Speed: 1.0ms preprocess, 17.0ms inference, 0.0ms postprocess per image at shape (1, 3, 640, 416)\n",
      "Results saved to \u001b[1me:\\Default_Apps\\Desktop\\Development\\_School\\FYP\\C300_AIFirstResponders\\server\\fire_detection_ai\\scripts\\..\\runs\\detect\\predict3\u001b[0m\n",
      "Validating dustbin fire for all uploads\n",
      "\n",
      "image 1/1 e:\\Default_Apps\\Desktop\\Development\\_School\\FYP\\C300_AIFirstResponders\\server\\fire_detection_ai\\scripts\\..\\..\\uploads\\dustbn_fire.jpg: 640x416 1 distbin_fire, 12.5ms\n",
      "Speed: 2.0ms preprocess, 12.5ms inference, 39.0ms postprocess per image at shape (1, 3, 640, 416)\n",
      "Results saved to \u001b[1me:\\Default_Apps\\Desktop\\Development\\_School\\FYP\\C300_AIFirstResponders\\server\\fire_detection_ai\\scripts\\..\\runs\\detect\\predict4\u001b[0m\n"
     ]
    }
   ],
   "source": [
    "import os\n",
    "from ultralytics import YOLO\n",
    "\n",
    "\n",
    "fire_model = YOLO(\"../models/fire_best.pt\")\n",
    "dustbin_model = YOLO(\"../models/dustbin_best.pt\")\n",
    "# results = model.predict(source=\"../../uploads\", conf=0.5, save=True)\n",
    "# result = results[0]\n",
    "\n",
    "upload_directory = \"../../uploads\"\n",
    "fire_directory = \"../../fire_detection_ai/dataset/valid/images\"\n",
    "dustbin_directory = \"../../fire_detection_ai/dataset_dustbin/valid/images\"\n",
    "\n",
    "# print(\"Validating for fire detection\")\n",
    "# for file in os.listdir(fire_directory):\n",
    "#     results = fire_model.predict(source=f\"{fire_directory}/{file}\", conf=0.7, save=True)\n",
    "\n",
    "# print(\"Validating for dustbin fire detection\")\n",
    "# for file in os.listdir(dustbin_directory):\n",
    "#     results = dustbin_model.predict(source=f\"{dustbin_directory}/{file}\", conf=0.7, save=True)\n",
    "    \n",
    "print(\"Validating fire for all uploads\")\n",
    "for file in os.listdir(upload_directory):\n",
    "    results = fire_model.predict(source=f\"{upload_directory}/{file}\", save=True)\n",
    "    \n",
    "print(\"Validating dustbin fire for all uploads\")\n",
    "for file in os.listdir(upload_directory):\n",
    "    results = dustbin_model.predict(source=f\"{upload_directory}/{file}\", save=True)"
   ]
  }
 ],
 "metadata": {
  "kernelspec": {
   "display_name": ".venv",
   "language": "python",
   "name": "python3"
  },
  "language_info": {
   "codemirror_mode": {
    "name": "ipython",
    "version": 3
   },
   "file_extension": ".py",
   "mimetype": "text/x-python",
   "name": "python",
   "nbconvert_exporter": "python",
   "pygments_lexer": "ipython3",
   "version": "3.12.4"
  }
 },
 "nbformat": 4,
 "nbformat_minor": 2
}
