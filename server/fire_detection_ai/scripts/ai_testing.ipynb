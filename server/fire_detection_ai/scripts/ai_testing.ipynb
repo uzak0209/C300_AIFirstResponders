{
 "cells": [
  {
   "cell_type": "code",
   "execution_count": null,
   "metadata": {},
   "outputs": [],
   "source": [
    "import os\n",
    "from ultralytics import YOLO\n",
    "\n",
    "\n",
    "model = YOLO(\"../models/best.pt\")\n",
    "# results = model.predict(source=\"../../uploads\", conf=0.5, save=True)\n",
    "# result = results[0]\n",
    "\n",
    "for file in os.listdir(\"../../uploads\"):\n",
    "    results = model.predict(source=f'../../uploads/{file}', conf=0.7, save=True)\n",
    "    result = results[0]\n",
    "\n",
    "    output = []\n",
    "    if result:\n",
    "        print(\"hello\")\n",
    "        for box in result.boxes:\n",
    "            x1, y1, x2, y2 = [round(x) for x in box.xyxy[0].tolist()]\n",
    "            class_id = box.cls[0].item()\n",
    "            prob = round(box.conf[0].item(), 2)\n",
    "            output.append([x1, y1, x2, y2, result.names[class_id], prob])\n"
   ]
  }
 ],
 "metadata": {
  "kernelspec": {
   "display_name": ".venv",
   "language": "python",
   "name": "python3"
  },
  "language_info": {
   "codemirror_mode": {
    "name": "ipython",
    "version": 3
   },
   "file_extension": ".py",
   "mimetype": "text/x-python",
   "name": "python",
   "nbconvert_exporter": "python",
   "pygments_lexer": "ipython3",
   "version": "3.12.3"
  }
 },
 "nbformat": 4,
 "nbformat_minor": 2
}
