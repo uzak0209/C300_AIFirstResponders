{
 "cells": [
  {
   "cell_type": "code",
   "execution_count": 2,
   "metadata": {},
   "outputs": [
    {
     "name": "stdout",
     "output_type": "stream",
     "text": [
      "\n",
      "image 1/1 f:\\Projects\\C300_AIFirstResponders\\server\\fire_detection_ai\\scripts\\..\\..\\uploads\\image_1.jpg: 640x352 (no detections), 149.1ms\n",
      "Speed: 9.8ms preprocess, 149.1ms inference, 3538.0ms postprocess per image at shape (1, 3, 640, 352)\n",
      "Results saved to \u001b[1mf:\\Projects\\C300_AIFirstResponders\\server\\fire_detection_ai\\scripts\\..\\runs\\detect\\predict5\u001b[0m\n",
      "\n",
      "image 1/1 f:\\Projects\\C300_AIFirstResponders\\server\\fire_detection_ai\\scripts\\..\\..\\uploads\\image_10.jpg: 640x352 (no detections), 19.7ms\n",
      "Speed: 2.1ms preprocess, 19.7ms inference, 3.0ms postprocess per image at shape (1, 3, 640, 352)\n",
      "Results saved to \u001b[1mf:\\Projects\\C300_AIFirstResponders\\server\\fire_detection_ai\\scripts\\..\\runs\\detect\\predict5\u001b[0m\n",
      "\n",
      "image 1/1 f:\\Projects\\C300_AIFirstResponders\\server\\fire_detection_ai\\scripts\\..\\..\\uploads\\image_2.jpeg: 416x640 (no detections), 171.3ms\n",
      "Speed: 0.0ms preprocess, 171.3ms inference, 0.0ms postprocess per image at shape (1, 3, 416, 640)\n",
      "Results saved to \u001b[1mf:\\Projects\\C300_AIFirstResponders\\server\\fire_detection_ai\\scripts\\..\\runs\\detect\\predict5\u001b[0m\n",
      "\n",
      "image 1/1 f:\\Projects\\C300_AIFirstResponders\\server\\fire_detection_ai\\scripts\\..\\..\\uploads\\image_3.jpg: 640x352 (no detections), 14.7ms\n",
      "Speed: 0.0ms preprocess, 14.7ms inference, 5.0ms postprocess per image at shape (1, 3, 640, 352)\n",
      "Results saved to \u001b[1mf:\\Projects\\C300_AIFirstResponders\\server\\fire_detection_ai\\scripts\\..\\runs\\detect\\predict5\u001b[0m\n",
      "\n",
      "image 1/1 f:\\Projects\\C300_AIFirstResponders\\server\\fire_detection_ai\\scripts\\..\\..\\uploads\\image_4.jpg: 640x352 (no detections), 30.2ms\n",
      "Speed: 8.6ms preprocess, 30.2ms inference, 0.0ms postprocess per image at shape (1, 3, 640, 352)\n",
      "Results saved to \u001b[1mf:\\Projects\\C300_AIFirstResponders\\server\\fire_detection_ai\\scripts\\..\\runs\\detect\\predict5\u001b[0m\n",
      "\n",
      "image 1/1 f:\\Projects\\C300_AIFirstResponders\\server\\fire_detection_ai\\scripts\\..\\..\\uploads\\image_5.jpg: 640x352 (no detections), 19.8ms\n",
      "Speed: 5.5ms preprocess, 19.8ms inference, 0.0ms postprocess per image at shape (1, 3, 640, 352)\n",
      "Results saved to \u001b[1mf:\\Projects\\C300_AIFirstResponders\\server\\fire_detection_ai\\scripts\\..\\runs\\detect\\predict5\u001b[0m\n",
      "\n",
      "image 1/1 f:\\Projects\\C300_AIFirstResponders\\server\\fire_detection_ai\\scripts\\..\\..\\uploads\\image_6.jpg: 640x352 (no detections), 8.5ms\n",
      "Speed: 2.5ms preprocess, 8.5ms inference, 0.0ms postprocess per image at shape (1, 3, 640, 352)\n",
      "Results saved to \u001b[1mf:\\Projects\\C300_AIFirstResponders\\server\\fire_detection_ai\\scripts\\..\\runs\\detect\\predict5\u001b[0m\n",
      "\n",
      "image 1/1 f:\\Projects\\C300_AIFirstResponders\\server\\fire_detection_ai\\scripts\\..\\..\\uploads\\image_7.jpg: 640x352 (no detections), 30.0ms\n",
      "Speed: 4.6ms preprocess, 30.0ms inference, 0.0ms postprocess per image at shape (1, 3, 640, 352)\n",
      "Results saved to \u001b[1mf:\\Projects\\C300_AIFirstResponders\\server\\fire_detection_ai\\scripts\\..\\runs\\detect\\predict5\u001b[0m\n",
      "\n",
      "image 1/1 f:\\Projects\\C300_AIFirstResponders\\server\\fire_detection_ai\\scripts\\..\\..\\uploads\\image_8.jpg: 640x352 3 fires, 25.0ms\n",
      "Speed: 0.0ms preprocess, 25.0ms inference, 24.3ms postprocess per image at shape (1, 3, 640, 352)\n",
      "Results saved to \u001b[1mf:\\Projects\\C300_AIFirstResponders\\server\\fire_detection_ai\\scripts\\..\\runs\\detect\\predict5\u001b[0m\n",
      "\n",
      "image 1/1 f:\\Projects\\C300_AIFirstResponders\\server\\fire_detection_ai\\scripts\\..\\..\\uploads\\image_9.jpg: 640x352 (no detections), 10.1ms\n",
      "Speed: 0.0ms preprocess, 10.1ms inference, 3.3ms postprocess per image at shape (1, 3, 640, 352)\n",
      "Results saved to \u001b[1mf:\\Projects\\C300_AIFirstResponders\\server\\fire_detection_ai\\scripts\\..\\runs\\detect\\predict5\u001b[0m\n"
     ]
    }
   ],
   "source": [
    "import os\n",
    "from ultralytics import YOLO\n",
    "\n",
    "\n",
    "model = YOLO(\"../models/best.pt\")\n",
    "# results = model.predict(source=\"../../uploads\", conf=0.5, save=True)\n",
    "# result = results[0]\n",
    "\n",
    "for file in os.listdir(\"../../uploads\"):\n",
    "    results = model.predict(source=f'../../uploads/{file}', conf=0.7, save=True)\n",
    "    result = results[0]\n",
    "\n",
    "    output = []\n",
    "    if result:\n",
    "        for box in result.boxes:\n",
    "            x1, y1, x2, y2 = [round(x) for x in box.xyxy[0].tolist()]\n",
    "            class_id = box.cls[0].item()\n",
    "            prob = round(box.conf[0].item(), 2)\n",
    "            output.append([x1, y1, x2, y2, result.names[class_id], prob])\n"
   ]
  }
 ],
 "metadata": {
  "kernelspec": {
   "display_name": ".venv",
   "language": "python",
   "name": "python3"
  },
  "language_info": {
   "codemirror_mode": {
    "name": "ipython",
    "version": 3
   },
   "file_extension": ".py",
   "mimetype": "text/x-python",
   "name": "python",
   "nbconvert_exporter": "python",
   "pygments_lexer": "ipython3",
   "version": "3.12.3"
  }
 },
 "nbformat": 4,
 "nbformat_minor": 2
}
