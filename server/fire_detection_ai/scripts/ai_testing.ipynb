{
 "cells": [
  {
   "cell_type": "code",
   "execution_count": 10,
   "metadata": {},
   "outputs": [
    {
     "name": "stdout",
     "output_type": "stream",
     "text": [
      "\n",
      "image 1/1 e:\\Project\\C300_AIFirstResponders\\server\\fire_detection_ai\\scripts\\..\\..\\uploads\\image_1.jpg: 480x640 1 fire, 9.0ms\n",
      "Speed: 2.0ms preprocess, 9.0ms inference, 2.0ms postprocess per image at shape (1, 3, 480, 640)\n",
      "Results saved to \u001b[1me:\\Project\\C300_AIFirstResponders\\server\\fire_detection_ai\\scripts\\..\\runs\\detect\\predict2\u001b[0m\n",
      "hello\n",
      "\n",
      "image 1/1 e:\\Project\\C300_AIFirstResponders\\server\\fire_detection_ai\\scripts\\..\\..\\uploads\\image_2.jpeg: 416x640 (no detections), 10.0ms\n",
      "Speed: 3.0ms preprocess, 10.0ms inference, 1.0ms postprocess per image at shape (1, 3, 416, 640)\n",
      "Results saved to \u001b[1me:\\Project\\C300_AIFirstResponders\\server\\fire_detection_ai\\scripts\\..\\runs\\detect\\predict2\u001b[0m\n"
     ]
    }
   ],
   "source": [
    "import os\n",
    "from ultralytics import YOLO\n",
    "\n",
    "\n",
    "model = YOLO(\"../models/best.pt\")\n",
    "# results = model.predict(source=\"../../uploads\", conf=0.5, save=True)\n",
    "# result = results[0]\n",
    "\n",
    "for file in os.listdir(\"../../uploads\"):\n",
    "    results = model.predict(source=f'../../uploads/{file}', conf=0.7, save=True)\n",
    "    result = results[0]\n",
    "\n",
    "    output = []\n",
    "    if result:\n",
    "        print(\"hello\")\n",
    "        for box in result.boxes:\n",
    "            x1, y1, x2, y2 = [round(x) for x in box.xyxy[0].tolist()]\n",
    "            class_id = box.cls[0].item()\n",
    "            prob = round(box.conf[0].item(), 2)\n",
    "            output.append([x1, y1, x2, y2, result.names[class_id], prob])\n"
   ]
  }
 ],
 "metadata": {
  "kernelspec": {
   "display_name": ".venv",
   "language": "python",
   "name": "python3"
  },
  "language_info": {
   "codemirror_mode": {
    "name": "ipython",
    "version": 3
   },
   "file_extension": ".py",
   "mimetype": "text/x-python",
   "name": "python",
   "nbconvert_exporter": "python",
   "pygments_lexer": "ipython3",
   "version": "3.12.3"
  }
 },
 "nbformat": 4,
 "nbformat_minor": 2
}
