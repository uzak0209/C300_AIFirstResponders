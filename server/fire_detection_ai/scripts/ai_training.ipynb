{
 "cells": [
  {
   "cell_type": "code",
   "execution_count": 1,
   "metadata": {},
   "outputs": [],
   "source": [
    "import os\n",
    "import torch\n",
    "from ultralytics import YOLO, settings"
   ]
  },
  {
   "cell_type": "code",
   "execution_count": 2,
   "metadata": {},
   "outputs": [
    {
     "name": "stdout",
     "output_type": "stream",
     "text": [
      "New https://pypi.org/project/ultralytics/8.2.64 available  Update with 'pip install -U ultralytics'\n",
      "Ultralytics YOLOv8.2.51  Python-3.12.4 torch-2.3.1+cu121 CUDA:0 (NVIDIA GeForce RTX 4070 Laptop GPU, 8188MiB)\n",
      "\u001b[34m\u001b[1mengine\\trainer: \u001b[0mtask=detect, mode=train, model=..\\runs\\detect\\train\\weights\\last.pt, data=../dataset/data.yaml, epochs=100, time=None, patience=90, batch=16, imgsz=640, save=True, save_period=-1, cache=False, device=0, workers=8, project=None, name=train, exist_ok=False, pretrained=True, optimizer=auto, verbose=True, seed=0, deterministic=True, single_cls=False, rect=False, cos_lr=False, close_mosaic=10, resume=..\\runs\\detect\\train\\weights\\last.pt, amp=True, fraction=1.0, profile=False, freeze=None, multi_scale=False, overlap_mask=True, mask_ratio=4, dropout=0.0, val=True, split=val, save_json=False, save_hybrid=False, conf=None, iou=0.7, max_det=300, half=False, dnn=False, plots=True, source=None, vid_stride=1, stream_buffer=False, visualize=False, augment=False, agnostic_nms=False, classes=None, retina_masks=False, embed=None, show=False, save_frames=False, save_txt=False, save_conf=False, save_crop=False, show_labels=True, show_conf=True, show_boxes=True, line_width=None, format=torchscript, keras=False, optimize=False, int8=False, dynamic=False, simplify=False, opset=None, workspace=4, nms=False, lr0=0.01, lrf=0.01, momentum=0.937, weight_decay=0.0005, warmup_epochs=3.0, warmup_momentum=0.8, warmup_bias_lr=0.0, box=7.5, cls=0.5, dfl=1.5, pose=12.0, kobj=1.0, label_smoothing=0.0, nbs=64, hsv_h=0.015, hsv_s=0.7, hsv_v=0.4, degrees=0.0, translate=0.1, scale=0.5, shear=0.0, perspective=0.0, flipud=0.0, fliplr=0.5, bgr=0.0, mosaic=1.0, mixup=0.0, copy_paste=0.0, auto_augment=randaugment, erasing=0.4, crop_fraction=1.0, cfg=None, tracker=botsort.yaml, save_dir=e:\\Default_Apps\\Desktop\\Development\\_School\\FYP\\C300_AIFirstResponders\\server\\fire_detection_ai\\scripts\\..\\runs\\detect\\train\n",
      "\n",
      "                   from  n    params  module                                       arguments                     \n",
      "  0                  -1  1      1392  ultralytics.nn.modules.conv.Conv             [3, 48, 3, 2]                 \n",
      "  1                  -1  1     41664  ultralytics.nn.modules.conv.Conv             [48, 96, 3, 2]                \n",
      "  2                  -1  2    111360  ultralytics.nn.modules.block.C2f             [96, 96, 2, True]             \n",
      "  3                  -1  1    166272  ultralytics.nn.modules.conv.Conv             [96, 192, 3, 2]               \n",
      "  4                  -1  4    813312  ultralytics.nn.modules.block.C2f             [192, 192, 4, True]           \n",
      "  5                  -1  1    664320  ultralytics.nn.modules.conv.Conv             [192, 384, 3, 2]              \n",
      "  6                  -1  4   3248640  ultralytics.nn.modules.block.C2f             [384, 384, 4, True]           \n",
      "  7                  -1  1   1991808  ultralytics.nn.modules.conv.Conv             [384, 576, 3, 2]              \n",
      "  8                  -1  2   3985920  ultralytics.nn.modules.block.C2f             [576, 576, 2, True]           \n",
      "  9                  -1  1    831168  ultralytics.nn.modules.block.SPPF            [576, 576, 5]                 \n",
      " 10                  -1  1         0  torch.nn.modules.upsampling.Upsample         [None, 2, 'nearest']          \n",
      " 11             [-1, 6]  1         0  ultralytics.nn.modules.conv.Concat           [1]                           \n",
      " 12                  -1  2   1993728  ultralytics.nn.modules.block.C2f             [960, 384, 2]                 \n",
      " 13                  -1  1         0  torch.nn.modules.upsampling.Upsample         [None, 2, 'nearest']          \n",
      " 14             [-1, 4]  1         0  ultralytics.nn.modules.conv.Concat           [1]                           \n",
      " 15                  -1  2    517632  ultralytics.nn.modules.block.C2f             [576, 192, 2]                 \n",
      " 16                  -1  1    332160  ultralytics.nn.modules.conv.Conv             [192, 192, 3, 2]              \n",
      " 17            [-1, 12]  1         0  ultralytics.nn.modules.conv.Concat           [1]                           \n",
      " 18                  -1  2   1846272  ultralytics.nn.modules.block.C2f             [576, 384, 2]                 \n",
      " 19                  -1  1   1327872  ultralytics.nn.modules.conv.Conv             [384, 384, 3, 2]              \n",
      " 20             [-1, 9]  1         0  ultralytics.nn.modules.conv.Concat           [1]                           \n",
      " 21                  -1  2   4207104  ultralytics.nn.modules.block.C2f             [960, 576, 2]                 \n",
      " 22        [15, 18, 21]  1   3776275  ultralytics.nn.modules.head.Detect           [1, [192, 384, 576]]          \n",
      "Model summary: 295 layers, 25856899 parameters, 25856883 gradients, 79.1 GFLOPs\n",
      "\n",
      "Transferred 475/475 items from pretrained weights\n",
      "Freezing layer 'model.22.dfl.conv.weight'\n",
      "\u001b[34m\u001b[1mAMP: \u001b[0mrunning Automatic Mixed Precision (AMP) checks with YOLOv8n...\n",
      "\u001b[34m\u001b[1mAMP: \u001b[0mchecks passed \n"
     ]
    },
    {
     "name": "stderr",
     "output_type": "stream",
     "text": [
      "\u001b[34m\u001b[1mtrain: \u001b[0mScanning E:\\Default_Apps\\Desktop\\Development\\_School\\FYP\\C300_AIFirstResponders\\server\\fire_detection_ai\\dataset\\train\\labels.cache... 6888 images, 0 backgrounds, 0 corrupt: 100%|██████████| 6888/6888 [00:00<?, ?it/s]"
     ]
    },
    {
     "name": "stdout",
     "output_type": "stream",
     "text": [
      "WARNING  Box and segment counts should be equal, but got len(segments) = 1, len(boxes) = 7289. To resolve this only boxes will be used and all segments will be removed. To avoid this please supply either a detect or segment dataset, not a detect-segment mixed dataset.\n"
     ]
    },
    {
     "name": "stderr",
     "output_type": "stream",
     "text": [
      "\n",
      "\u001b[34m\u001b[1mval: \u001b[0mScanning E:\\Default_Apps\\Desktop\\Development\\_School\\FYP\\C300_AIFirstResponders\\server\\fire_detection_ai\\dataset\\valid\\labels.cache... 985 images, 0 backgrounds, 0 corrupt: 100%|██████████| 985/985 [00:00<?, ?it/s]\n"
     ]
    },
    {
     "name": "stdout",
     "output_type": "stream",
     "text": [
      "Plotting labels to e:\\Default_Apps\\Desktop\\Development\\_School\\FYP\\C300_AIFirstResponders\\server\\fire_detection_ai\\scripts\\..\\runs\\detect\\train\\labels.jpg... \n",
      "\u001b[34m\u001b[1moptimizer:\u001b[0m 'optimizer=auto' found, ignoring 'lr0=0.01' and 'momentum=0.937' and determining best 'optimizer', 'lr0' and 'momentum' automatically... \n",
      "\u001b[34m\u001b[1moptimizer:\u001b[0m SGD(lr=0.01, momentum=0.9) with parameter groups 77 weight(decay=0.0), 84 weight(decay=0.0005), 83 bias(decay=0.0)\n",
      "Resuming training ..\\runs\\detect\\train\\weights\\last.pt from epoch 55 to 100 total epochs\n",
      "Image sizes 640 train, 640 val\n",
      "Using 8 dataloader workers\n",
      "Logging results to \u001b[1me:\\Default_Apps\\Desktop\\Development\\_School\\FYP\\C300_AIFirstResponders\\server\\fire_detection_ai\\scripts\\..\\runs\\detect\\train\u001b[0m\n",
      "Starting training for 100 epochs...\n",
      "\n",
      "      Epoch    GPU_mem   box_loss   cls_loss   dfl_loss  Instances       Size\n"
     ]
    },
    {
     "name": "stderr",
     "output_type": "stream",
     "text": [
      "     55/100      7.06G     0.6664     0.3612      1.015         17        640: 100%|██████████| 431/431 [02:27<00:00,  2.91it/s]\n",
      "                 Class     Images  Instances      Box(P          R      mAP50  mAP50-95): 100%|██████████| 31/31 [00:15<00:00,  1.96it/s]"
     ]
    },
    {
     "name": "stdout",
     "output_type": "stream",
     "text": [
      "                   all        985       1056      0.974      0.951       0.98      0.818\n"
     ]
    },
    {
     "name": "stderr",
     "output_type": "stream",
     "text": [
      "\n"
     ]
    },
    {
     "name": "stdout",
     "output_type": "stream",
     "text": [
      "\n",
      "      Epoch    GPU_mem   box_loss   cls_loss   dfl_loss  Instances       Size\n"
     ]
    },
    {
     "name": "stderr",
     "output_type": "stream",
     "text": [
      "     56/100      7.16G     0.6707      0.362      1.017         16        640: 100%|██████████| 431/431 [02:27<00:00,  2.93it/s]\n",
      "                 Class     Images  Instances      Box(P          R      mAP50  mAP50-95): 100%|██████████| 31/31 [00:18<00:00,  1.67it/s]"
     ]
    },
    {
     "name": "stdout",
     "output_type": "stream",
     "text": [
      "                   all        985       1056      0.975      0.952      0.977      0.815\n"
     ]
    },
    {
     "name": "stderr",
     "output_type": "stream",
     "text": [
      "\n"
     ]
    },
    {
     "name": "stdout",
     "output_type": "stream",
     "text": [
      "\n",
      "      Epoch    GPU_mem   box_loss   cls_loss   dfl_loss  Instances       Size\n"
     ]
    },
    {
     "name": "stderr",
     "output_type": "stream",
     "text": [
      "     57/100      7.16G     0.6567     0.3539      1.009         15        640: 100%|██████████| 431/431 [02:28<00:00,  2.91it/s]\n",
      "                 Class     Images  Instances      Box(P          R      mAP50  mAP50-95): 100%|██████████| 31/31 [00:10<00:00,  3.02it/s]"
     ]
    },
    {
     "name": "stdout",
     "output_type": "stream",
     "text": [
      "                   all        985       1056      0.971      0.953       0.98      0.823\n"
     ]
    },
    {
     "name": "stderr",
     "output_type": "stream",
     "text": [
      "\n"
     ]
    },
    {
     "name": "stdout",
     "output_type": "stream",
     "text": [
      "\n",
      "      Epoch    GPU_mem   box_loss   cls_loss   dfl_loss  Instances       Size\n"
     ]
    },
    {
     "name": "stderr",
     "output_type": "stream",
     "text": [
      "     58/100      7.05G     0.6637     0.3587      1.012         15        640: 100%|██████████| 431/431 [02:27<00:00,  2.93it/s]\n",
      "                 Class     Images  Instances      Box(P          R      mAP50  mAP50-95): 100%|██████████| 31/31 [00:12<00:00,  2.44it/s]"
     ]
    },
    {
     "name": "stdout",
     "output_type": "stream",
     "text": [
      "                   all        985       1056      0.977      0.946      0.981      0.825\n"
     ]
    },
    {
     "name": "stderr",
     "output_type": "stream",
     "text": [
      "\n"
     ]
    },
    {
     "name": "stdout",
     "output_type": "stream",
     "text": [
      "\n",
      "      Epoch    GPU_mem   box_loss   cls_loss   dfl_loss  Instances       Size\n"
     ]
    },
    {
     "name": "stderr",
     "output_type": "stream",
     "text": [
      "     59/100      7.14G     0.6505     0.3489     0.9993         13        640: 100%|██████████| 431/431 [02:27<00:00,  2.93it/s]\n",
      "                 Class     Images  Instances      Box(P          R      mAP50  mAP50-95): 100%|██████████| 31/31 [00:19<00:00,  1.60it/s]"
     ]
    },
    {
     "name": "stdout",
     "output_type": "stream",
     "text": [
      "                   all        985       1056       0.98      0.953      0.982      0.829\n"
     ]
    },
    {
     "name": "stderr",
     "output_type": "stream",
     "text": [
      "\n"
     ]
    },
    {
     "name": "stdout",
     "output_type": "stream",
     "text": [
      "\n",
      "      Epoch    GPU_mem   box_loss   cls_loss   dfl_loss  Instances       Size\n"
     ]
    },
    {
     "name": "stderr",
     "output_type": "stream",
     "text": [
      "     60/100      7.15G     0.6465     0.3484     0.9983         17        640: 100%|██████████| 431/431 [02:27<00:00,  2.92it/s]\n",
      "                 Class     Images  Instances      Box(P          R      mAP50  mAP50-95): 100%|██████████| 31/31 [00:13<00:00,  2.36it/s]"
     ]
    },
    {
     "name": "stdout",
     "output_type": "stream",
     "text": [
      "                   all        985       1056      0.972      0.954      0.982      0.827\n"
     ]
    },
    {
     "name": "stderr",
     "output_type": "stream",
     "text": [
      "\n"
     ]
    },
    {
     "name": "stdout",
     "output_type": "stream",
     "text": [
      "\n",
      "      Epoch    GPU_mem   box_loss   cls_loss   dfl_loss  Instances       Size\n"
     ]
    },
    {
     "name": "stderr",
     "output_type": "stream",
     "text": [
      "     61/100      7.16G     0.6404     0.3422     0.9923         12        640: 100%|██████████| 431/431 [02:27<00:00,  2.92it/s]\n",
      "                 Class     Images  Instances      Box(P          R      mAP50  mAP50-95): 100%|██████████| 31/31 [00:29<00:00,  1.04it/s]"
     ]
    },
    {
     "name": "stdout",
     "output_type": "stream",
     "text": [
      "                   all        985       1056      0.975       0.96      0.983      0.833\n"
     ]
    },
    {
     "name": "stderr",
     "output_type": "stream",
     "text": [
      "\n"
     ]
    },
    {
     "name": "stdout",
     "output_type": "stream",
     "text": [
      "\n",
      "      Epoch    GPU_mem   box_loss   cls_loss   dfl_loss  Instances       Size\n"
     ]
    },
    {
     "name": "stderr",
     "output_type": "stream",
     "text": [
      "     62/100      7.05G     0.6345     0.3418     0.9885         19        640: 100%|██████████| 431/431 [02:27<00:00,  2.93it/s]\n",
      "                 Class     Images  Instances      Box(P          R      mAP50  mAP50-95): 100%|██████████| 31/31 [00:11<00:00,  2.75it/s]"
     ]
    },
    {
     "name": "stdout",
     "output_type": "stream",
     "text": [
      "                   all        985       1056      0.969      0.956      0.982      0.833\n"
     ]
    },
    {
     "name": "stderr",
     "output_type": "stream",
     "text": [
      "\n"
     ]
    },
    {
     "name": "stdout",
     "output_type": "stream",
     "text": [
      "\n",
      "      Epoch    GPU_mem   box_loss   cls_loss   dfl_loss  Instances       Size\n"
     ]
    },
    {
     "name": "stderr",
     "output_type": "stream",
     "text": [
      "     63/100      7.15G      0.615     0.3289     0.9827         17        640: 100%|██████████| 431/431 [02:27<00:00,  2.93it/s]\n",
      "                 Class     Images  Instances      Box(P          R      mAP50  mAP50-95): 100%|██████████| 31/31 [00:13<00:00,  2.34it/s]"
     ]
    },
    {
     "name": "stdout",
     "output_type": "stream",
     "text": [
      "                   all        985       1056      0.979      0.949      0.982      0.834\n"
     ]
    },
    {
     "name": "stderr",
     "output_type": "stream",
     "text": [
      "\n"
     ]
    },
    {
     "name": "stdout",
     "output_type": "stream",
     "text": [
      "\n",
      "      Epoch    GPU_mem   box_loss   cls_loss   dfl_loss  Instances       Size\n"
     ]
    },
    {
     "name": "stderr",
     "output_type": "stream",
     "text": [
      "     64/100      7.15G     0.6133     0.3307     0.9835         13        640: 100%|██████████| 431/431 [02:27<00:00,  2.92it/s]\n",
      "                 Class     Images  Instances      Box(P          R      mAP50  mAP50-95): 100%|██████████| 31/31 [00:13<00:00,  2.24it/s]"
     ]
    },
    {
     "name": "stdout",
     "output_type": "stream",
     "text": [
      "                   all        985       1056      0.968       0.96      0.982      0.835\n"
     ]
    },
    {
     "name": "stderr",
     "output_type": "stream",
     "text": [
      "\n"
     ]
    },
    {
     "name": "stdout",
     "output_type": "stream",
     "text": [
      "\n",
      "      Epoch    GPU_mem   box_loss   cls_loss   dfl_loss  Instances       Size\n"
     ]
    },
    {
     "name": "stderr",
     "output_type": "stream",
     "text": [
      "     65/100      7.17G     0.6076     0.3275     0.9792         16        640: 100%|██████████| 431/431 [02:27<00:00,  2.93it/s]\n",
      "                 Class     Images  Instances      Box(P          R      mAP50  mAP50-95): 100%|██████████| 31/31 [00:10<00:00,  3.02it/s]"
     ]
    },
    {
     "name": "stdout",
     "output_type": "stream",
     "text": [
      "                   all        985       1056      0.969      0.953      0.981       0.84\n"
     ]
    },
    {
     "name": "stderr",
     "output_type": "stream",
     "text": [
      "\n"
     ]
    },
    {
     "name": "stdout",
     "output_type": "stream",
     "text": [
      "\n",
      "      Epoch    GPU_mem   box_loss   cls_loss   dfl_loss  Instances       Size\n"
     ]
    },
    {
     "name": "stderr",
     "output_type": "stream",
     "text": [
      "     66/100      7.05G     0.6066     0.3262     0.9834         17        640: 100%|██████████| 431/431 [02:27<00:00,  2.93it/s]\n",
      "                 Class     Images  Instances      Box(P          R      mAP50  mAP50-95): 100%|██████████| 31/31 [00:12<00:00,  2.49it/s]"
     ]
    },
    {
     "name": "stdout",
     "output_type": "stream",
     "text": [
      "                   all        985       1056      0.978      0.947      0.981      0.838\n"
     ]
    },
    {
     "name": "stderr",
     "output_type": "stream",
     "text": [
      "\n"
     ]
    },
    {
     "name": "stdout",
     "output_type": "stream",
     "text": [
      "\n",
      "      Epoch    GPU_mem   box_loss   cls_loss   dfl_loss  Instances       Size\n"
     ]
    },
    {
     "name": "stderr",
     "output_type": "stream",
     "text": [
      "     67/100      7.15G     0.5962     0.3193     0.9733         17        640: 100%|██████████| 431/431 [02:27<00:00,  2.93it/s]\n",
      "                 Class     Images  Instances      Box(P          R      mAP50  mAP50-95): 100%|██████████| 31/31 [00:19<00:00,  1.60it/s]"
     ]
    },
    {
     "name": "stdout",
     "output_type": "stream",
     "text": [
      "                   all        985       1056       0.98      0.955      0.983      0.839\n"
     ]
    },
    {
     "name": "stderr",
     "output_type": "stream",
     "text": [
      "\n"
     ]
    },
    {
     "name": "stdout",
     "output_type": "stream",
     "text": [
      "\n",
      "      Epoch    GPU_mem   box_loss   cls_loss   dfl_loss  Instances       Size\n"
     ]
    },
    {
     "name": "stderr",
     "output_type": "stream",
     "text": [
      "     68/100      7.15G     0.5922     0.3162      0.972         15        640: 100%|██████████| 431/431 [02:27<00:00,  2.92it/s]\n",
      "                 Class     Images  Instances      Box(P          R      mAP50  mAP50-95): 100%|██████████| 31/31 [00:16<00:00,  1.92it/s]"
     ]
    },
    {
     "name": "stdout",
     "output_type": "stream",
     "text": [
      "                   all        985       1056      0.983      0.951      0.984      0.842\n"
     ]
    },
    {
     "name": "stderr",
     "output_type": "stream",
     "text": [
      "\n"
     ]
    },
    {
     "name": "stdout",
     "output_type": "stream",
     "text": [
      "\n",
      "      Epoch    GPU_mem   box_loss   cls_loss   dfl_loss  Instances       Size\n"
     ]
    },
    {
     "name": "stderr",
     "output_type": "stream",
     "text": [
      "     69/100      7.16G     0.5824     0.3158     0.9696         10        640: 100%|██████████| 431/431 [02:27<00:00,  2.93it/s]\n",
      "                 Class     Images  Instances      Box(P          R      mAP50  mAP50-95): 100%|██████████| 31/31 [00:11<00:00,  2.67it/s]"
     ]
    },
    {
     "name": "stdout",
     "output_type": "stream",
     "text": [
      "                   all        985       1056      0.981      0.953      0.983      0.844\n"
     ]
    },
    {
     "name": "stderr",
     "output_type": "stream",
     "text": [
      "\n"
     ]
    },
    {
     "name": "stdout",
     "output_type": "stream",
     "text": [
      "\n",
      "      Epoch    GPU_mem   box_loss   cls_loss   dfl_loss  Instances       Size\n"
     ]
    },
    {
     "name": "stderr",
     "output_type": "stream",
     "text": [
      "     70/100      7.05G     0.5821     0.3136     0.9677         10        640: 100%|██████████| 431/431 [02:27<00:00,  2.92it/s]\n",
      "                 Class     Images  Instances      Box(P          R      mAP50  mAP50-95): 100%|██████████| 31/31 [00:10<00:00,  2.90it/s]"
     ]
    },
    {
     "name": "stdout",
     "output_type": "stream",
     "text": [
      "                   all        985       1056      0.986       0.95      0.983      0.848\n"
     ]
    },
    {
     "name": "stderr",
     "output_type": "stream",
     "text": [
      "\n"
     ]
    },
    {
     "name": "stdout",
     "output_type": "stream",
     "text": [
      "\n",
      "      Epoch    GPU_mem   box_loss   cls_loss   dfl_loss  Instances       Size\n"
     ]
    },
    {
     "name": "stderr",
     "output_type": "stream",
     "text": [
      "     71/100      7.15G      0.563      0.304     0.9578         21        640: 100%|██████████| 431/431 [02:27<00:00,  2.93it/s]\n",
      "                 Class     Images  Instances      Box(P          R      mAP50  mAP50-95): 100%|██████████| 31/31 [00:14<00:00,  2.10it/s]"
     ]
    },
    {
     "name": "stdout",
     "output_type": "stream",
     "text": [
      "                   all        985       1056       0.98      0.947       0.98      0.845\n"
     ]
    },
    {
     "name": "stderr",
     "output_type": "stream",
     "text": [
      "\n"
     ]
    },
    {
     "name": "stdout",
     "output_type": "stream",
     "text": [
      "\n",
      "      Epoch    GPU_mem   box_loss   cls_loss   dfl_loss  Instances       Size\n"
     ]
    },
    {
     "name": "stderr",
     "output_type": "stream",
     "text": [
      "     72/100      7.13G     0.5676     0.3058     0.9614         16        640: 100%|██████████| 431/431 [02:27<00:00,  2.92it/s]\n",
      "                 Class     Images  Instances      Box(P          R      mAP50  mAP50-95): 100%|██████████| 31/31 [00:12<00:00,  2.39it/s]"
     ]
    },
    {
     "name": "stdout",
     "output_type": "stream",
     "text": [
      "                   all        985       1056       0.98      0.956      0.982       0.85\n"
     ]
    },
    {
     "name": "stderr",
     "output_type": "stream",
     "text": [
      "\n"
     ]
    },
    {
     "name": "stdout",
     "output_type": "stream",
     "text": [
      "\n",
      "      Epoch    GPU_mem   box_loss   cls_loss   dfl_loss  Instances       Size\n"
     ]
    },
    {
     "name": "stderr",
     "output_type": "stream",
     "text": [
      "     73/100      7.15G     0.5557     0.3045     0.9621         10        640: 100%|██████████| 431/431 [02:27<00:00,  2.92it/s]\n",
      "                 Class     Images  Instances      Box(P          R      mAP50  mAP50-95): 100%|██████████| 31/31 [00:39<00:00,  1.26s/it]"
     ]
    },
    {
     "name": "stdout",
     "output_type": "stream",
     "text": [
      "                   all        985       1056      0.983      0.957      0.983       0.85\n"
     ]
    },
    {
     "name": "stderr",
     "output_type": "stream",
     "text": [
      "\n"
     ]
    },
    {
     "name": "stdout",
     "output_type": "stream",
     "text": [
      "\n",
      "      Epoch    GPU_mem   box_loss   cls_loss   dfl_loss  Instances       Size\n"
     ]
    },
    {
     "name": "stderr",
     "output_type": "stream",
     "text": [
      "     74/100      7.05G     0.5551     0.3007     0.9578          8        640: 100%|██████████| 431/431 [02:33<00:00,  2.80it/s]\n",
      "                 Class     Images  Instances      Box(P          R      mAP50  mAP50-95): 100%|██████████| 31/31 [00:14<00:00,  2.18it/s]"
     ]
    },
    {
     "name": "stdout",
     "output_type": "stream",
     "text": [
      "                   all        985       1056      0.976      0.952      0.984       0.85\n"
     ]
    },
    {
     "name": "stderr",
     "output_type": "stream",
     "text": [
      "\n"
     ]
    },
    {
     "name": "stdout",
     "output_type": "stream",
     "text": [
      "\n",
      "      Epoch    GPU_mem   box_loss   cls_loss   dfl_loss  Instances       Size\n"
     ]
    },
    {
     "name": "stderr",
     "output_type": "stream",
     "text": [
      "     75/100      7.16G     0.5415     0.2916     0.9552         20        640: 100%|██████████| 431/431 [02:33<00:00,  2.80it/s]\n",
      "                 Class     Images  Instances      Box(P          R      mAP50  mAP50-95): 100%|██████████| 31/31 [00:21<00:00,  1.48it/s]"
     ]
    },
    {
     "name": "stdout",
     "output_type": "stream",
     "text": [
      "                   all        985       1056       0.98      0.953      0.985      0.855\n"
     ]
    },
    {
     "name": "stderr",
     "output_type": "stream",
     "text": [
      "\n"
     ]
    },
    {
     "name": "stdout",
     "output_type": "stream",
     "text": [
      "\n",
      "      Epoch    GPU_mem   box_loss   cls_loss   dfl_loss  Instances       Size\n"
     ]
    },
    {
     "name": "stderr",
     "output_type": "stream",
     "text": [
      "     76/100      7.15G     0.5381     0.2881     0.9462         16        640: 100%|██████████| 431/431 [02:34<00:00,  2.80it/s]\n",
      "                 Class     Images  Instances      Box(P          R      mAP50  mAP50-95): 100%|██████████| 31/31 [00:13<00:00,  2.22it/s]"
     ]
    },
    {
     "name": "stdout",
     "output_type": "stream",
     "text": [
      "                   all        985       1056      0.977      0.952      0.984      0.853\n"
     ]
    },
    {
     "name": "stderr",
     "output_type": "stream",
     "text": [
      "\n"
     ]
    },
    {
     "name": "stdout",
     "output_type": "stream",
     "text": [
      "\n",
      "      Epoch    GPU_mem   box_loss   cls_loss   dfl_loss  Instances       Size\n"
     ]
    },
    {
     "name": "stderr",
     "output_type": "stream",
     "text": [
      "     77/100      7.15G     0.5336     0.2885     0.9513         19        640: 100%|██████████| 431/431 [02:33<00:00,  2.81it/s]\n",
      "                 Class     Images  Instances      Box(P          R      mAP50  mAP50-95): 100%|██████████| 31/31 [05:45<00:00, 11.16s/it]"
     ]
    },
    {
     "name": "stdout",
     "output_type": "stream",
     "text": [
      "                   all        985       1056      0.977      0.954      0.984      0.859\n"
     ]
    },
    {
     "name": "stderr",
     "output_type": "stream",
     "text": [
      "\n"
     ]
    },
    {
     "name": "stdout",
     "output_type": "stream",
     "text": [
      "\n",
      "      Epoch    GPU_mem   box_loss   cls_loss   dfl_loss  Instances       Size\n"
     ]
    },
    {
     "name": "stderr",
     "output_type": "stream",
     "text": [
      "     78/100      7.05G     0.5242     0.2841     0.9443         14        640: 100%|██████████| 431/431 [02:27<00:00,  2.93it/s]\n",
      "                 Class     Images  Instances      Box(P          R      mAP50  mAP50-95): 100%|██████████| 31/31 [00:12<00:00,  2.55it/s]"
     ]
    },
    {
     "name": "stdout",
     "output_type": "stream",
     "text": [
      "                   all        985       1056      0.983      0.951      0.984      0.859\n"
     ]
    },
    {
     "name": "stderr",
     "output_type": "stream",
     "text": [
      "\n"
     ]
    },
    {
     "name": "stdout",
     "output_type": "stream",
     "text": [
      "\n",
      "      Epoch    GPU_mem   box_loss   cls_loss   dfl_loss  Instances       Size\n"
     ]
    },
    {
     "name": "stderr",
     "output_type": "stream",
     "text": [
      "     79/100      7.16G     0.5263     0.2839     0.9444         15        640: 100%|██████████| 431/431 [02:35<00:00,  2.76it/s]\n",
      "                 Class     Images  Instances      Box(P          R      mAP50  mAP50-95): 100%|██████████| 31/31 [00:23<00:00,  1.34it/s]"
     ]
    },
    {
     "name": "stdout",
     "output_type": "stream",
     "text": [
      "                   all        985       1056      0.983      0.949      0.985      0.858\n"
     ]
    },
    {
     "name": "stderr",
     "output_type": "stream",
     "text": [
      "\n"
     ]
    },
    {
     "name": "stdout",
     "output_type": "stream",
     "text": [
      "\n",
      "      Epoch    GPU_mem   box_loss   cls_loss   dfl_loss  Instances       Size\n"
     ]
    },
    {
     "name": "stderr",
     "output_type": "stream",
     "text": [
      "     80/100      7.14G     0.5167     0.2787     0.9361         11        640: 100%|██████████| 431/431 [02:40<00:00,  2.69it/s]\n",
      "                 Class     Images  Instances      Box(P          R      mAP50  mAP50-95): 100%|██████████| 31/31 [00:15<00:00,  1.99it/s]"
     ]
    },
    {
     "name": "stdout",
     "output_type": "stream",
     "text": [
      "                   all        985       1056      0.983      0.949      0.986      0.858\n"
     ]
    },
    {
     "name": "stderr",
     "output_type": "stream",
     "text": [
      "\n"
     ]
    },
    {
     "name": "stdout",
     "output_type": "stream",
     "text": [
      "\n",
      "      Epoch    GPU_mem   box_loss   cls_loss   dfl_loss  Instances       Size\n"
     ]
    },
    {
     "name": "stderr",
     "output_type": "stream",
     "text": [
      "     81/100      7.16G     0.5102     0.2775     0.9354         18        640: 100%|██████████| 431/431 [02:36<00:00,  2.75it/s]\n",
      "                 Class     Images  Instances      Box(P          R      mAP50  mAP50-95): 100%|██████████| 31/31 [00:17<00:00,  1.82it/s]"
     ]
    },
    {
     "name": "stdout",
     "output_type": "stream",
     "text": [
      "                   all        985       1056      0.981      0.951      0.984      0.858\n"
     ]
    },
    {
     "name": "stderr",
     "output_type": "stream",
     "text": [
      "\n"
     ]
    },
    {
     "name": "stdout",
     "output_type": "stream",
     "text": [
      "\n",
      "      Epoch    GPU_mem   box_loss   cls_loss   dfl_loss  Instances       Size\n"
     ]
    },
    {
     "name": "stderr",
     "output_type": "stream",
     "text": [
      "     82/100      7.05G     0.5023     0.2751     0.9354         17        640: 100%|██████████| 431/431 [02:30<00:00,  2.86it/s]\n",
      "                 Class     Images  Instances      Box(P          R      mAP50  mAP50-95): 100%|██████████| 31/31 [00:14<00:00,  2.16it/s]"
     ]
    },
    {
     "name": "stdout",
     "output_type": "stream",
     "text": [
      "                   all        985       1056       0.98      0.956      0.986       0.86\n"
     ]
    },
    {
     "name": "stderr",
     "output_type": "stream",
     "text": [
      "\n"
     ]
    },
    {
     "name": "stdout",
     "output_type": "stream",
     "text": [
      "\n",
      "      Epoch    GPU_mem   box_loss   cls_loss   dfl_loss  Instances       Size\n"
     ]
    },
    {
     "name": "stderr",
     "output_type": "stream",
     "text": [
      "     83/100      7.16G     0.4961     0.2711     0.9296         19        640: 100%|██████████| 431/431 [02:29<00:00,  2.88it/s]\n",
      "                 Class     Images  Instances      Box(P          R      mAP50  mAP50-95): 100%|██████████| 31/31 [00:39<00:00,  1.28s/it]"
     ]
    },
    {
     "name": "stdout",
     "output_type": "stream",
     "text": [
      "                   all        985       1056      0.984       0.95      0.987      0.862\n"
     ]
    },
    {
     "name": "stderr",
     "output_type": "stream",
     "text": [
      "\n"
     ]
    },
    {
     "name": "stdout",
     "output_type": "stream",
     "text": [
      "\n",
      "      Epoch    GPU_mem   box_loss   cls_loss   dfl_loss  Instances       Size\n"
     ]
    },
    {
     "name": "stderr",
     "output_type": "stream",
     "text": [
      "     84/100      7.16G       0.49     0.2669     0.9303         23        640: 100%|██████████| 431/431 [02:37<00:00,  2.74it/s]\n",
      "                 Class     Images  Instances      Box(P          R      mAP50  mAP50-95): 100%|██████████| 31/31 [00:17<00:00,  1.82it/s]"
     ]
    },
    {
     "name": "stdout",
     "output_type": "stream",
     "text": [
      "                   all        985       1056      0.983      0.947      0.983       0.86\n"
     ]
    },
    {
     "name": "stderr",
     "output_type": "stream",
     "text": [
      "\n"
     ]
    },
    {
     "name": "stdout",
     "output_type": "stream",
     "text": [
      "\n",
      "      Epoch    GPU_mem   box_loss   cls_loss   dfl_loss  Instances       Size\n"
     ]
    },
    {
     "name": "stderr",
     "output_type": "stream",
     "text": [
      "     85/100      7.17G     0.4841     0.2627      0.923         13        640: 100%|██████████| 431/431 [02:35<00:00,  2.77it/s]\n",
      "                 Class     Images  Instances      Box(P          R      mAP50  mAP50-95): 100%|██████████| 31/31 [00:15<00:00,  1.96it/s]"
     ]
    },
    {
     "name": "stdout",
     "output_type": "stream",
     "text": [
      "                   all        985       1056      0.985      0.947      0.983      0.862\n"
     ]
    },
    {
     "name": "stderr",
     "output_type": "stream",
     "text": [
      "\n"
     ]
    },
    {
     "name": "stdout",
     "output_type": "stream",
     "text": [
      "\n",
      "      Epoch    GPU_mem   box_loss   cls_loss   dfl_loss  Instances       Size\n"
     ]
    },
    {
     "name": "stderr",
     "output_type": "stream",
     "text": [
      "     86/100      7.04G      0.478     0.2598     0.9232         17        640: 100%|██████████| 431/431 [02:34<00:00,  2.78it/s]\n",
      "                 Class     Images  Instances      Box(P          R      mAP50  mAP50-95): 100%|██████████| 31/31 [00:12<00:00,  2.58it/s]"
     ]
    },
    {
     "name": "stdout",
     "output_type": "stream",
     "text": [
      "                   all        985       1056      0.987      0.947      0.983      0.864\n"
     ]
    },
    {
     "name": "stderr",
     "output_type": "stream",
     "text": [
      "\n"
     ]
    },
    {
     "name": "stdout",
     "output_type": "stream",
     "text": [
      "\n",
      "      Epoch    GPU_mem   box_loss   cls_loss   dfl_loss  Instances       Size\n"
     ]
    },
    {
     "name": "stderr",
     "output_type": "stream",
     "text": [
      "     87/100      7.15G     0.4724     0.2545     0.9214         17        640: 100%|██████████| 431/431 [02:37<00:00,  2.74it/s]\n",
      "                 Class     Images  Instances      Box(P          R      mAP50  mAP50-95): 100%|██████████| 31/31 [00:19<00:00,  1.56it/s]"
     ]
    },
    {
     "name": "stdout",
     "output_type": "stream",
     "text": [
      "                   all        985       1056      0.974      0.957      0.987      0.866\n"
     ]
    },
    {
     "name": "stderr",
     "output_type": "stream",
     "text": [
      "\n"
     ]
    },
    {
     "name": "stdout",
     "output_type": "stream",
     "text": [
      "\n",
      "      Epoch    GPU_mem   box_loss   cls_loss   dfl_loss  Instances       Size\n"
     ]
    },
    {
     "name": "stderr",
     "output_type": "stream",
     "text": [
      "     88/100      7.13G     0.4693      0.255     0.9189         13        640: 100%|██████████| 431/431 [02:35<00:00,  2.77it/s]\n",
      "                 Class     Images  Instances      Box(P          R      mAP50  mAP50-95): 100%|██████████| 31/31 [00:15<00:00,  1.97it/s]"
     ]
    },
    {
     "name": "stdout",
     "output_type": "stream",
     "text": [
      "                   all        985       1056      0.974      0.955      0.983      0.865\n"
     ]
    },
    {
     "name": "stderr",
     "output_type": "stream",
     "text": [
      "\n"
     ]
    },
    {
     "name": "stdout",
     "output_type": "stream",
     "text": [
      "\n",
      "      Epoch    GPU_mem   box_loss   cls_loss   dfl_loss  Instances       Size\n"
     ]
    },
    {
     "name": "stderr",
     "output_type": "stream",
     "text": [
      "     89/100      7.15G     0.4638     0.2534      0.919          9        640: 100%|██████████| 431/431 [02:34<00:00,  2.79it/s]\n",
      "                 Class     Images  Instances      Box(P          R      mAP50  mAP50-95): 100%|██████████| 31/31 [00:15<00:00,  1.94it/s]"
     ]
    },
    {
     "name": "stdout",
     "output_type": "stream",
     "text": [
      "                   all        985       1056      0.978      0.955      0.983      0.865\n"
     ]
    },
    {
     "name": "stderr",
     "output_type": "stream",
     "text": [
      "\n"
     ]
    },
    {
     "name": "stdout",
     "output_type": "stream",
     "text": [
      "\n",
      "      Epoch    GPU_mem   box_loss   cls_loss   dfl_loss  Instances       Size\n"
     ]
    },
    {
     "name": "stderr",
     "output_type": "stream",
     "text": [
      "     90/100      7.05G     0.4505     0.2453     0.9114         20        640: 100%|██████████| 431/431 [02:32<00:00,  2.82it/s]\n",
      "                 Class     Images  Instances      Box(P          R      mAP50  mAP50-95): 100%|██████████| 31/31 [00:15<00:00,  1.99it/s]"
     ]
    },
    {
     "name": "stdout",
     "output_type": "stream",
     "text": [
      "                   all        985       1056      0.976      0.958      0.985      0.865\n"
     ]
    },
    {
     "name": "stderr",
     "output_type": "stream",
     "text": [
      "\n"
     ]
    },
    {
     "name": "stdout",
     "output_type": "stream",
     "text": [
      "Closing dataloader mosaic\n",
      "\n",
      "      Epoch    GPU_mem   box_loss   cls_loss   dfl_loss  Instances       Size\n"
     ]
    },
    {
     "name": "stderr",
     "output_type": "stream",
     "text": [
      "     91/100      7.17G     0.4189     0.2076     0.8747          8        640: 100%|██████████| 431/431 [02:32<00:00,  2.83it/s]\n",
      "                 Class     Images  Instances      Box(P          R      mAP50  mAP50-95): 100%|██████████| 31/31 [00:13<00:00,  2.35it/s]"
     ]
    },
    {
     "name": "stdout",
     "output_type": "stream",
     "text": [
      "                   all        985       1056      0.973       0.96      0.986      0.866\n"
     ]
    },
    {
     "name": "stderr",
     "output_type": "stream",
     "text": [
      "\n"
     ]
    },
    {
     "name": "stdout",
     "output_type": "stream",
     "text": [
      "\n",
      "      Epoch    GPU_mem   box_loss   cls_loss   dfl_loss  Instances       Size\n"
     ]
    },
    {
     "name": "stderr",
     "output_type": "stream",
     "text": [
      "     92/100      7.14G     0.4003     0.2014     0.8599          8        640: 100%|██████████| 431/431 [02:35<00:00,  2.78it/s]\n",
      "                 Class     Images  Instances      Box(P          R      mAP50  mAP50-95): 100%|██████████| 31/31 [00:17<00:00,  1.76it/s]"
     ]
    },
    {
     "name": "stdout",
     "output_type": "stream",
     "text": [
      "                   all        985       1056      0.977      0.956      0.985      0.869\n"
     ]
    },
    {
     "name": "stderr",
     "output_type": "stream",
     "text": [
      "\n"
     ]
    },
    {
     "name": "stdout",
     "output_type": "stream",
     "text": [
      "\n",
      "      Epoch    GPU_mem   box_loss   cls_loss   dfl_loss  Instances       Size\n"
     ]
    },
    {
     "name": "stderr",
     "output_type": "stream",
     "text": [
      "     93/100      7.15G     0.3916     0.1971     0.8597          8        640: 100%|██████████| 431/431 [02:31<00:00,  2.84it/s]\n",
      "                 Class     Images  Instances      Box(P          R      mAP50  mAP50-95): 100%|██████████| 31/31 [00:31<00:00,  1.03s/it]"
     ]
    },
    {
     "name": "stdout",
     "output_type": "stream",
     "text": [
      "                   all        985       1056      0.981      0.954      0.985      0.872\n"
     ]
    },
    {
     "name": "stderr",
     "output_type": "stream",
     "text": [
      "\n"
     ]
    },
    {
     "name": "stdout",
     "output_type": "stream",
     "text": [
      "\n",
      "      Epoch    GPU_mem   box_loss   cls_loss   dfl_loss  Instances       Size\n"
     ]
    },
    {
     "name": "stderr",
     "output_type": "stream",
     "text": [
      "     94/100      7.05G     0.3819     0.1922     0.8544          8        640: 100%|██████████| 431/431 [02:34<00:00,  2.80it/s]\n",
      "                 Class     Images  Instances      Box(P          R      mAP50  mAP50-95): 100%|██████████| 31/31 [00:14<00:00,  2.17it/s]"
     ]
    },
    {
     "name": "stdout",
     "output_type": "stream",
     "text": [
      "                   all        985       1056       0.98      0.954      0.985      0.874\n"
     ]
    },
    {
     "name": "stderr",
     "output_type": "stream",
     "text": [
      "\n"
     ]
    },
    {
     "name": "stdout",
     "output_type": "stream",
     "text": [
      "\n",
      "      Epoch    GPU_mem   box_loss   cls_loss   dfl_loss  Instances       Size\n"
     ]
    },
    {
     "name": "stderr",
     "output_type": "stream",
     "text": [
      "     95/100      7.15G     0.3746     0.1913     0.8547          8        640: 100%|██████████| 431/431 [02:33<00:00,  2.81it/s]\n",
      "                 Class     Images  Instances      Box(P          R      mAP50  mAP50-95): 100%|██████████| 31/31 [00:19<00:00,  1.62it/s]"
     ]
    },
    {
     "name": "stdout",
     "output_type": "stream",
     "text": [
      "                   all        985       1056      0.978      0.952      0.985      0.873\n"
     ]
    },
    {
     "name": "stderr",
     "output_type": "stream",
     "text": [
      "\n"
     ]
    },
    {
     "name": "stdout",
     "output_type": "stream",
     "text": [
      "\n",
      "      Epoch    GPU_mem   box_loss   cls_loss   dfl_loss  Instances       Size\n"
     ]
    },
    {
     "name": "stderr",
     "output_type": "stream",
     "text": [
      "     96/100      7.14G     0.3683     0.1881     0.8503          7        640: 100%|██████████| 431/431 [02:35<00:00,  2.77it/s]\n",
      "                 Class     Images  Instances      Box(P          R      mAP50  mAP50-95): 100%|██████████| 31/31 [00:17<00:00,  1.78it/s]"
     ]
    },
    {
     "name": "stdout",
     "output_type": "stream",
     "text": [
      "                   all        985       1056       0.98      0.952      0.985      0.874\n"
     ]
    },
    {
     "name": "stderr",
     "output_type": "stream",
     "text": [
      "\n"
     ]
    },
    {
     "name": "stdout",
     "output_type": "stream",
     "text": [
      "\n",
      "      Epoch    GPU_mem   box_loss   cls_loss   dfl_loss  Instances       Size\n"
     ]
    },
    {
     "name": "stderr",
     "output_type": "stream",
     "text": [
      "     97/100      7.16G     0.3635     0.1833     0.8497          8        640: 100%|██████████| 431/431 [02:32<00:00,  2.82it/s]\n",
      "                 Class     Images  Instances      Box(P          R      mAP50  mAP50-95): 100%|██████████| 31/31 [00:46<00:00,  1.49s/it]"
     ]
    },
    {
     "name": "stdout",
     "output_type": "stream",
     "text": [
      "                   all        985       1056      0.981      0.952      0.985      0.873\n"
     ]
    },
    {
     "name": "stderr",
     "output_type": "stream",
     "text": [
      "\n"
     ]
    },
    {
     "name": "stdout",
     "output_type": "stream",
     "text": [
      "\n",
      "      Epoch    GPU_mem   box_loss   cls_loss   dfl_loss  Instances       Size\n"
     ]
    },
    {
     "name": "stderr",
     "output_type": "stream",
     "text": [
      "     98/100      7.07G     0.3564     0.1814     0.8505          8        640: 100%|██████████| 431/431 [02:32<00:00,  2.82it/s]\n",
      "                 Class     Images  Instances      Box(P          R      mAP50  mAP50-95): 100%|██████████| 31/31 [00:20<00:00,  1.53it/s]"
     ]
    },
    {
     "name": "stdout",
     "output_type": "stream",
     "text": [
      "                   all        985       1056      0.975      0.956      0.987      0.874\n"
     ]
    },
    {
     "name": "stderr",
     "output_type": "stream",
     "text": [
      "\n"
     ]
    },
    {
     "name": "stdout",
     "output_type": "stream",
     "text": [
      "\n",
      "      Epoch    GPU_mem   box_loss   cls_loss   dfl_loss  Instances       Size\n"
     ]
    },
    {
     "name": "stderr",
     "output_type": "stream",
     "text": [
      "     99/100      7.14G     0.3501     0.1774     0.8511          8        640: 100%|██████████| 431/431 [02:32<00:00,  2.82it/s]\n",
      "                 Class     Images  Instances      Box(P          R      mAP50  mAP50-95): 100%|██████████| 31/31 [00:24<00:00,  1.28it/s]"
     ]
    },
    {
     "name": "stdout",
     "output_type": "stream",
     "text": [
      "                   all        985       1056       0.98      0.955      0.987      0.874\n"
     ]
    },
    {
     "name": "stderr",
     "output_type": "stream",
     "text": [
      "\n"
     ]
    },
    {
     "name": "stdout",
     "output_type": "stream",
     "text": [
      "\n",
      "      Epoch    GPU_mem   box_loss   cls_loss   dfl_loss  Instances       Size\n"
     ]
    },
    {
     "name": "stderr",
     "output_type": "stream",
     "text": [
      "    100/100      7.15G     0.3463     0.1762     0.8475          8        640: 100%|██████████| 431/431 [02:33<00:00,  2.81it/s]\n",
      "                 Class     Images  Instances      Box(P          R      mAP50  mAP50-95): 100%|██████████| 31/31 [00:16<00:00,  1.89it/s]"
     ]
    },
    {
     "name": "stdout",
     "output_type": "stream",
     "text": [
      "                   all        985       1056       0.98      0.956      0.986      0.874\n"
     ]
    },
    {
     "name": "stderr",
     "output_type": "stream",
     "text": [
      "\n"
     ]
    },
    {
     "name": "stdout",
     "output_type": "stream",
     "text": [
      "\n",
      "46 epochs completed in 2.271 hours.\n",
      "Optimizer stripped from e:\\Default_Apps\\Desktop\\Development\\_School\\FYP\\C300_AIFirstResponders\\server\\fire_detection_ai\\scripts\\..\\runs\\detect\\train\\weights\\last.pt, 52.0MB\n",
      "Optimizer stripped from e:\\Default_Apps\\Desktop\\Development\\_School\\FYP\\C300_AIFirstResponders\\server\\fire_detection_ai\\scripts\\..\\runs\\detect\\train\\weights\\best.pt, 52.0MB\n",
      "\n",
      "Validating e:\\Default_Apps\\Desktop\\Development\\_School\\FYP\\C300_AIFirstResponders\\server\\fire_detection_ai\\scripts\\..\\runs\\detect\\train\\weights\\best.pt...\n",
      "Ultralytics YOLOv8.2.51  Python-3.12.4 torch-2.3.1+cu121 CUDA:0 (NVIDIA GeForce RTX 4070 Laptop GPU, 8188MiB)\n",
      "Model summary (fused): 218 layers, 25840339 parameters, 0 gradients, 78.7 GFLOPs\n"
     ]
    },
    {
     "name": "stderr",
     "output_type": "stream",
     "text": [
      "                 Class     Images  Instances      Box(P          R      mAP50  mAP50-95): 100%|██████████| 31/31 [00:07<00:00,  4.17it/s]\n"
     ]
    },
    {
     "name": "stdout",
     "output_type": "stream",
     "text": [
      "                   all        985       1056       0.98      0.955      0.987      0.874\n",
      "Speed: 0.2ms preprocess, 5.0ms inference, 0.0ms loss, 0.5ms postprocess per image\n",
      "Results saved to \u001b[1me:\\Default_Apps\\Desktop\\Development\\_School\\FYP\\C300_AIFirstResponders\\server\\fire_detection_ai\\scripts\\..\\runs\\detect\\train\u001b[0m\n"
     ]
    },
    {
     "data": {
      "text/plain": [
       "ultralytics.utils.metrics.DetMetrics object with attributes:\n",
       "\n",
       "ap_class_index: array([0])\n",
       "box: ultralytics.utils.metrics.Metric object\n",
       "confusion_matrix: <ultralytics.utils.metrics.ConfusionMatrix object at 0x000002001E661070>\n",
       "curves: ['Precision-Recall(B)', 'F1-Confidence(B)', 'Precision-Confidence(B)', 'Recall-Confidence(B)']\n",
       "curves_results: [[array([          0,    0.001001,    0.002002,    0.003003,    0.004004,    0.005005,    0.006006,    0.007007,    0.008008,    0.009009,     0.01001,    0.011011,    0.012012,    0.013013,    0.014014,    0.015015,    0.016016,    0.017017,    0.018018,    0.019019,     0.02002,    0.021021,    0.022022,    0.023023,\n",
       "          0.024024,    0.025025,    0.026026,    0.027027,    0.028028,    0.029029,     0.03003,    0.031031,    0.032032,    0.033033,    0.034034,    0.035035,    0.036036,    0.037037,    0.038038,    0.039039,     0.04004,    0.041041,    0.042042,    0.043043,    0.044044,    0.045045,    0.046046,    0.047047,\n",
       "          0.048048,    0.049049,     0.05005,    0.051051,    0.052052,    0.053053,    0.054054,    0.055055,    0.056056,    0.057057,    0.058058,    0.059059,     0.06006,    0.061061,    0.062062,    0.063063,    0.064064,    0.065065,    0.066066,    0.067067,    0.068068,    0.069069,     0.07007,    0.071071,\n",
       "          0.072072,    0.073073,    0.074074,    0.075075,    0.076076,    0.077077,    0.078078,    0.079079,     0.08008,    0.081081,    0.082082,    0.083083,    0.084084,    0.085085,    0.086086,    0.087087,    0.088088,    0.089089,     0.09009,    0.091091,    0.092092,    0.093093,    0.094094,    0.095095,\n",
       "          0.096096,    0.097097,    0.098098,    0.099099,      0.1001,      0.1011,      0.1021,      0.1031,      0.1041,     0.10511,     0.10611,     0.10711,     0.10811,     0.10911,     0.11011,     0.11111,     0.11211,     0.11311,     0.11411,     0.11512,     0.11612,     0.11712,     0.11812,     0.11912,\n",
       "           0.12012,     0.12112,     0.12212,     0.12312,     0.12412,     0.12513,     0.12613,     0.12713,     0.12813,     0.12913,     0.13013,     0.13113,     0.13213,     0.13313,     0.13413,     0.13514,     0.13614,     0.13714,     0.13814,     0.13914,     0.14014,     0.14114,     0.14214,     0.14314,\n",
       "           0.14414,     0.14515,     0.14615,     0.14715,     0.14815,     0.14915,     0.15015,     0.15115,     0.15215,     0.15315,     0.15415,     0.15516,     0.15616,     0.15716,     0.15816,     0.15916,     0.16016,     0.16116,     0.16216,     0.16316,     0.16416,     0.16517,     0.16617,     0.16717,\n",
       "           0.16817,     0.16917,     0.17017,     0.17117,     0.17217,     0.17317,     0.17417,     0.17518,     0.17618,     0.17718,     0.17818,     0.17918,     0.18018,     0.18118,     0.18218,     0.18318,     0.18418,     0.18519,     0.18619,     0.18719,     0.18819,     0.18919,     0.19019,     0.19119,\n",
       "           0.19219,     0.19319,     0.19419,      0.1952,      0.1962,      0.1972,      0.1982,      0.1992,      0.2002,      0.2012,      0.2022,      0.2032,      0.2042,     0.20521,     0.20621,     0.20721,     0.20821,     0.20921,     0.21021,     0.21121,     0.21221,     0.21321,     0.21421,     0.21522,\n",
       "           0.21622,     0.21722,     0.21822,     0.21922,     0.22022,     0.22122,     0.22222,     0.22322,     0.22422,     0.22523,     0.22623,     0.22723,     0.22823,     0.22923,     0.23023,     0.23123,     0.23223,     0.23323,     0.23423,     0.23524,     0.23624,     0.23724,     0.23824,     0.23924,\n",
       "           0.24024,     0.24124,     0.24224,     0.24324,     0.24424,     0.24525,     0.24625,     0.24725,     0.24825,     0.24925,     0.25025,     0.25125,     0.25225,     0.25325,     0.25425,     0.25526,     0.25626,     0.25726,     0.25826,     0.25926,     0.26026,     0.26126,     0.26226,     0.26326,\n",
       "           0.26426,     0.26527,     0.26627,     0.26727,     0.26827,     0.26927,     0.27027,     0.27127,     0.27227,     0.27327,     0.27427,     0.27528,     0.27628,     0.27728,     0.27828,     0.27928,     0.28028,     0.28128,     0.28228,     0.28328,     0.28428,     0.28529,     0.28629,     0.28729,\n",
       "           0.28829,     0.28929,     0.29029,     0.29129,     0.29229,     0.29329,     0.29429,      0.2953,      0.2963,      0.2973,      0.2983,      0.2993,      0.3003,      0.3013,      0.3023,      0.3033,      0.3043,     0.30531,     0.30631,     0.30731,     0.30831,     0.30931,     0.31031,     0.31131,\n",
       "           0.31231,     0.31331,     0.31431,     0.31532,     0.31632,     0.31732,     0.31832,     0.31932,     0.32032,     0.32132,     0.32232,     0.32332,     0.32432,     0.32533,     0.32633,     0.32733,     0.32833,     0.32933,     0.33033,     0.33133,     0.33233,     0.33333,     0.33433,     0.33534,\n",
       "           0.33634,     0.33734,     0.33834,     0.33934,     0.34034,     0.34134,     0.34234,     0.34334,     0.34434,     0.34535,     0.34635,     0.34735,     0.34835,     0.34935,     0.35035,     0.35135,     0.35235,     0.35335,     0.35435,     0.35536,     0.35636,     0.35736,     0.35836,     0.35936,\n",
       "           0.36036,     0.36136,     0.36236,     0.36336,     0.36436,     0.36537,     0.36637,     0.36737,     0.36837,     0.36937,     0.37037,     0.37137,     0.37237,     0.37337,     0.37437,     0.37538,     0.37638,     0.37738,     0.37838,     0.37938,     0.38038,     0.38138,     0.38238,     0.38338,\n",
       "           0.38438,     0.38539,     0.38639,     0.38739,     0.38839,     0.38939,     0.39039,     0.39139,     0.39239,     0.39339,     0.39439,      0.3954,      0.3964,      0.3974,      0.3984,      0.3994,      0.4004,      0.4014,      0.4024,      0.4034,      0.4044,     0.40541,     0.40641,     0.40741,\n",
       "           0.40841,     0.40941,     0.41041,     0.41141,     0.41241,     0.41341,     0.41441,     0.41542,     0.41642,     0.41742,     0.41842,     0.41942,     0.42042,     0.42142,     0.42242,     0.42342,     0.42442,     0.42543,     0.42643,     0.42743,     0.42843,     0.42943,     0.43043,     0.43143,\n",
       "           0.43243,     0.43343,     0.43443,     0.43544,     0.43644,     0.43744,     0.43844,     0.43944,     0.44044,     0.44144,     0.44244,     0.44344,     0.44444,     0.44545,     0.44645,     0.44745,     0.44845,     0.44945,     0.45045,     0.45145,     0.45245,     0.45345,     0.45445,     0.45546,\n",
       "           0.45646,     0.45746,     0.45846,     0.45946,     0.46046,     0.46146,     0.46246,     0.46346,     0.46446,     0.46547,     0.46647,     0.46747,     0.46847,     0.46947,     0.47047,     0.47147,     0.47247,     0.47347,     0.47447,     0.47548,     0.47648,     0.47748,     0.47848,     0.47948,\n",
       "           0.48048,     0.48148,     0.48248,     0.48348,     0.48448,     0.48549,     0.48649,     0.48749,     0.48849,     0.48949,     0.49049,     0.49149,     0.49249,     0.49349,     0.49449,      0.4955,      0.4965,      0.4975,      0.4985,      0.4995,      0.5005,      0.5015,      0.5025,      0.5035,\n",
       "            0.5045,     0.50551,     0.50651,     0.50751,     0.50851,     0.50951,     0.51051,     0.51151,     0.51251,     0.51351,     0.51451,     0.51552,     0.51652,     0.51752,     0.51852,     0.51952,     0.52052,     0.52152,     0.52252,     0.52352,     0.52452,     0.52553,     0.52653,     0.52753,\n",
       "           0.52853,     0.52953,     0.53053,     0.53153,     0.53253,     0.53353,     0.53453,     0.53554,     0.53654,     0.53754,     0.53854,     0.53954,     0.54054,     0.54154,     0.54254,     0.54354,     0.54454,     0.54555,     0.54655,     0.54755,     0.54855,     0.54955,     0.55055,     0.55155,\n",
       "           0.55255,     0.55355,     0.55455,     0.55556,     0.55656,     0.55756,     0.55856,     0.55956,     0.56056,     0.56156,     0.56256,     0.56356,     0.56456,     0.56557,     0.56657,     0.56757,     0.56857,     0.56957,     0.57057,     0.57157,     0.57257,     0.57357,     0.57457,     0.57558,\n",
       "           0.57658,     0.57758,     0.57858,     0.57958,     0.58058,     0.58158,     0.58258,     0.58358,     0.58458,     0.58559,     0.58659,     0.58759,     0.58859,     0.58959,     0.59059,     0.59159,     0.59259,     0.59359,     0.59459,      0.5956,      0.5966,      0.5976,      0.5986,      0.5996,\n",
       "            0.6006,      0.6016,      0.6026,      0.6036,      0.6046,     0.60561,     0.60661,     0.60761,     0.60861,     0.60961,     0.61061,     0.61161,     0.61261,     0.61361,     0.61461,     0.61562,     0.61662,     0.61762,     0.61862,     0.61962,     0.62062,     0.62162,     0.62262,     0.62362,\n",
       "           0.62462,     0.62563,     0.62663,     0.62763,     0.62863,     0.62963,     0.63063,     0.63163,     0.63263,     0.63363,     0.63463,     0.63564,     0.63664,     0.63764,     0.63864,     0.63964,     0.64064,     0.64164,     0.64264,     0.64364,     0.64464,     0.64565,     0.64665,     0.64765,\n",
       "           0.64865,     0.64965,     0.65065,     0.65165,     0.65265,     0.65365,     0.65465,     0.65566,     0.65666,     0.65766,     0.65866,     0.65966,     0.66066,     0.66166,     0.66266,     0.66366,     0.66466,     0.66567,     0.66667,     0.66767,     0.66867,     0.66967,     0.67067,     0.67167,\n",
       "           0.67267,     0.67367,     0.67467,     0.67568,     0.67668,     0.67768,     0.67868,     0.67968,     0.68068,     0.68168,     0.68268,     0.68368,     0.68468,     0.68569,     0.68669,     0.68769,     0.68869,     0.68969,     0.69069,     0.69169,     0.69269,     0.69369,     0.69469,      0.6957,\n",
       "            0.6967,      0.6977,      0.6987,      0.6997,      0.7007,      0.7017,      0.7027,      0.7037,      0.7047,     0.70571,     0.70671,     0.70771,     0.70871,     0.70971,     0.71071,     0.71171,     0.71271,     0.71371,     0.71471,     0.71572,     0.71672,     0.71772,     0.71872,     0.71972,\n",
       "           0.72072,     0.72172,     0.72272,     0.72372,     0.72472,     0.72573,     0.72673,     0.72773,     0.72873,     0.72973,     0.73073,     0.73173,     0.73273,     0.73373,     0.73473,     0.73574,     0.73674,     0.73774,     0.73874,     0.73974,     0.74074,     0.74174,     0.74274,     0.74374,\n",
       "           0.74474,     0.74575,     0.74675,     0.74775,     0.74875,     0.74975,     0.75075,     0.75175,     0.75275,     0.75375,     0.75475,     0.75576,     0.75676,     0.75776,     0.75876,     0.75976,     0.76076,     0.76176,     0.76276,     0.76376,     0.76476,     0.76577,     0.76677,     0.76777,\n",
       "           0.76877,     0.76977,     0.77077,     0.77177,     0.77277,     0.77377,     0.77477,     0.77578,     0.77678,     0.77778,     0.77878,     0.77978,     0.78078,     0.78178,     0.78278,     0.78378,     0.78478,     0.78579,     0.78679,     0.78779,     0.78879,     0.78979,     0.79079,     0.79179,\n",
       "           0.79279,     0.79379,     0.79479,      0.7958,      0.7968,      0.7978,      0.7988,      0.7998,      0.8008,      0.8018,      0.8028,      0.8038,      0.8048,     0.80581,     0.80681,     0.80781,     0.80881,     0.80981,     0.81081,     0.81181,     0.81281,     0.81381,     0.81481,     0.81582,\n",
       "           0.81682,     0.81782,     0.81882,     0.81982,     0.82082,     0.82182,     0.82282,     0.82382,     0.82482,     0.82583,     0.82683,     0.82783,     0.82883,     0.82983,     0.83083,     0.83183,     0.83283,     0.83383,     0.83483,     0.83584,     0.83684,     0.83784,     0.83884,     0.83984,\n",
       "           0.84084,     0.84184,     0.84284,     0.84384,     0.84484,     0.84585,     0.84685,     0.84785,     0.84885,     0.84985,     0.85085,     0.85185,     0.85285,     0.85385,     0.85485,     0.85586,     0.85686,     0.85786,     0.85886,     0.85986,     0.86086,     0.86186,     0.86286,     0.86386,\n",
       "           0.86486,     0.86587,     0.86687,     0.86787,     0.86887,     0.86987,     0.87087,     0.87187,     0.87287,     0.87387,     0.87487,     0.87588,     0.87688,     0.87788,     0.87888,     0.87988,     0.88088,     0.88188,     0.88288,     0.88388,     0.88488,     0.88589,     0.88689,     0.88789,\n",
       "           0.88889,     0.88989,     0.89089,     0.89189,     0.89289,     0.89389,     0.89489,      0.8959,      0.8969,      0.8979,      0.8989,      0.8999,      0.9009,      0.9019,      0.9029,      0.9039,      0.9049,     0.90591,     0.90691,     0.90791,     0.90891,     0.90991,     0.91091,     0.91191,\n",
       "           0.91291,     0.91391,     0.91491,     0.91592,     0.91692,     0.91792,     0.91892,     0.91992,     0.92092,     0.92192,     0.92292,     0.92392,     0.92492,     0.92593,     0.92693,     0.92793,     0.92893,     0.92993,     0.93093,     0.93193,     0.93293,     0.93393,     0.93493,     0.93594,\n",
       "           0.93694,     0.93794,     0.93894,     0.93994,     0.94094,     0.94194,     0.94294,     0.94394,     0.94494,     0.94595,     0.94695,     0.94795,     0.94895,     0.94995,     0.95095,     0.95195,     0.95295,     0.95395,     0.95495,     0.95596,     0.95696,     0.95796,     0.95896,     0.95996,\n",
       "           0.96096,     0.96196,     0.96296,     0.96396,     0.96496,     0.96597,     0.96697,     0.96797,     0.96897,     0.96997,     0.97097,     0.97197,     0.97297,     0.97397,     0.97497,     0.97598,     0.97698,     0.97798,     0.97898,     0.97998,     0.98098,     0.98198,     0.98298,     0.98398,\n",
       "           0.98498,     0.98599,     0.98699,     0.98799,     0.98899,     0.98999,     0.99099,     0.99199,     0.99299,     0.99399,     0.99499,       0.996,       0.997,       0.998,       0.999,           1]), array([[          1,           1,           1,           1,           1,           1,           1,           1,           1,           1,           1,           1,           1,           1,           1,           1,           1,           1,           1,           1,           1,           1,           1,\n",
       "                  1,           1,           1,           1,           1,           1,           1,           1,           1,           1,           1,           1,           1,           1,           1,           1,           1,           1,           1,           1,           1,           1,           1,\n",
       "                  1,           1,           1,           1,           1,           1,           1,           1,           1,           1,           1,           1,           1,           1,           1,           1,           1,           1,           1,           1,           1,           1,           1,\n",
       "                  1,           1,           1,           1,           1,           1,           1,           1,           1,           1,           1,           1,           1,           1,           1,           1,           1,           1,           1,           1,           1,           1,           1,\n",
       "                  1,           1,           1,           1,           1,           1,           1,           1,           1,           1,           1,           1,           1,           1,           1,           1,           1,           1,           1,           1,           1,           1,           1,\n",
       "                  1,           1,           1,           1,           1,           1,           1,           1,           1,           1,           1,           1,           1,           1,           1,           1,           1,     0.99849,     0.99849,     0.99849,     0.99849,     0.99849,     0.99849,\n",
       "            0.99849,     0.99849,     0.99849,     0.99849,     0.99849,     0.99849,     0.99849,     0.99849,     0.99849,     0.99849,     0.99849,     0.99849,     0.99849,     0.99849,     0.99849,     0.99849,     0.99849,     0.99849,     0.99849,     0.99849,     0.99849,     0.99849,     0.99849,\n",
       "            0.99849,     0.99849,     0.99849,     0.99849,     0.99849,     0.99849,     0.99849,     0.99849,     0.99849,     0.99849,     0.99849,     0.99849,     0.99849,     0.99849,     0.99849,     0.99849,     0.99849,     0.99849,     0.99849,     0.99849,     0.99849,     0.99849,     0.99849,\n",
       "            0.99849,     0.99849,     0.99849,     0.99849,     0.99849,     0.99849,     0.99849,     0.99849,     0.99849,     0.99849,     0.99849,     0.99849,     0.99849,     0.99849,     0.99849,     0.99849,     0.99849,     0.99849,     0.99849,     0.99849,     0.99849,     0.99849,     0.99849,\n",
       "            0.99849,     0.99849,     0.99849,     0.99849,     0.99849,     0.99849,     0.99849,     0.99849,     0.99849,     0.99849,     0.99849,     0.99849,     0.99849,     0.99849,     0.99849,     0.99849,     0.99849,     0.99849,     0.99849,     0.99849,     0.99849,     0.99849,     0.99849,\n",
       "            0.99849,     0.99849,     0.99849,     0.99849,     0.99849,     0.99849,     0.99849,     0.99849,     0.99849,     0.99849,     0.99849,     0.99849,     0.99849,     0.99849,     0.99849,     0.99849,     0.99849,     0.99849,     0.99849,     0.99849,     0.99849,     0.99849,     0.99849,\n",
       "            0.99849,     0.99849,     0.99849,     0.99849,     0.99849,     0.99849,     0.99849,     0.99849,     0.99849,     0.99849,     0.99849,     0.99849,     0.99849,     0.99849,     0.99849,     0.99849,     0.99849,     0.99849,     0.99849,     0.99849,     0.99849,     0.99849,     0.99849,\n",
       "            0.99849,     0.99849,     0.99849,     0.99849,     0.99849,     0.99849,     0.99849,     0.99849,     0.99849,     0.99849,     0.99849,     0.99849,     0.99849,     0.99849,     0.99849,     0.99849,     0.99849,     0.99849,     0.99849,     0.99849,     0.99849,     0.99849,     0.99849,\n",
       "            0.99849,     0.99849,     0.99849,     0.99849,     0.99849,     0.99849,     0.99849,     0.99849,     0.99849,     0.99849,     0.99849,     0.99849,     0.99849,     0.99849,     0.99849,     0.99849,     0.99849,     0.99849,     0.99849,     0.99849,     0.99849,     0.99849,     0.99849,\n",
       "            0.99849,     0.99849,     0.99849,     0.99849,     0.99849,     0.99849,     0.99849,     0.99849,     0.99849,     0.99849,     0.99849,     0.99849,     0.99849,     0.99849,     0.99849,     0.99849,     0.99849,     0.99849,     0.99849,     0.99849,     0.99849,     0.99849,     0.99849,\n",
       "            0.99849,     0.99849,     0.99849,     0.99849,     0.99849,     0.99849,     0.99849,     0.99849,     0.99849,     0.99849,     0.99849,     0.99849,     0.99849,     0.99849,     0.99849,     0.99849,     0.99849,     0.99849,     0.99849,     0.99849,     0.99849,     0.99849,     0.99849,\n",
       "            0.99849,     0.99849,     0.99849,     0.99849,     0.99849,     0.99849,     0.99849,     0.99849,     0.99849,     0.99849,     0.99849,     0.99849,     0.99849,     0.99849,     0.99849,     0.99849,     0.99849,     0.99849,     0.99849,     0.99849,     0.99849,     0.99849,     0.99849,\n",
       "            0.99849,     0.99849,     0.99849,     0.99849,     0.99849,     0.99849,     0.99849,     0.99849,     0.99849,     0.99849,     0.99849,     0.99849,     0.99849,     0.99849,     0.99849,     0.99849,     0.99849,     0.99849,     0.99849,     0.99849,     0.99849,     0.99849,     0.99849,\n",
       "            0.99849,     0.99849,     0.99849,     0.99849,     0.99849,     0.99849,     0.99849,     0.99849,     0.99849,     0.99849,     0.99849,     0.99849,     0.99849,     0.99849,     0.99849,     0.99849,     0.99849,     0.99849,     0.99849,     0.99849,     0.99849,     0.99849,     0.99849,\n",
       "            0.99849,     0.99849,     0.99849,     0.99849,     0.99849,     0.99849,     0.99849,     0.99849,     0.99849,     0.99849,     0.99849,     0.99849,     0.99849,     0.99849,     0.99849,     0.99849,     0.99849,     0.99849,     0.99849,     0.99849,     0.99849,     0.99849,     0.99849,\n",
       "            0.99849,     0.99849,     0.99849,     0.99849,     0.99849,     0.99849,     0.99849,     0.99849,     0.99849,     0.99849,     0.99849,     0.99849,     0.99849,     0.99849,     0.99849,     0.99849,     0.99849,     0.99849,     0.99849,     0.99849,     0.99849,     0.99849,     0.99849,\n",
       "            0.99849,     0.99849,     0.99849,     0.99849,     0.99849,     0.99849,     0.99849,     0.99849,     0.99849,     0.99849,     0.99849,     0.99849,     0.99849,     0.99849,     0.99849,     0.99849,     0.99849,     0.99849,     0.99849,     0.99849,     0.99849,     0.99849,     0.99849,\n",
       "            0.99849,     0.99849,     0.99849,     0.99849,     0.99849,     0.99849,     0.99849,     0.99849,     0.99849,     0.99849,     0.99849,     0.99849,     0.99849,     0.99849,     0.99849,     0.99849,     0.99849,     0.99849,     0.99849,     0.99849,     0.99849,     0.99849,     0.99849,\n",
       "            0.99849,     0.99849,     0.99849,     0.99849,     0.99849,     0.99849,     0.99849,     0.99849,     0.99849,     0.99849,     0.99849,     0.99849,     0.99849,     0.99849,     0.99849,     0.99849,     0.99849,     0.99849,     0.99849,     0.99849,     0.99849,     0.99849,     0.99849,\n",
       "            0.99849,     0.99849,     0.99849,     0.99849,     0.99849,     0.99849,     0.99849,     0.99849,     0.99849,     0.99849,     0.99849,     0.99849,     0.99849,     0.99849,     0.99849,     0.99849,     0.99849,     0.99849,     0.99849,     0.99849,     0.99849,     0.99849,     0.99849,\n",
       "            0.99849,     0.99849,     0.99849,     0.99849,     0.99849,     0.99849,     0.99849,     0.99849,     0.99849,     0.99849,     0.99849,     0.99849,     0.99849,     0.99849,     0.99849,     0.99849,     0.99849,     0.99849,     0.99849,     0.99849,     0.99849,     0.99849,     0.99849,\n",
       "            0.99849,     0.99849,     0.99849,     0.99849,     0.99849,     0.99849,     0.99849,     0.99849,     0.99849,     0.99849,     0.99849,     0.99849,     0.99849,     0.99849,     0.99849,     0.99849,     0.99849,     0.99849,     0.99849,     0.99849,     0.99849,     0.99849,     0.99849,\n",
       "            0.99849,     0.99849,     0.99849,     0.99849,     0.99849,     0.99849,     0.99849,     0.99755,     0.99755,     0.99755,     0.99755,     0.99755,     0.99755,     0.99755,     0.99755,     0.99755,     0.99755,     0.99755,     0.99755,     0.99755,     0.99755,     0.99755,     0.99755,\n",
       "            0.99755,     0.99755,     0.99755,     0.99755,     0.99755,     0.99755,     0.99755,     0.99755,     0.99755,     0.99755,     0.99755,     0.99755,     0.99755,     0.99755,     0.99755,     0.99755,     0.99755,     0.99755,     0.99755,     0.99755,     0.99755,     0.99755,     0.99755,\n",
       "            0.99755,     0.99755,     0.99755,     0.99755,     0.99755,     0.99755,     0.99755,     0.99755,     0.99755,     0.99755,     0.99755,     0.99755,     0.99755,     0.99755,     0.99755,     0.99755,     0.99755,     0.99755,     0.99755,     0.99755,     0.99755,     0.99755,     0.99755,\n",
       "            0.99755,     0.99755,     0.99755,     0.99755,     0.99755,     0.99755,     0.99755,     0.99755,     0.99755,     0.99755,     0.99755,     0.99755,     0.99755,     0.99755,     0.99755,     0.99755,     0.99755,     0.99755,     0.99755,     0.99755,     0.99755,     0.99755,     0.99755,\n",
       "            0.99755,     0.99755,     0.99755,     0.99755,     0.99755,     0.99755,     0.99755,     0.99755,     0.99755,     0.99755,     0.99755,     0.99755,     0.99755,     0.99755,     0.99755,     0.99755,     0.99755,     0.99755,     0.99755,     0.99755,     0.99755,     0.99755,     0.99755,\n",
       "            0.99755,     0.99755,     0.99755,     0.99755,     0.99755,     0.99755,     0.99755,     0.99755,     0.99755,     0.99755,     0.99755,     0.99755,     0.99755,     0.99755,     0.99755,     0.99755,     0.99755,     0.99755,     0.99755,     0.99755,     0.99755,     0.99755,     0.99755,\n",
       "            0.99755,     0.99755,     0.99755,     0.99755,     0.99755,     0.99755,     0.99755,     0.99755,     0.99755,     0.99755,     0.99755,     0.99664,     0.99664,     0.99664,     0.99664,     0.99664,     0.99664,     0.99664,     0.99664,     0.99664,     0.99664,     0.99664,     0.99664,\n",
       "            0.99664,     0.99664,     0.99664,     0.99664,     0.99664,     0.99664,     0.99664,     0.99664,     0.99664,     0.99664,     0.99664,     0.99664,     0.99664,     0.99664,     0.99664,     0.99664,     0.99664,     0.99664,     0.99664,     0.99664,     0.99664,     0.99664,     0.99664,\n",
       "            0.99664,     0.99664,     0.99664,     0.99664,     0.99664,     0.99664,     0.99664,     0.99664,     0.99664,     0.99664,     0.99664,     0.99664,     0.99664,     0.99664,     0.99664,     0.99664,     0.99664,     0.99664,     0.99664,     0.99664,     0.99664,     0.99664,     0.99664,\n",
       "            0.99664,     0.99664,     0.99664,     0.99664,     0.99664,     0.99664,     0.99664,     0.99664,     0.99664,     0.99664,     0.99664,     0.99664,     0.99664,     0.99664,     0.99664,     0.99576,     0.99576,     0.99576,     0.99576,     0.99576,     0.99576,     0.99576,     0.99576,\n",
       "            0.99576,     0.99576,     0.99576,     0.99576,     0.99576,     0.99576,     0.99576,     0.99576,     0.99576,     0.99576,     0.99576,     0.99576,     0.99576,     0.99576,     0.99576,     0.99576,     0.99576,     0.99576,     0.99576,     0.99576,     0.99576,     0.99576,     0.99576,\n",
       "            0.99576,     0.99576,     0.99576,     0.99576,     0.99576,     0.99576,     0.99576,     0.99576,     0.99576,     0.99576,     0.99576,     0.99576,     0.99576,     0.99576,     0.99576,     0.99478,     0.99478,     0.99478,     0.99478,     0.99478,     0.99478,     0.99478,     0.99478,\n",
       "            0.99478,     0.99478,     0.99478,     0.99478,      0.9938,      0.9938,      0.9938,      0.9938,      0.9938,      0.9938,      0.9938,      0.9938,      0.9938,      0.9938,     0.99282,     0.99282,     0.99282,     0.99282,     0.99282,     0.99189,     0.99189,     0.99189,     0.99189,\n",
       "            0.99189,     0.99189,     0.99189,     0.99189,     0.99189,     0.99189,     0.99189,     0.99095,     0.99095,     0.99095,     0.99095,     0.99095,     0.99095,     0.98997,       0.989,       0.989,     0.98805,     0.98805,     0.98805,     0.98714,     0.98714,     0.98714,     0.98714,\n",
       "            0.98714,     0.98714,     0.98621,     0.98621,     0.98525,     0.98338,     0.98338,     0.98338,     0.98338,     0.98244,      0.9815,     0.98056,     0.97965,     0.97965,     0.97778,     0.97592,       0.975,     0.97409,     0.97318,     0.97042,     0.96493,     0.95865,     0.95779,\n",
       "            0.95251,     0.95251,     0.95167,     0.94732,     0.92851,     0.92363,     0.92363,     0.92204,     0.91882,     0.91401,     0.91005,     0.88975,     0.87479,     0.85185,     0.85127,     0.84446,     0.81299,     0.77151,     0.75654,     0.75453,     0.73606,     0.72349,     0.65109,\n",
       "            0.61967,     0.50284,     0.44697,      0.3911,     0.33522,     0.27935,     0.22348,     0.16761,     0.11174,    0.055871,           0]]), 'Recall', 'Precision'], [array([          0,    0.001001,    0.002002,    0.003003,    0.004004,    0.005005,    0.006006,    0.007007,    0.008008,    0.009009,     0.01001,    0.011011,    0.012012,    0.013013,    0.014014,    0.015015,    0.016016,    0.017017,    0.018018,    0.019019,     0.02002,    0.021021,    0.022022,    0.023023,\n",
       "          0.024024,    0.025025,    0.026026,    0.027027,    0.028028,    0.029029,     0.03003,    0.031031,    0.032032,    0.033033,    0.034034,    0.035035,    0.036036,    0.037037,    0.038038,    0.039039,     0.04004,    0.041041,    0.042042,    0.043043,    0.044044,    0.045045,    0.046046,    0.047047,\n",
       "          0.048048,    0.049049,     0.05005,    0.051051,    0.052052,    0.053053,    0.054054,    0.055055,    0.056056,    0.057057,    0.058058,    0.059059,     0.06006,    0.061061,    0.062062,    0.063063,    0.064064,    0.065065,    0.066066,    0.067067,    0.068068,    0.069069,     0.07007,    0.071071,\n",
       "          0.072072,    0.073073,    0.074074,    0.075075,    0.076076,    0.077077,    0.078078,    0.079079,     0.08008,    0.081081,    0.082082,    0.083083,    0.084084,    0.085085,    0.086086,    0.087087,    0.088088,    0.089089,     0.09009,    0.091091,    0.092092,    0.093093,    0.094094,    0.095095,\n",
       "          0.096096,    0.097097,    0.098098,    0.099099,      0.1001,      0.1011,      0.1021,      0.1031,      0.1041,     0.10511,     0.10611,     0.10711,     0.10811,     0.10911,     0.11011,     0.11111,     0.11211,     0.11311,     0.11411,     0.11512,     0.11612,     0.11712,     0.11812,     0.11912,\n",
       "           0.12012,     0.12112,     0.12212,     0.12312,     0.12412,     0.12513,     0.12613,     0.12713,     0.12813,     0.12913,     0.13013,     0.13113,     0.13213,     0.13313,     0.13413,     0.13514,     0.13614,     0.13714,     0.13814,     0.13914,     0.14014,     0.14114,     0.14214,     0.14314,\n",
       "           0.14414,     0.14515,     0.14615,     0.14715,     0.14815,     0.14915,     0.15015,     0.15115,     0.15215,     0.15315,     0.15415,     0.15516,     0.15616,     0.15716,     0.15816,     0.15916,     0.16016,     0.16116,     0.16216,     0.16316,     0.16416,     0.16517,     0.16617,     0.16717,\n",
       "           0.16817,     0.16917,     0.17017,     0.17117,     0.17217,     0.17317,     0.17417,     0.17518,     0.17618,     0.17718,     0.17818,     0.17918,     0.18018,     0.18118,     0.18218,     0.18318,     0.18418,     0.18519,     0.18619,     0.18719,     0.18819,     0.18919,     0.19019,     0.19119,\n",
       "           0.19219,     0.19319,     0.19419,      0.1952,      0.1962,      0.1972,      0.1982,      0.1992,      0.2002,      0.2012,      0.2022,      0.2032,      0.2042,     0.20521,     0.20621,     0.20721,     0.20821,     0.20921,     0.21021,     0.21121,     0.21221,     0.21321,     0.21421,     0.21522,\n",
       "           0.21622,     0.21722,     0.21822,     0.21922,     0.22022,     0.22122,     0.22222,     0.22322,     0.22422,     0.22523,     0.22623,     0.22723,     0.22823,     0.22923,     0.23023,     0.23123,     0.23223,     0.23323,     0.23423,     0.23524,     0.23624,     0.23724,     0.23824,     0.23924,\n",
       "           0.24024,     0.24124,     0.24224,     0.24324,     0.24424,     0.24525,     0.24625,     0.24725,     0.24825,     0.24925,     0.25025,     0.25125,     0.25225,     0.25325,     0.25425,     0.25526,     0.25626,     0.25726,     0.25826,     0.25926,     0.26026,     0.26126,     0.26226,     0.26326,\n",
       "           0.26426,     0.26527,     0.26627,     0.26727,     0.26827,     0.26927,     0.27027,     0.27127,     0.27227,     0.27327,     0.27427,     0.27528,     0.27628,     0.27728,     0.27828,     0.27928,     0.28028,     0.28128,     0.28228,     0.28328,     0.28428,     0.28529,     0.28629,     0.28729,\n",
       "           0.28829,     0.28929,     0.29029,     0.29129,     0.29229,     0.29329,     0.29429,      0.2953,      0.2963,      0.2973,      0.2983,      0.2993,      0.3003,      0.3013,      0.3023,      0.3033,      0.3043,     0.30531,     0.30631,     0.30731,     0.30831,     0.30931,     0.31031,     0.31131,\n",
       "           0.31231,     0.31331,     0.31431,     0.31532,     0.31632,     0.31732,     0.31832,     0.31932,     0.32032,     0.32132,     0.32232,     0.32332,     0.32432,     0.32533,     0.32633,     0.32733,     0.32833,     0.32933,     0.33033,     0.33133,     0.33233,     0.33333,     0.33433,     0.33534,\n",
       "           0.33634,     0.33734,     0.33834,     0.33934,     0.34034,     0.34134,     0.34234,     0.34334,     0.34434,     0.34535,     0.34635,     0.34735,     0.34835,     0.34935,     0.35035,     0.35135,     0.35235,     0.35335,     0.35435,     0.35536,     0.35636,     0.35736,     0.35836,     0.35936,\n",
       "           0.36036,     0.36136,     0.36236,     0.36336,     0.36436,     0.36537,     0.36637,     0.36737,     0.36837,     0.36937,     0.37037,     0.37137,     0.37237,     0.37337,     0.37437,     0.37538,     0.37638,     0.37738,     0.37838,     0.37938,     0.38038,     0.38138,     0.38238,     0.38338,\n",
       "           0.38438,     0.38539,     0.38639,     0.38739,     0.38839,     0.38939,     0.39039,     0.39139,     0.39239,     0.39339,     0.39439,      0.3954,      0.3964,      0.3974,      0.3984,      0.3994,      0.4004,      0.4014,      0.4024,      0.4034,      0.4044,     0.40541,     0.40641,     0.40741,\n",
       "           0.40841,     0.40941,     0.41041,     0.41141,     0.41241,     0.41341,     0.41441,     0.41542,     0.41642,     0.41742,     0.41842,     0.41942,     0.42042,     0.42142,     0.42242,     0.42342,     0.42442,     0.42543,     0.42643,     0.42743,     0.42843,     0.42943,     0.43043,     0.43143,\n",
       "           0.43243,     0.43343,     0.43443,     0.43544,     0.43644,     0.43744,     0.43844,     0.43944,     0.44044,     0.44144,     0.44244,     0.44344,     0.44444,     0.44545,     0.44645,     0.44745,     0.44845,     0.44945,     0.45045,     0.45145,     0.45245,     0.45345,     0.45445,     0.45546,\n",
       "           0.45646,     0.45746,     0.45846,     0.45946,     0.46046,     0.46146,     0.46246,     0.46346,     0.46446,     0.46547,     0.46647,     0.46747,     0.46847,     0.46947,     0.47047,     0.47147,     0.47247,     0.47347,     0.47447,     0.47548,     0.47648,     0.47748,     0.47848,     0.47948,\n",
       "           0.48048,     0.48148,     0.48248,     0.48348,     0.48448,     0.48549,     0.48649,     0.48749,     0.48849,     0.48949,     0.49049,     0.49149,     0.49249,     0.49349,     0.49449,      0.4955,      0.4965,      0.4975,      0.4985,      0.4995,      0.5005,      0.5015,      0.5025,      0.5035,\n",
       "            0.5045,     0.50551,     0.50651,     0.50751,     0.50851,     0.50951,     0.51051,     0.51151,     0.51251,     0.51351,     0.51451,     0.51552,     0.51652,     0.51752,     0.51852,     0.51952,     0.52052,     0.52152,     0.52252,     0.52352,     0.52452,     0.52553,     0.52653,     0.52753,\n",
       "           0.52853,     0.52953,     0.53053,     0.53153,     0.53253,     0.53353,     0.53453,     0.53554,     0.53654,     0.53754,     0.53854,     0.53954,     0.54054,     0.54154,     0.54254,     0.54354,     0.54454,     0.54555,     0.54655,     0.54755,     0.54855,     0.54955,     0.55055,     0.55155,\n",
       "           0.55255,     0.55355,     0.55455,     0.55556,     0.55656,     0.55756,     0.55856,     0.55956,     0.56056,     0.56156,     0.56256,     0.56356,     0.56456,     0.56557,     0.56657,     0.56757,     0.56857,     0.56957,     0.57057,     0.57157,     0.57257,     0.57357,     0.57457,     0.57558,\n",
       "           0.57658,     0.57758,     0.57858,     0.57958,     0.58058,     0.58158,     0.58258,     0.58358,     0.58458,     0.58559,     0.58659,     0.58759,     0.58859,     0.58959,     0.59059,     0.59159,     0.59259,     0.59359,     0.59459,      0.5956,      0.5966,      0.5976,      0.5986,      0.5996,\n",
       "            0.6006,      0.6016,      0.6026,      0.6036,      0.6046,     0.60561,     0.60661,     0.60761,     0.60861,     0.60961,     0.61061,     0.61161,     0.61261,     0.61361,     0.61461,     0.61562,     0.61662,     0.61762,     0.61862,     0.61962,     0.62062,     0.62162,     0.62262,     0.62362,\n",
       "           0.62462,     0.62563,     0.62663,     0.62763,     0.62863,     0.62963,     0.63063,     0.63163,     0.63263,     0.63363,     0.63463,     0.63564,     0.63664,     0.63764,     0.63864,     0.63964,     0.64064,     0.64164,     0.64264,     0.64364,     0.64464,     0.64565,     0.64665,     0.64765,\n",
       "           0.64865,     0.64965,     0.65065,     0.65165,     0.65265,     0.65365,     0.65465,     0.65566,     0.65666,     0.65766,     0.65866,     0.65966,     0.66066,     0.66166,     0.66266,     0.66366,     0.66466,     0.66567,     0.66667,     0.66767,     0.66867,     0.66967,     0.67067,     0.67167,\n",
       "           0.67267,     0.67367,     0.67467,     0.67568,     0.67668,     0.67768,     0.67868,     0.67968,     0.68068,     0.68168,     0.68268,     0.68368,     0.68468,     0.68569,     0.68669,     0.68769,     0.68869,     0.68969,     0.69069,     0.69169,     0.69269,     0.69369,     0.69469,      0.6957,\n",
       "            0.6967,      0.6977,      0.6987,      0.6997,      0.7007,      0.7017,      0.7027,      0.7037,      0.7047,     0.70571,     0.70671,     0.70771,     0.70871,     0.70971,     0.71071,     0.71171,     0.71271,     0.71371,     0.71471,     0.71572,     0.71672,     0.71772,     0.71872,     0.71972,\n",
       "           0.72072,     0.72172,     0.72272,     0.72372,     0.72472,     0.72573,     0.72673,     0.72773,     0.72873,     0.72973,     0.73073,     0.73173,     0.73273,     0.73373,     0.73473,     0.73574,     0.73674,     0.73774,     0.73874,     0.73974,     0.74074,     0.74174,     0.74274,     0.74374,\n",
       "           0.74474,     0.74575,     0.74675,     0.74775,     0.74875,     0.74975,     0.75075,     0.75175,     0.75275,     0.75375,     0.75475,     0.75576,     0.75676,     0.75776,     0.75876,     0.75976,     0.76076,     0.76176,     0.76276,     0.76376,     0.76476,     0.76577,     0.76677,     0.76777,\n",
       "           0.76877,     0.76977,     0.77077,     0.77177,     0.77277,     0.77377,     0.77477,     0.77578,     0.77678,     0.77778,     0.77878,     0.77978,     0.78078,     0.78178,     0.78278,     0.78378,     0.78478,     0.78579,     0.78679,     0.78779,     0.78879,     0.78979,     0.79079,     0.79179,\n",
       "           0.79279,     0.79379,     0.79479,      0.7958,      0.7968,      0.7978,      0.7988,      0.7998,      0.8008,      0.8018,      0.8028,      0.8038,      0.8048,     0.80581,     0.80681,     0.80781,     0.80881,     0.80981,     0.81081,     0.81181,     0.81281,     0.81381,     0.81481,     0.81582,\n",
       "           0.81682,     0.81782,     0.81882,     0.81982,     0.82082,     0.82182,     0.82282,     0.82382,     0.82482,     0.82583,     0.82683,     0.82783,     0.82883,     0.82983,     0.83083,     0.83183,     0.83283,     0.83383,     0.83483,     0.83584,     0.83684,     0.83784,     0.83884,     0.83984,\n",
       "           0.84084,     0.84184,     0.84284,     0.84384,     0.84484,     0.84585,     0.84685,     0.84785,     0.84885,     0.84985,     0.85085,     0.85185,     0.85285,     0.85385,     0.85485,     0.85586,     0.85686,     0.85786,     0.85886,     0.85986,     0.86086,     0.86186,     0.86286,     0.86386,\n",
       "           0.86486,     0.86587,     0.86687,     0.86787,     0.86887,     0.86987,     0.87087,     0.87187,     0.87287,     0.87387,     0.87487,     0.87588,     0.87688,     0.87788,     0.87888,     0.87988,     0.88088,     0.88188,     0.88288,     0.88388,     0.88488,     0.88589,     0.88689,     0.88789,\n",
       "           0.88889,     0.88989,     0.89089,     0.89189,     0.89289,     0.89389,     0.89489,      0.8959,      0.8969,      0.8979,      0.8989,      0.8999,      0.9009,      0.9019,      0.9029,      0.9039,      0.9049,     0.90591,     0.90691,     0.90791,     0.90891,     0.90991,     0.91091,     0.91191,\n",
       "           0.91291,     0.91391,     0.91491,     0.91592,     0.91692,     0.91792,     0.91892,     0.91992,     0.92092,     0.92192,     0.92292,     0.92392,     0.92492,     0.92593,     0.92693,     0.92793,     0.92893,     0.92993,     0.93093,     0.93193,     0.93293,     0.93393,     0.93493,     0.93594,\n",
       "           0.93694,     0.93794,     0.93894,     0.93994,     0.94094,     0.94194,     0.94294,     0.94394,     0.94494,     0.94595,     0.94695,     0.94795,     0.94895,     0.94995,     0.95095,     0.95195,     0.95295,     0.95395,     0.95495,     0.95596,     0.95696,     0.95796,     0.95896,     0.95996,\n",
       "           0.96096,     0.96196,     0.96296,     0.96396,     0.96496,     0.96597,     0.96697,     0.96797,     0.96897,     0.96997,     0.97097,     0.97197,     0.97297,     0.97397,     0.97497,     0.97598,     0.97698,     0.97798,     0.97898,     0.97998,     0.98098,     0.98198,     0.98298,     0.98398,\n",
       "           0.98498,     0.98599,     0.98699,     0.98799,     0.98899,     0.98999,     0.99099,     0.99199,     0.99299,     0.99399,     0.99499,       0.996,       0.997,       0.998,       0.999,           1]), array([[    0.68929,     0.68929,     0.75623,     0.78701,      0.8129,     0.82564,     0.83914,     0.84538,     0.85215,     0.85687,      0.8618,     0.86569,     0.87117,     0.87468,     0.87759,     0.87989,     0.88178,     0.88432,     0.88599,     0.88833,     0.89142,     0.89345,     0.89519,\n",
       "            0.89532,     0.89648,     0.89817,     0.89921,     0.90074,     0.90115,     0.90219,       0.904,     0.90487,     0.90629,      0.9075,     0.90816,     0.90943,     0.91105,     0.91126,     0.91112,     0.91165,     0.91209,     0.91388,     0.91712,     0.91865,     0.91953,     0.91971,\n",
       "             0.9199,      0.9209,     0.92157,     0.92201,     0.92229,     0.92267,     0.92291,     0.92307,     0.92328,     0.92373,     0.92388,     0.92404,     0.92382,     0.92524,      0.9254,     0.92557,      0.9263,     0.92737,     0.92766,      0.9281,     0.92826,      0.9284,     0.92856,\n",
       "            0.92962,     0.93081,     0.93149,     0.93188,     0.93211,     0.93269,     0.93289,     0.93309,     0.93321,     0.93334,     0.93347,     0.93374,     0.93484,     0.93532,     0.93545,     0.93558,     0.93574,     0.93593,     0.93631,     0.93761,      0.9383,     0.93861,     0.93931,\n",
       "            0.93981,     0.94023,     0.94042,     0.94055,     0.94069,      0.9413,     0.94161,     0.94178,     0.94196,     0.94212,     0.94226,      0.9424,     0.94219,     0.94287,     0.94326,     0.94386,     0.94411,     0.94372,     0.94409,     0.94437,     0.94456,     0.94463,     0.94471,\n",
       "            0.94478,     0.94486,     0.94493,     0.94536,     0.94593,     0.94608,     0.94623,     0.94613,     0.94597,     0.94582,     0.94621,     0.94638,     0.94655,     0.94677,     0.94707,     0.94716,     0.94725,     0.94733,     0.94742,      0.9475,     0.94725,     0.94752,     0.94764,\n",
       "            0.94777,      0.9479,     0.94776,     0.94761,     0.94746,     0.94731,     0.94716,     0.94701,     0.94695,     0.94699,     0.94703,     0.94707,     0.94711,     0.94715,     0.94719,     0.94723,     0.94727,     0.94731,     0.94735,     0.94769,     0.94822,      0.9491,     0.94918,\n",
       "            0.94924,      0.9493,     0.94936,     0.94942,     0.94947,     0.94953,     0.94944,     0.94922,     0.94916,     0.94942,     0.94972,     0.94997,     0.95003,     0.95009,     0.95014,      0.9502,     0.95026,     0.95031,     0.95037,     0.95051,      0.9507,     0.95092,     0.95123,\n",
       "            0.95137,     0.95149,     0.95161,     0.95217,     0.95226,     0.95236,     0.95246,     0.95256,     0.95288,     0.95309,     0.95317,     0.95324,     0.95331,     0.95338,     0.95345,     0.95383,     0.95442,      0.9546,     0.95479,     0.95528,     0.95546,     0.95565,     0.95592,\n",
       "            0.95618,     0.95627,     0.95636,     0.95644,     0.95653,     0.95661,     0.95667,     0.95673,     0.95678,     0.95684,     0.95689,     0.95695,     0.95701,     0.95713,     0.95747,      0.9578,     0.95813,      0.9584,     0.95844,     0.95848,     0.95851,     0.95855,     0.95859,\n",
       "            0.95863,     0.95867,      0.9587,     0.95874,     0.95878,     0.95882,     0.95875,     0.95851,     0.95836,     0.95838,      0.9584,     0.95842,     0.95844,     0.95846,     0.95848,      0.9585,     0.95852,     0.95854,     0.95857,     0.95859,     0.95861,     0.95863,     0.95865,\n",
       "            0.95867,     0.95869,     0.95871,     0.95873,     0.95875,     0.95877,     0.95879,     0.95895,     0.95925,     0.95937,     0.95948,      0.9596,     0.95971,     0.95975,      0.9598,     0.95985,      0.9599,     0.95995,        0.96,     0.96005,     0.96009,     0.96014,     0.96041,\n",
       "            0.96054,     0.96039,     0.96023,     0.96012,     0.96018,     0.96023,     0.96028,     0.96033,     0.96038,     0.96043,     0.96048,     0.96053,     0.96054,      0.9605,     0.96045,      0.9604,     0.96036,     0.96031,     0.96026,     0.96022,     0.96017,     0.96012,     0.96008,\n",
       "            0.96003,     0.95998,     0.95993,     0.95988,     0.95983,     0.95978,     0.95973,     0.95968,     0.95963,     0.95961,     0.95972,     0.95983,     0.95993,     0.96004,     0.96009,     0.96014,     0.96018,     0.96023,     0.96028,     0.96033,     0.96037,     0.96042,     0.96047,\n",
       "            0.96054,     0.96063,     0.96071,      0.9608,     0.96089,     0.96102,     0.96121,     0.96139,     0.96185,     0.96188,     0.96191,     0.96194,     0.96197,       0.962,     0.96203,     0.96206,     0.96209,     0.96212,     0.96215,     0.96218,     0.96221,     0.96224,     0.96227,\n",
       "            0.96229,     0.96221,     0.96213,     0.96205,     0.96197,     0.96189,     0.96183,     0.96226,     0.96221,     0.96216,      0.9621,     0.96205,       0.962,     0.96194,     0.96189,     0.96184,     0.96179,     0.96181,     0.96185,     0.96188,     0.96192,     0.96196,       0.962,\n",
       "            0.96204,     0.96208,     0.96212,     0.96216,      0.9622,     0.96227,     0.96239,     0.96252,     0.96264,     0.96286,     0.96313,     0.96322,     0.96331,      0.9634,     0.96349,     0.96358,     0.96367,     0.96376,     0.96385,     0.96394,     0.96402,     0.96399,      0.9639,\n",
       "            0.96381,     0.96372,     0.96364,     0.96356,     0.96362,     0.96367,     0.96372,     0.96377,     0.96382,     0.96388,     0.96393,     0.96398,     0.96402,     0.96405,     0.96407,     0.96409,     0.96411,     0.96414,     0.96416,     0.96418,      0.9642,     0.96423,     0.96425,\n",
       "            0.96427,     0.96429,     0.96432,     0.96434,     0.96436,     0.96438,     0.96441,     0.96443,     0.96445,     0.96443,     0.96399,     0.96408,     0.96418,     0.96427,     0.96437,     0.96449,     0.96473,      0.9649,     0.96493,     0.96495,     0.96498,       0.965,     0.96503,\n",
       "            0.96505,     0.96508,      0.9651,     0.96513,     0.96515,     0.96518,      0.9652,     0.96523,     0.96525,     0.96528,      0.9653,     0.96533,     0.96535,     0.96543,     0.96552,      0.9656,     0.96568,     0.96576,     0.96582,     0.96585,     0.96588,     0.96591,     0.96593,\n",
       "            0.96596,     0.96599,     0.96602,     0.96604,     0.96607,      0.9661,     0.96613,     0.96615,     0.96618,     0.96621,     0.96624,     0.96627,     0.96635,     0.96644,     0.96653,     0.96663,     0.96672,     0.96668,     0.96662,     0.96657,     0.96651,     0.96646,      0.9664,\n",
       "            0.96634,     0.96629,     0.96626,     0.96642,     0.96657,     0.96673,     0.96689,     0.96705,     0.96718,     0.96723,     0.96729,     0.96735,     0.96741,     0.96747,     0.96753,     0.96759,     0.96714,     0.96717,     0.96719,     0.96722,     0.96724,     0.96727,      0.9673,\n",
       "            0.96732,     0.96735,     0.96738,      0.9674,     0.96743,     0.96745,     0.96748,     0.96751,     0.96753,     0.96756,     0.96759,     0.96756,     0.96752,     0.96749,     0.96746,     0.96742,     0.96739,     0.96736,     0.96732,     0.96729,     0.96725,     0.96722,     0.96719,\n",
       "            0.96715,     0.96712,     0.96714,      0.9673,     0.96746,     0.96751,     0.96739,     0.96726,     0.96713,     0.96751,     0.96747,     0.96743,     0.96739,     0.96735,     0.96731,     0.96728,     0.96724,      0.9672,     0.96716,     0.96712,     0.96708,     0.96704,     0.96709,\n",
       "            0.96716,     0.96723,     0.96731,     0.96738,     0.96745,     0.96753,     0.96761,     0.96769,     0.96777,     0.96785,     0.96792,      0.9679,      0.9678,      0.9677,      0.9676,     0.96749,     0.96757,     0.96773,     0.96789,     0.96802,     0.96814,     0.96826,     0.96838,\n",
       "            0.96787,     0.96783,      0.9678,     0.96776,     0.96773,     0.96769,     0.96766,     0.96762,     0.96759,     0.96755,     0.96752,     0.96748,     0.96745,     0.96741,     0.96742,     0.96744,     0.96747,     0.96749,     0.96752,     0.96754,     0.96757,      0.9676,     0.96762,\n",
       "            0.96765,     0.96767,      0.9677,     0.96772,     0.96775,     0.96777,      0.9678,     0.96782,     0.96785,     0.96786,     0.96782,     0.96778,     0.96775,     0.96771,     0.96767,     0.96763,      0.9676,     0.96756,     0.96752,     0.96748,     0.96745,     0.96741,     0.96737,\n",
       "            0.96746,     0.96754,     0.96763,     0.96772,      0.9678,     0.96779,     0.96772,     0.96766,     0.96759,     0.96752,     0.96745,     0.96738,     0.96742,     0.96766,     0.96776,     0.96765,     0.96753,     0.96742,     0.96731,     0.96737,     0.96743,      0.9675,     0.96756,\n",
       "            0.96763,     0.96769,     0.96775,     0.96773,     0.96768,     0.96762,     0.96757,     0.96751,     0.96745,      0.9674,     0.96734,     0.96728,     0.96665,      0.9665,     0.96636,     0.96627,     0.96625,     0.96622,      0.9662,     0.96618,     0.96615,     0.96613,     0.96611,\n",
       "            0.96608,     0.96606,     0.96604,     0.96601,     0.96599,     0.96597,     0.96595,     0.96592,      0.9659,     0.96588,     0.96585,     0.96583,     0.96581,     0.96579,     0.96594,      0.9661,     0.96671,     0.96662,     0.96654,     0.96645,     0.96637,     0.96628,     0.96629,\n",
       "            0.96661,     0.96657,     0.96642,     0.96628,     0.96606,     0.96572,     0.96562,     0.96555,     0.96547,      0.9654,     0.96533,     0.96525,     0.96519,     0.96535,     0.96551,     0.96562,     0.96536,     0.96509,     0.96474,     0.96454,      0.9644,     0.96425,     0.96383,\n",
       "            0.96348,     0.96327,     0.96306,     0.96286,     0.96265,     0.96301,     0.96291,      0.9628,      0.9627,     0.96258,     0.96224,     0.96189,      0.9616,     0.96168,     0.96175,     0.96183,      0.9619,     0.96197,     0.96205,     0.96199,     0.96189,      0.9618,      0.9617,\n",
       "            0.96161,     0.96141,     0.96106,     0.96109,     0.96112,     0.96116,     0.96119,     0.96123,     0.96126,      0.9613,     0.96133,     0.96137,     0.96141,     0.96144,     0.96148,     0.96151,     0.96124,     0.96112,     0.96144,     0.96103,     0.96036,      0.9601,     0.95988,\n",
       "            0.95971,     0.95953,     0.95918,     0.95889,      0.9588,      0.9587,     0.95861,     0.95851,     0.95842,     0.95831,     0.95821,      0.9581,       0.958,       0.958,     0.95824,     0.95827,     0.95792,     0.95741,     0.95718,     0.95697,     0.95636,     0.95618,       0.956,\n",
       "            0.95582,     0.95547,     0.95525,     0.95512,     0.95498,     0.95485,     0.95423,     0.95412,     0.95402,     0.95391,      0.9538,     0.95357,      0.9533,     0.95281,     0.95279,     0.95238,     0.95195,     0.95155,     0.95128,     0.95102,     0.95075,     0.95052,     0.95031,\n",
       "            0.95016,      0.9504,     0.95039,       0.949,     0.94882,     0.94864,     0.94845,     0.94824,     0.94803,     0.94717,     0.94654,     0.94611,     0.94549,     0.94573,     0.94528,      0.9452,     0.94511,     0.94502,     0.94493,     0.94484,      0.9442,     0.94366,      0.9426,\n",
       "            0.94194,     0.94108,     0.94093,     0.94077,     0.94062,     0.94029,     0.93996,     0.93969,     0.93931,     0.93938,     0.93916,     0.93894,     0.93805,     0.93679,     0.93626,     0.93604,     0.93582,     0.93516,     0.93479,     0.93449,     0.93421,     0.93293,     0.93224,\n",
       "            0.93137,      0.9311,     0.93079,     0.93042,     0.92935,     0.92752,     0.92714,     0.92686,     0.92658,     0.92603,     0.92566,     0.92491,      0.9243,     0.92273,     0.92245,     0.92212,      0.9209,     0.91962,     0.91906,     0.91849,     0.91527,     0.91358,     0.91377,\n",
       "            0.91196,     0.91083,     0.90921,     0.90883,     0.90826,     0.90543,     0.90427,     0.90197,     0.89966,     0.89848,     0.89731,     0.89613,      0.8938,     0.89145,     0.88973,     0.88943,     0.88612,     0.88374,     0.88243,     0.87895,     0.87774,     0.87472,     0.87423,\n",
       "            0.87263,     0.87222,     0.86889,     0.86571,     0.86231,     0.86079,     0.85795,     0.85606,     0.85116,     0.84916,     0.84599,     0.84263,     0.83896,     0.83573,     0.83185,     0.82858,     0.82595,     0.82265,     0.81867,     0.81467,     0.80796,     0.80656,     0.80317,\n",
       "             0.7936,     0.78871,     0.78386,     0.77956,     0.77529,     0.76929,     0.76204,     0.75398,      0.7473,     0.74054,     0.72991,     0.72374,     0.71673,      0.7049,     0.69687,     0.68712,     0.67307,     0.65872,     0.64752,     0.62549,     0.59717,     0.58207,     0.56858,\n",
       "            0.54688,     0.52039,     0.48426,     0.47105,     0.44399,     0.41476,     0.39667,     0.37441,      0.3541,      0.3372,      0.3146,     0.29551,     0.28576,     0.27026,     0.24433,     0.23263,      0.2132,     0.18705,     0.16969,     0.15522,      0.1323,     0.11891,    0.098499,\n",
       "           0.086353,    0.079304,    0.059807,    0.050764,    0.048466,    0.041546,    0.032331,   0.0099902,   0.0042547,           0,           0,           0,           0,           0,           0,           0,           0,           0,           0,           0,           0,           0,           0,\n",
       "                  0,           0,           0,           0,           0,           0,           0,           0,           0,           0,           0]]), 'Confidence', 'F1'], [array([          0,    0.001001,    0.002002,    0.003003,    0.004004,    0.005005,    0.006006,    0.007007,    0.008008,    0.009009,     0.01001,    0.011011,    0.012012,    0.013013,    0.014014,    0.015015,    0.016016,    0.017017,    0.018018,    0.019019,     0.02002,    0.021021,    0.022022,    0.023023,\n",
       "          0.024024,    0.025025,    0.026026,    0.027027,    0.028028,    0.029029,     0.03003,    0.031031,    0.032032,    0.033033,    0.034034,    0.035035,    0.036036,    0.037037,    0.038038,    0.039039,     0.04004,    0.041041,    0.042042,    0.043043,    0.044044,    0.045045,    0.046046,    0.047047,\n",
       "          0.048048,    0.049049,     0.05005,    0.051051,    0.052052,    0.053053,    0.054054,    0.055055,    0.056056,    0.057057,    0.058058,    0.059059,     0.06006,    0.061061,    0.062062,    0.063063,    0.064064,    0.065065,    0.066066,    0.067067,    0.068068,    0.069069,     0.07007,    0.071071,\n",
       "          0.072072,    0.073073,    0.074074,    0.075075,    0.076076,    0.077077,    0.078078,    0.079079,     0.08008,    0.081081,    0.082082,    0.083083,    0.084084,    0.085085,    0.086086,    0.087087,    0.088088,    0.089089,     0.09009,    0.091091,    0.092092,    0.093093,    0.094094,    0.095095,\n",
       "          0.096096,    0.097097,    0.098098,    0.099099,      0.1001,      0.1011,      0.1021,      0.1031,      0.1041,     0.10511,     0.10611,     0.10711,     0.10811,     0.10911,     0.11011,     0.11111,     0.11211,     0.11311,     0.11411,     0.11512,     0.11612,     0.11712,     0.11812,     0.11912,\n",
       "           0.12012,     0.12112,     0.12212,     0.12312,     0.12412,     0.12513,     0.12613,     0.12713,     0.12813,     0.12913,     0.13013,     0.13113,     0.13213,     0.13313,     0.13413,     0.13514,     0.13614,     0.13714,     0.13814,     0.13914,     0.14014,     0.14114,     0.14214,     0.14314,\n",
       "           0.14414,     0.14515,     0.14615,     0.14715,     0.14815,     0.14915,     0.15015,     0.15115,     0.15215,     0.15315,     0.15415,     0.15516,     0.15616,     0.15716,     0.15816,     0.15916,     0.16016,     0.16116,     0.16216,     0.16316,     0.16416,     0.16517,     0.16617,     0.16717,\n",
       "           0.16817,     0.16917,     0.17017,     0.17117,     0.17217,     0.17317,     0.17417,     0.17518,     0.17618,     0.17718,     0.17818,     0.17918,     0.18018,     0.18118,     0.18218,     0.18318,     0.18418,     0.18519,     0.18619,     0.18719,     0.18819,     0.18919,     0.19019,     0.19119,\n",
       "           0.19219,     0.19319,     0.19419,      0.1952,      0.1962,      0.1972,      0.1982,      0.1992,      0.2002,      0.2012,      0.2022,      0.2032,      0.2042,     0.20521,     0.20621,     0.20721,     0.20821,     0.20921,     0.21021,     0.21121,     0.21221,     0.21321,     0.21421,     0.21522,\n",
       "           0.21622,     0.21722,     0.21822,     0.21922,     0.22022,     0.22122,     0.22222,     0.22322,     0.22422,     0.22523,     0.22623,     0.22723,     0.22823,     0.22923,     0.23023,     0.23123,     0.23223,     0.23323,     0.23423,     0.23524,     0.23624,     0.23724,     0.23824,     0.23924,\n",
       "           0.24024,     0.24124,     0.24224,     0.24324,     0.24424,     0.24525,     0.24625,     0.24725,     0.24825,     0.24925,     0.25025,     0.25125,     0.25225,     0.25325,     0.25425,     0.25526,     0.25626,     0.25726,     0.25826,     0.25926,     0.26026,     0.26126,     0.26226,     0.26326,\n",
       "           0.26426,     0.26527,     0.26627,     0.26727,     0.26827,     0.26927,     0.27027,     0.27127,     0.27227,     0.27327,     0.27427,     0.27528,     0.27628,     0.27728,     0.27828,     0.27928,     0.28028,     0.28128,     0.28228,     0.28328,     0.28428,     0.28529,     0.28629,     0.28729,\n",
       "           0.28829,     0.28929,     0.29029,     0.29129,     0.29229,     0.29329,     0.29429,      0.2953,      0.2963,      0.2973,      0.2983,      0.2993,      0.3003,      0.3013,      0.3023,      0.3033,      0.3043,     0.30531,     0.30631,     0.30731,     0.30831,     0.30931,     0.31031,     0.31131,\n",
       "           0.31231,     0.31331,     0.31431,     0.31532,     0.31632,     0.31732,     0.31832,     0.31932,     0.32032,     0.32132,     0.32232,     0.32332,     0.32432,     0.32533,     0.32633,     0.32733,     0.32833,     0.32933,     0.33033,     0.33133,     0.33233,     0.33333,     0.33433,     0.33534,\n",
       "           0.33634,     0.33734,     0.33834,     0.33934,     0.34034,     0.34134,     0.34234,     0.34334,     0.34434,     0.34535,     0.34635,     0.34735,     0.34835,     0.34935,     0.35035,     0.35135,     0.35235,     0.35335,     0.35435,     0.35536,     0.35636,     0.35736,     0.35836,     0.35936,\n",
       "           0.36036,     0.36136,     0.36236,     0.36336,     0.36436,     0.36537,     0.36637,     0.36737,     0.36837,     0.36937,     0.37037,     0.37137,     0.37237,     0.37337,     0.37437,     0.37538,     0.37638,     0.37738,     0.37838,     0.37938,     0.38038,     0.38138,     0.38238,     0.38338,\n",
       "           0.38438,     0.38539,     0.38639,     0.38739,     0.38839,     0.38939,     0.39039,     0.39139,     0.39239,     0.39339,     0.39439,      0.3954,      0.3964,      0.3974,      0.3984,      0.3994,      0.4004,      0.4014,      0.4024,      0.4034,      0.4044,     0.40541,     0.40641,     0.40741,\n",
       "           0.40841,     0.40941,     0.41041,     0.41141,     0.41241,     0.41341,     0.41441,     0.41542,     0.41642,     0.41742,     0.41842,     0.41942,     0.42042,     0.42142,     0.42242,     0.42342,     0.42442,     0.42543,     0.42643,     0.42743,     0.42843,     0.42943,     0.43043,     0.43143,\n",
       "           0.43243,     0.43343,     0.43443,     0.43544,     0.43644,     0.43744,     0.43844,     0.43944,     0.44044,     0.44144,     0.44244,     0.44344,     0.44444,     0.44545,     0.44645,     0.44745,     0.44845,     0.44945,     0.45045,     0.45145,     0.45245,     0.45345,     0.45445,     0.45546,\n",
       "           0.45646,     0.45746,     0.45846,     0.45946,     0.46046,     0.46146,     0.46246,     0.46346,     0.46446,     0.46547,     0.46647,     0.46747,     0.46847,     0.46947,     0.47047,     0.47147,     0.47247,     0.47347,     0.47447,     0.47548,     0.47648,     0.47748,     0.47848,     0.47948,\n",
       "           0.48048,     0.48148,     0.48248,     0.48348,     0.48448,     0.48549,     0.48649,     0.48749,     0.48849,     0.48949,     0.49049,     0.49149,     0.49249,     0.49349,     0.49449,      0.4955,      0.4965,      0.4975,      0.4985,      0.4995,      0.5005,      0.5015,      0.5025,      0.5035,\n",
       "            0.5045,     0.50551,     0.50651,     0.50751,     0.50851,     0.50951,     0.51051,     0.51151,     0.51251,     0.51351,     0.51451,     0.51552,     0.51652,     0.51752,     0.51852,     0.51952,     0.52052,     0.52152,     0.52252,     0.52352,     0.52452,     0.52553,     0.52653,     0.52753,\n",
       "           0.52853,     0.52953,     0.53053,     0.53153,     0.53253,     0.53353,     0.53453,     0.53554,     0.53654,     0.53754,     0.53854,     0.53954,     0.54054,     0.54154,     0.54254,     0.54354,     0.54454,     0.54555,     0.54655,     0.54755,     0.54855,     0.54955,     0.55055,     0.55155,\n",
       "           0.55255,     0.55355,     0.55455,     0.55556,     0.55656,     0.55756,     0.55856,     0.55956,     0.56056,     0.56156,     0.56256,     0.56356,     0.56456,     0.56557,     0.56657,     0.56757,     0.56857,     0.56957,     0.57057,     0.57157,     0.57257,     0.57357,     0.57457,     0.57558,\n",
       "           0.57658,     0.57758,     0.57858,     0.57958,     0.58058,     0.58158,     0.58258,     0.58358,     0.58458,     0.58559,     0.58659,     0.58759,     0.58859,     0.58959,     0.59059,     0.59159,     0.59259,     0.59359,     0.59459,      0.5956,      0.5966,      0.5976,      0.5986,      0.5996,\n",
       "            0.6006,      0.6016,      0.6026,      0.6036,      0.6046,     0.60561,     0.60661,     0.60761,     0.60861,     0.60961,     0.61061,     0.61161,     0.61261,     0.61361,     0.61461,     0.61562,     0.61662,     0.61762,     0.61862,     0.61962,     0.62062,     0.62162,     0.62262,     0.62362,\n",
       "           0.62462,     0.62563,     0.62663,     0.62763,     0.62863,     0.62963,     0.63063,     0.63163,     0.63263,     0.63363,     0.63463,     0.63564,     0.63664,     0.63764,     0.63864,     0.63964,     0.64064,     0.64164,     0.64264,     0.64364,     0.64464,     0.64565,     0.64665,     0.64765,\n",
       "           0.64865,     0.64965,     0.65065,     0.65165,     0.65265,     0.65365,     0.65465,     0.65566,     0.65666,     0.65766,     0.65866,     0.65966,     0.66066,     0.66166,     0.66266,     0.66366,     0.66466,     0.66567,     0.66667,     0.66767,     0.66867,     0.66967,     0.67067,     0.67167,\n",
       "           0.67267,     0.67367,     0.67467,     0.67568,     0.67668,     0.67768,     0.67868,     0.67968,     0.68068,     0.68168,     0.68268,     0.68368,     0.68468,     0.68569,     0.68669,     0.68769,     0.68869,     0.68969,     0.69069,     0.69169,     0.69269,     0.69369,     0.69469,      0.6957,\n",
       "            0.6967,      0.6977,      0.6987,      0.6997,      0.7007,      0.7017,      0.7027,      0.7037,      0.7047,     0.70571,     0.70671,     0.70771,     0.70871,     0.70971,     0.71071,     0.71171,     0.71271,     0.71371,     0.71471,     0.71572,     0.71672,     0.71772,     0.71872,     0.71972,\n",
       "           0.72072,     0.72172,     0.72272,     0.72372,     0.72472,     0.72573,     0.72673,     0.72773,     0.72873,     0.72973,     0.73073,     0.73173,     0.73273,     0.73373,     0.73473,     0.73574,     0.73674,     0.73774,     0.73874,     0.73974,     0.74074,     0.74174,     0.74274,     0.74374,\n",
       "           0.74474,     0.74575,     0.74675,     0.74775,     0.74875,     0.74975,     0.75075,     0.75175,     0.75275,     0.75375,     0.75475,     0.75576,     0.75676,     0.75776,     0.75876,     0.75976,     0.76076,     0.76176,     0.76276,     0.76376,     0.76476,     0.76577,     0.76677,     0.76777,\n",
       "           0.76877,     0.76977,     0.77077,     0.77177,     0.77277,     0.77377,     0.77477,     0.77578,     0.77678,     0.77778,     0.77878,     0.77978,     0.78078,     0.78178,     0.78278,     0.78378,     0.78478,     0.78579,     0.78679,     0.78779,     0.78879,     0.78979,     0.79079,     0.79179,\n",
       "           0.79279,     0.79379,     0.79479,      0.7958,      0.7968,      0.7978,      0.7988,      0.7998,      0.8008,      0.8018,      0.8028,      0.8038,      0.8048,     0.80581,     0.80681,     0.80781,     0.80881,     0.80981,     0.81081,     0.81181,     0.81281,     0.81381,     0.81481,     0.81582,\n",
       "           0.81682,     0.81782,     0.81882,     0.81982,     0.82082,     0.82182,     0.82282,     0.82382,     0.82482,     0.82583,     0.82683,     0.82783,     0.82883,     0.82983,     0.83083,     0.83183,     0.83283,     0.83383,     0.83483,     0.83584,     0.83684,     0.83784,     0.83884,     0.83984,\n",
       "           0.84084,     0.84184,     0.84284,     0.84384,     0.84484,     0.84585,     0.84685,     0.84785,     0.84885,     0.84985,     0.85085,     0.85185,     0.85285,     0.85385,     0.85485,     0.85586,     0.85686,     0.85786,     0.85886,     0.85986,     0.86086,     0.86186,     0.86286,     0.86386,\n",
       "           0.86486,     0.86587,     0.86687,     0.86787,     0.86887,     0.86987,     0.87087,     0.87187,     0.87287,     0.87387,     0.87487,     0.87588,     0.87688,     0.87788,     0.87888,     0.87988,     0.88088,     0.88188,     0.88288,     0.88388,     0.88488,     0.88589,     0.88689,     0.88789,\n",
       "           0.88889,     0.88989,     0.89089,     0.89189,     0.89289,     0.89389,     0.89489,      0.8959,      0.8969,      0.8979,      0.8989,      0.8999,      0.9009,      0.9019,      0.9029,      0.9039,      0.9049,     0.90591,     0.90691,     0.90791,     0.90891,     0.90991,     0.91091,     0.91191,\n",
       "           0.91291,     0.91391,     0.91491,     0.91592,     0.91692,     0.91792,     0.91892,     0.91992,     0.92092,     0.92192,     0.92292,     0.92392,     0.92492,     0.92593,     0.92693,     0.92793,     0.92893,     0.92993,     0.93093,     0.93193,     0.93293,     0.93393,     0.93493,     0.93594,\n",
       "           0.93694,     0.93794,     0.93894,     0.93994,     0.94094,     0.94194,     0.94294,     0.94394,     0.94494,     0.94595,     0.94695,     0.94795,     0.94895,     0.94995,     0.95095,     0.95195,     0.95295,     0.95395,     0.95495,     0.95596,     0.95696,     0.95796,     0.95896,     0.95996,\n",
       "           0.96096,     0.96196,     0.96296,     0.96396,     0.96496,     0.96597,     0.96697,     0.96797,     0.96897,     0.96997,     0.97097,     0.97197,     0.97297,     0.97397,     0.97497,     0.97598,     0.97698,     0.97798,     0.97898,     0.97998,     0.98098,     0.98198,     0.98298,     0.98398,\n",
       "           0.98498,     0.98599,     0.98699,     0.98799,     0.98899,     0.98999,     0.99099,     0.99199,     0.99299,     0.99399,     0.99499,       0.996,       0.997,       0.998,       0.999,           1]), array([[    0.52855,     0.52855,     0.61157,     0.65369,      0.6902,     0.70878,     0.72944,     0.73945,     0.74987,     0.75833,     0.76609,     0.77283,     0.78161,     0.78729,     0.79202,     0.79577,     0.79886,     0.80304,      0.8058,     0.80968,     0.81548,     0.81888,     0.82182,\n",
       "            0.82242,     0.82466,     0.82752,     0.82929,      0.8319,     0.83259,     0.83438,     0.83748,     0.83896,     0.84141,      0.8435,     0.84535,     0.84755,     0.85037,     0.85145,     0.85192,     0.85285,     0.85361,     0.85675,     0.86248,     0.86518,     0.86674,     0.86707,\n",
       "             0.8674,     0.86919,     0.87038,     0.87115,     0.87166,     0.87233,     0.87277,     0.87305,     0.87343,     0.87423,     0.87451,     0.87479,     0.87515,      0.8777,       0.878,     0.87829,     0.87961,     0.88154,     0.88207,     0.88286,     0.88315,     0.88341,      0.8837,\n",
       "            0.88561,     0.88779,     0.88902,     0.89052,     0.89094,       0.892,     0.89236,     0.89272,     0.89296,     0.89319,     0.89342,     0.89392,     0.89595,     0.89682,     0.89706,      0.8973,      0.8976,     0.89793,     0.89865,     0.90103,     0.90233,      0.9029,     0.90418,\n",
       "            0.90511,     0.90589,     0.90625,     0.90649,     0.90674,     0.90789,     0.90846,     0.90878,     0.90911,      0.9094,     0.90967,     0.90993,     0.91001,     0.91163,     0.91236,     0.91348,     0.91396,     0.91404,     0.91474,     0.91528,     0.91562,     0.91577,     0.91591,\n",
       "            0.91605,     0.91619,     0.91633,     0.91714,     0.91821,     0.91849,     0.91878,      0.9188,     0.91878,     0.91876,     0.91957,     0.91989,     0.92021,     0.92064,     0.92121,     0.92138,     0.92154,      0.9217,     0.92186,     0.92202,     0.92239,      0.9229,     0.92314,\n",
       "            0.92338,     0.92362,     0.92361,     0.92359,     0.92357,     0.92355,     0.92352,      0.9235,     0.92353,     0.92361,     0.92368,     0.92376,     0.92383,     0.92391,     0.92399,     0.92406,     0.92414,     0.92421,     0.92429,     0.92494,     0.92595,     0.92763,     0.92778,\n",
       "            0.92789,       0.928,     0.92812,     0.92823,     0.92834,     0.92845,     0.92849,     0.92846,     0.92861,     0.92911,     0.92969,     0.93016,     0.93027,     0.93038,     0.93049,      0.9306,     0.93071,     0.93082,     0.93093,      0.9312,     0.93156,     0.93199,     0.93257,\n",
       "            0.93285,     0.93308,      0.9333,     0.93438,     0.93457,     0.93475,     0.93494,     0.93513,     0.93576,     0.93617,     0.93631,     0.93644,     0.93658,     0.93672,     0.93686,     0.93759,     0.93873,     0.93909,     0.93944,     0.94039,     0.94075,      0.9411,     0.94164,\n",
       "            0.94215,     0.94232,     0.94248,     0.94265,     0.94282,     0.94298,     0.94309,      0.9432,     0.94331,     0.94342,     0.94353,     0.94364,     0.94375,     0.94399,     0.94464,     0.94529,     0.94594,     0.94646,     0.94654,     0.94661,     0.94668,     0.94676,     0.94683,\n",
       "            0.94691,     0.94698,     0.94705,     0.94713,      0.9472,     0.94728,     0.94731,     0.94729,     0.94728,     0.94732,     0.94736,      0.9474,     0.94744,     0.94748,     0.94753,     0.94757,     0.94761,     0.94765,     0.94769,     0.94773,     0.94777,     0.94781,     0.94785,\n",
       "            0.94789,     0.94793,     0.94797,     0.94801,     0.94805,     0.94809,     0.94813,     0.94844,     0.94903,     0.94926,     0.94949,     0.94971,     0.94992,     0.95001,     0.95011,      0.9502,      0.9503,      0.9504,     0.95049,     0.95059,     0.95068,     0.95078,     0.95131,\n",
       "            0.95167,     0.95165,     0.95164,     0.95165,     0.95175,     0.95185,     0.95195,     0.95205,     0.95216,     0.95226,     0.95236,     0.95246,     0.95251,     0.95251,      0.9525,      0.9525,      0.9525,     0.95249,     0.95249,     0.95248,     0.95248,     0.95247,     0.95247,\n",
       "            0.95247,     0.95246,     0.95246,     0.95245,     0.95245,     0.95244,     0.95244,     0.95243,     0.95243,     0.95247,     0.95268,      0.9529,     0.95311,     0.95332,     0.95341,     0.95351,      0.9536,     0.95369,     0.95379,     0.95388,     0.95398,     0.95407,     0.95416,\n",
       "             0.9543,     0.95447,     0.95465,     0.95482,       0.955,     0.95525,     0.95562,     0.95599,     0.95689,     0.95695,     0.95701,     0.95707,     0.95713,     0.95719,     0.95725,     0.95731,     0.95737,     0.95743,     0.95749,     0.95755,     0.95761,     0.95767,     0.95773,\n",
       "            0.95779,     0.95778,     0.95777,     0.95777,     0.95776,     0.95775,     0.95778,     0.95865,     0.95864,     0.95864,     0.95863,     0.95863,     0.95863,     0.95862,     0.95862,     0.95861,     0.95861,     0.95867,     0.95875,     0.95883,     0.95891,     0.95898,     0.95906,\n",
       "            0.95914,     0.95922,      0.9593,     0.95938,     0.95946,     0.95959,     0.95984,     0.96009,     0.96033,     0.96077,      0.9613,     0.96149,     0.96167,     0.96185,     0.96202,      0.9622,     0.96238,     0.96256,     0.96273,     0.96291,     0.96309,     0.96313,     0.96313,\n",
       "            0.96312,     0.96311,     0.96311,     0.96311,     0.96322,     0.96332,     0.96343,     0.96353,     0.96363,     0.96374,     0.96384,     0.96395,     0.96403,     0.96408,     0.96412,     0.96417,     0.96421,     0.96426,      0.9643,     0.96435,     0.96439,     0.96444,     0.96448,\n",
       "            0.96453,     0.96457,     0.96462,     0.96466,     0.96471,     0.96475,      0.9648,     0.96484,     0.96489,     0.96493,     0.96492,      0.9651,     0.96529,     0.96548,     0.96567,     0.96592,     0.96639,     0.96674,     0.96679,     0.96684,     0.96689,     0.96695,       0.967,\n",
       "            0.96705,      0.9671,     0.96715,      0.9672,     0.96725,      0.9673,     0.96735,      0.9674,     0.96745,      0.9675,     0.96755,      0.9676,     0.96765,     0.96781,     0.96798,     0.96814,      0.9683,     0.96847,     0.96859,     0.96865,      0.9687,     0.96876,     0.96882,\n",
       "            0.96887,     0.96893,     0.96898,     0.96904,     0.96909,     0.96915,      0.9692,     0.96926,     0.96932,     0.96937,     0.96943,     0.96948,     0.96964,     0.96983,     0.97002,     0.97021,      0.9704,     0.97042,     0.97041,     0.97041,     0.97041,      0.9704,      0.9704,\n",
       "             0.9704,     0.97039,     0.97043,     0.97075,     0.97107,     0.97139,      0.9717,     0.97202,     0.97228,      0.9724,     0.97252,     0.97264,     0.97276,     0.97288,       0.973,     0.97312,     0.97318,     0.97323,     0.97329,     0.97334,     0.97339,     0.97345,      0.9735,\n",
       "            0.97355,     0.97361,     0.97366,     0.97371,     0.97376,     0.97382,     0.97387,     0.97392,     0.97398,     0.97403,     0.97408,     0.97409,     0.97409,     0.97408,     0.97408,     0.97408,     0.97408,     0.97408,     0.97407,     0.97407,     0.97407,     0.97407,     0.97407,\n",
       "            0.97407,     0.97406,     0.97415,     0.97447,     0.97479,       0.975,     0.97499,     0.97499,     0.97498,     0.97591,     0.97591,     0.97591,     0.97591,     0.97591,     0.97591,      0.9759,      0.9759,      0.9759,      0.9759,      0.9759,     0.97589,     0.97589,     0.97601,\n",
       "            0.97615,      0.9763,     0.97645,      0.9766,     0.97675,      0.9769,     0.97706,     0.97723,     0.97739,     0.97755,     0.97771,     0.97778,     0.97777,     0.97777,     0.97776,     0.97776,     0.97798,     0.97831,     0.97863,     0.97889,     0.97913,     0.97938,     0.97962,\n",
       "            0.97963,     0.97963,     0.97963,     0.97963,     0.97962,     0.97962,     0.97962,     0.97962,     0.97962,     0.97962,     0.97962,     0.97961,     0.97961,     0.97961,     0.97965,      0.9797,     0.97975,      0.9798,     0.97985,     0.97991,     0.97996,     0.98001,     0.98006,\n",
       "            0.98011,     0.98016,     0.98021,     0.98027,     0.98032,     0.98037,     0.98042,     0.98047,     0.98052,     0.98056,     0.98056,     0.98056,     0.98056,     0.98056,     0.98056,     0.98055,     0.98055,     0.98055,     0.98055,     0.98055,     0.98055,     0.98055,     0.98055,\n",
       "            0.98073,      0.9809,     0.98108,     0.98126,     0.98144,      0.9815,      0.9815,     0.98149,     0.98149,     0.98149,     0.98149,     0.98148,     0.98164,     0.98214,     0.98244,     0.98243,     0.98243,     0.98243,     0.98242,     0.98255,     0.98268,     0.98281,     0.98295,\n",
       "            0.98308,     0.98321,     0.98334,     0.98338,     0.98338,     0.98338,     0.98338,     0.98337,     0.98337,     0.98337,     0.98337,     0.98337,     0.98335,     0.98334,     0.98334,     0.98333,     0.98333,     0.98333,     0.98333,     0.98333,     0.98333,     0.98333,     0.98333,\n",
       "            0.98333,     0.98333,     0.98333,     0.98332,     0.98332,     0.98332,     0.98332,     0.98332,     0.98332,     0.98332,     0.98332,     0.98332,     0.98332,     0.98332,     0.98365,     0.98398,     0.98525,     0.98525,     0.98525,     0.98524,     0.98524,     0.98524,     0.98539,\n",
       "            0.98606,      0.9862,      0.9862,      0.9862,     0.98619,     0.98618,     0.98618,     0.98618,     0.98617,     0.98617,     0.98617,     0.98617,     0.98619,     0.98652,     0.98685,     0.98714,     0.98713,     0.98713,     0.98712,     0.98711,     0.98711,     0.98711,      0.9871,\n",
       "            0.98709,     0.98708,     0.98708,     0.98707,     0.98706,     0.98805,     0.98804,     0.98804,     0.98804,     0.98804,     0.98803,     0.98802,     0.98803,     0.98819,     0.98835,      0.9885,     0.98866,     0.98881,     0.98897,       0.989,       0.989,     0.98899,     0.98899,\n",
       "            0.98899,     0.98899,     0.98898,     0.98905,     0.98913,      0.9892,     0.98928,     0.98935,     0.98943,      0.9895,     0.98958,     0.98965,     0.98973,      0.9898,     0.98988,     0.98995,     0.98996,     0.99019,     0.99087,     0.99095,     0.99093,     0.99093,     0.99093,\n",
       "            0.99092,     0.99092,     0.99091,     0.99091,     0.99091,      0.9909,      0.9909,      0.9909,      0.9909,      0.9909,      0.9909,     0.99089,     0.99089,     0.99105,     0.99157,     0.99189,     0.99189,     0.99188,     0.99188,     0.99187,     0.99186,     0.99186,     0.99186,\n",
       "            0.99185,     0.99185,     0.99184,     0.99184,     0.99184,     0.99184,     0.99183,     0.99183,     0.99182,     0.99182,     0.99182,     0.99182,     0.99181,      0.9918,     0.99281,     0.99281,      0.9928,      0.9928,     0.99279,     0.99279,     0.99279,     0.99278,     0.99278,\n",
       "            0.99285,     0.99338,      0.9938,     0.99378,     0.99378,     0.99378,     0.99378,     0.99377,     0.99377,     0.99376,     0.99375,     0.99375,     0.99397,      0.9945,     0.99477,     0.99477,     0.99477,     0.99477,     0.99477,     0.99476,     0.99476,     0.99475,     0.99474,\n",
       "            0.99473,     0.99473,     0.99472,     0.99472,     0.99472,     0.99472,     0.99471,     0.99471,     0.99471,     0.99576,     0.99576,     0.99575,     0.99575,     0.99574,     0.99573,     0.99573,     0.99573,     0.99572,     0.99572,     0.99572,     0.99571,      0.9957,      0.9957,\n",
       "            0.99569,     0.99569,     0.99568,     0.99568,     0.99567,     0.99566,     0.99565,     0.99565,     0.99565,     0.99564,     0.99564,     0.99563,     0.99563,     0.99561,     0.99561,     0.99561,      0.9956,     0.99559,     0.99558,     0.99558,     0.99555,     0.99553,     0.99647,\n",
       "            0.99663,     0.99662,     0.99661,     0.99661,     0.99661,     0.99659,     0.99658,     0.99656,     0.99655,     0.99654,     0.99653,     0.99652,     0.99651,     0.99649,     0.99648,     0.99648,     0.99645,     0.99643,     0.99643,      0.9964,     0.99639,     0.99637,     0.99637,\n",
       "            0.99635,     0.99635,     0.99633,     0.99753,     0.99751,      0.9975,     0.99749,     0.99748,     0.99745,     0.99744,     0.99743,     0.99741,     0.99739,     0.99737,     0.99735,     0.99733,     0.99732,      0.9973,     0.99728,     0.99726,     0.99722,     0.99721,     0.99719,\n",
       "            0.99713,     0.99711,     0.99708,     0.99705,     0.99702,     0.99849,     0.99847,     0.99844,     0.99842,     0.99839,     0.99836,     0.99833,     0.99831,     0.99826,     0.99823,      0.9982,     0.99814,     0.99808,     0.99803,     0.99793,     0.99778,      0.9977,     0.99762,\n",
       "            0.99749,     0.99732,     0.99705,     0.99694,      0.9967,      0.9964,     0.99619,     0.99591,     0.99562,     0.99536,     0.99496,     0.99457,     0.99436,     0.99398,     0.99325,     0.99963,           1,           1,           1,           1,           1,           1,           1,\n",
       "                  1,           1,           1,           1,           1,           1,           1,           1,           1,           1,           1,           1,           1,           1,           1,           1,           1,           1,           1,           1,           1,           1,           1,\n",
       "                  1,           1,           1,           1,           1,           1,           1,           1,           1,           1,           1]]), 'Confidence', 'Precision'], [array([          0,    0.001001,    0.002002,    0.003003,    0.004004,    0.005005,    0.006006,    0.007007,    0.008008,    0.009009,     0.01001,    0.011011,    0.012012,    0.013013,    0.014014,    0.015015,    0.016016,    0.017017,    0.018018,    0.019019,     0.02002,    0.021021,    0.022022,    0.023023,\n",
       "          0.024024,    0.025025,    0.026026,    0.027027,    0.028028,    0.029029,     0.03003,    0.031031,    0.032032,    0.033033,    0.034034,    0.035035,    0.036036,    0.037037,    0.038038,    0.039039,     0.04004,    0.041041,    0.042042,    0.043043,    0.044044,    0.045045,    0.046046,    0.047047,\n",
       "          0.048048,    0.049049,     0.05005,    0.051051,    0.052052,    0.053053,    0.054054,    0.055055,    0.056056,    0.057057,    0.058058,    0.059059,     0.06006,    0.061061,    0.062062,    0.063063,    0.064064,    0.065065,    0.066066,    0.067067,    0.068068,    0.069069,     0.07007,    0.071071,\n",
       "          0.072072,    0.073073,    0.074074,    0.075075,    0.076076,    0.077077,    0.078078,    0.079079,     0.08008,    0.081081,    0.082082,    0.083083,    0.084084,    0.085085,    0.086086,    0.087087,    0.088088,    0.089089,     0.09009,    0.091091,    0.092092,    0.093093,    0.094094,    0.095095,\n",
       "          0.096096,    0.097097,    0.098098,    0.099099,      0.1001,      0.1011,      0.1021,      0.1031,      0.1041,     0.10511,     0.10611,     0.10711,     0.10811,     0.10911,     0.11011,     0.11111,     0.11211,     0.11311,     0.11411,     0.11512,     0.11612,     0.11712,     0.11812,     0.11912,\n",
       "           0.12012,     0.12112,     0.12212,     0.12312,     0.12412,     0.12513,     0.12613,     0.12713,     0.12813,     0.12913,     0.13013,     0.13113,     0.13213,     0.13313,     0.13413,     0.13514,     0.13614,     0.13714,     0.13814,     0.13914,     0.14014,     0.14114,     0.14214,     0.14314,\n",
       "           0.14414,     0.14515,     0.14615,     0.14715,     0.14815,     0.14915,     0.15015,     0.15115,     0.15215,     0.15315,     0.15415,     0.15516,     0.15616,     0.15716,     0.15816,     0.15916,     0.16016,     0.16116,     0.16216,     0.16316,     0.16416,     0.16517,     0.16617,     0.16717,\n",
       "           0.16817,     0.16917,     0.17017,     0.17117,     0.17217,     0.17317,     0.17417,     0.17518,     0.17618,     0.17718,     0.17818,     0.17918,     0.18018,     0.18118,     0.18218,     0.18318,     0.18418,     0.18519,     0.18619,     0.18719,     0.18819,     0.18919,     0.19019,     0.19119,\n",
       "           0.19219,     0.19319,     0.19419,      0.1952,      0.1962,      0.1972,      0.1982,      0.1992,      0.2002,      0.2012,      0.2022,      0.2032,      0.2042,     0.20521,     0.20621,     0.20721,     0.20821,     0.20921,     0.21021,     0.21121,     0.21221,     0.21321,     0.21421,     0.21522,\n",
       "           0.21622,     0.21722,     0.21822,     0.21922,     0.22022,     0.22122,     0.22222,     0.22322,     0.22422,     0.22523,     0.22623,     0.22723,     0.22823,     0.22923,     0.23023,     0.23123,     0.23223,     0.23323,     0.23423,     0.23524,     0.23624,     0.23724,     0.23824,     0.23924,\n",
       "           0.24024,     0.24124,     0.24224,     0.24324,     0.24424,     0.24525,     0.24625,     0.24725,     0.24825,     0.24925,     0.25025,     0.25125,     0.25225,     0.25325,     0.25425,     0.25526,     0.25626,     0.25726,     0.25826,     0.25926,     0.26026,     0.26126,     0.26226,     0.26326,\n",
       "           0.26426,     0.26527,     0.26627,     0.26727,     0.26827,     0.26927,     0.27027,     0.27127,     0.27227,     0.27327,     0.27427,     0.27528,     0.27628,     0.27728,     0.27828,     0.27928,     0.28028,     0.28128,     0.28228,     0.28328,     0.28428,     0.28529,     0.28629,     0.28729,\n",
       "           0.28829,     0.28929,     0.29029,     0.29129,     0.29229,     0.29329,     0.29429,      0.2953,      0.2963,      0.2973,      0.2983,      0.2993,      0.3003,      0.3013,      0.3023,      0.3033,      0.3043,     0.30531,     0.30631,     0.30731,     0.30831,     0.30931,     0.31031,     0.31131,\n",
       "           0.31231,     0.31331,     0.31431,     0.31532,     0.31632,     0.31732,     0.31832,     0.31932,     0.32032,     0.32132,     0.32232,     0.32332,     0.32432,     0.32533,     0.32633,     0.32733,     0.32833,     0.32933,     0.33033,     0.33133,     0.33233,     0.33333,     0.33433,     0.33534,\n",
       "           0.33634,     0.33734,     0.33834,     0.33934,     0.34034,     0.34134,     0.34234,     0.34334,     0.34434,     0.34535,     0.34635,     0.34735,     0.34835,     0.34935,     0.35035,     0.35135,     0.35235,     0.35335,     0.35435,     0.35536,     0.35636,     0.35736,     0.35836,     0.35936,\n",
       "           0.36036,     0.36136,     0.36236,     0.36336,     0.36436,     0.36537,     0.36637,     0.36737,     0.36837,     0.36937,     0.37037,     0.37137,     0.37237,     0.37337,     0.37437,     0.37538,     0.37638,     0.37738,     0.37838,     0.37938,     0.38038,     0.38138,     0.38238,     0.38338,\n",
       "           0.38438,     0.38539,     0.38639,     0.38739,     0.38839,     0.38939,     0.39039,     0.39139,     0.39239,     0.39339,     0.39439,      0.3954,      0.3964,      0.3974,      0.3984,      0.3994,      0.4004,      0.4014,      0.4024,      0.4034,      0.4044,     0.40541,     0.40641,     0.40741,\n",
       "           0.40841,     0.40941,     0.41041,     0.41141,     0.41241,     0.41341,     0.41441,     0.41542,     0.41642,     0.41742,     0.41842,     0.41942,     0.42042,     0.42142,     0.42242,     0.42342,     0.42442,     0.42543,     0.42643,     0.42743,     0.42843,     0.42943,     0.43043,     0.43143,\n",
       "           0.43243,     0.43343,     0.43443,     0.43544,     0.43644,     0.43744,     0.43844,     0.43944,     0.44044,     0.44144,     0.44244,     0.44344,     0.44444,     0.44545,     0.44645,     0.44745,     0.44845,     0.44945,     0.45045,     0.45145,     0.45245,     0.45345,     0.45445,     0.45546,\n",
       "           0.45646,     0.45746,     0.45846,     0.45946,     0.46046,     0.46146,     0.46246,     0.46346,     0.46446,     0.46547,     0.46647,     0.46747,     0.46847,     0.46947,     0.47047,     0.47147,     0.47247,     0.47347,     0.47447,     0.47548,     0.47648,     0.47748,     0.47848,     0.47948,\n",
       "           0.48048,     0.48148,     0.48248,     0.48348,     0.48448,     0.48549,     0.48649,     0.48749,     0.48849,     0.48949,     0.49049,     0.49149,     0.49249,     0.49349,     0.49449,      0.4955,      0.4965,      0.4975,      0.4985,      0.4995,      0.5005,      0.5015,      0.5025,      0.5035,\n",
       "            0.5045,     0.50551,     0.50651,     0.50751,     0.50851,     0.50951,     0.51051,     0.51151,     0.51251,     0.51351,     0.51451,     0.51552,     0.51652,     0.51752,     0.51852,     0.51952,     0.52052,     0.52152,     0.52252,     0.52352,     0.52452,     0.52553,     0.52653,     0.52753,\n",
       "           0.52853,     0.52953,     0.53053,     0.53153,     0.53253,     0.53353,     0.53453,     0.53554,     0.53654,     0.53754,     0.53854,     0.53954,     0.54054,     0.54154,     0.54254,     0.54354,     0.54454,     0.54555,     0.54655,     0.54755,     0.54855,     0.54955,     0.55055,     0.55155,\n",
       "           0.55255,     0.55355,     0.55455,     0.55556,     0.55656,     0.55756,     0.55856,     0.55956,     0.56056,     0.56156,     0.56256,     0.56356,     0.56456,     0.56557,     0.56657,     0.56757,     0.56857,     0.56957,     0.57057,     0.57157,     0.57257,     0.57357,     0.57457,     0.57558,\n",
       "           0.57658,     0.57758,     0.57858,     0.57958,     0.58058,     0.58158,     0.58258,     0.58358,     0.58458,     0.58559,     0.58659,     0.58759,     0.58859,     0.58959,     0.59059,     0.59159,     0.59259,     0.59359,     0.59459,      0.5956,      0.5966,      0.5976,      0.5986,      0.5996,\n",
       "            0.6006,      0.6016,      0.6026,      0.6036,      0.6046,     0.60561,     0.60661,     0.60761,     0.60861,     0.60961,     0.61061,     0.61161,     0.61261,     0.61361,     0.61461,     0.61562,     0.61662,     0.61762,     0.61862,     0.61962,     0.62062,     0.62162,     0.62262,     0.62362,\n",
       "           0.62462,     0.62563,     0.62663,     0.62763,     0.62863,     0.62963,     0.63063,     0.63163,     0.63263,     0.63363,     0.63463,     0.63564,     0.63664,     0.63764,     0.63864,     0.63964,     0.64064,     0.64164,     0.64264,     0.64364,     0.64464,     0.64565,     0.64665,     0.64765,\n",
       "           0.64865,     0.64965,     0.65065,     0.65165,     0.65265,     0.65365,     0.65465,     0.65566,     0.65666,     0.65766,     0.65866,     0.65966,     0.66066,     0.66166,     0.66266,     0.66366,     0.66466,     0.66567,     0.66667,     0.66767,     0.66867,     0.66967,     0.67067,     0.67167,\n",
       "           0.67267,     0.67367,     0.67467,     0.67568,     0.67668,     0.67768,     0.67868,     0.67968,     0.68068,     0.68168,     0.68268,     0.68368,     0.68468,     0.68569,     0.68669,     0.68769,     0.68869,     0.68969,     0.69069,     0.69169,     0.69269,     0.69369,     0.69469,      0.6957,\n",
       "            0.6967,      0.6977,      0.6987,      0.6997,      0.7007,      0.7017,      0.7027,      0.7037,      0.7047,     0.70571,     0.70671,     0.70771,     0.70871,     0.70971,     0.71071,     0.71171,     0.71271,     0.71371,     0.71471,     0.71572,     0.71672,     0.71772,     0.71872,     0.71972,\n",
       "           0.72072,     0.72172,     0.72272,     0.72372,     0.72472,     0.72573,     0.72673,     0.72773,     0.72873,     0.72973,     0.73073,     0.73173,     0.73273,     0.73373,     0.73473,     0.73574,     0.73674,     0.73774,     0.73874,     0.73974,     0.74074,     0.74174,     0.74274,     0.74374,\n",
       "           0.74474,     0.74575,     0.74675,     0.74775,     0.74875,     0.74975,     0.75075,     0.75175,     0.75275,     0.75375,     0.75475,     0.75576,     0.75676,     0.75776,     0.75876,     0.75976,     0.76076,     0.76176,     0.76276,     0.76376,     0.76476,     0.76577,     0.76677,     0.76777,\n",
       "           0.76877,     0.76977,     0.77077,     0.77177,     0.77277,     0.77377,     0.77477,     0.77578,     0.77678,     0.77778,     0.77878,     0.77978,     0.78078,     0.78178,     0.78278,     0.78378,     0.78478,     0.78579,     0.78679,     0.78779,     0.78879,     0.78979,     0.79079,     0.79179,\n",
       "           0.79279,     0.79379,     0.79479,      0.7958,      0.7968,      0.7978,      0.7988,      0.7998,      0.8008,      0.8018,      0.8028,      0.8038,      0.8048,     0.80581,     0.80681,     0.80781,     0.80881,     0.80981,     0.81081,     0.81181,     0.81281,     0.81381,     0.81481,     0.81582,\n",
       "           0.81682,     0.81782,     0.81882,     0.81982,     0.82082,     0.82182,     0.82282,     0.82382,     0.82482,     0.82583,     0.82683,     0.82783,     0.82883,     0.82983,     0.83083,     0.83183,     0.83283,     0.83383,     0.83483,     0.83584,     0.83684,     0.83784,     0.83884,     0.83984,\n",
       "           0.84084,     0.84184,     0.84284,     0.84384,     0.84484,     0.84585,     0.84685,     0.84785,     0.84885,     0.84985,     0.85085,     0.85185,     0.85285,     0.85385,     0.85485,     0.85586,     0.85686,     0.85786,     0.85886,     0.85986,     0.86086,     0.86186,     0.86286,     0.86386,\n",
       "           0.86486,     0.86587,     0.86687,     0.86787,     0.86887,     0.86987,     0.87087,     0.87187,     0.87287,     0.87387,     0.87487,     0.87588,     0.87688,     0.87788,     0.87888,     0.87988,     0.88088,     0.88188,     0.88288,     0.88388,     0.88488,     0.88589,     0.88689,     0.88789,\n",
       "           0.88889,     0.88989,     0.89089,     0.89189,     0.89289,     0.89389,     0.89489,      0.8959,      0.8969,      0.8979,      0.8989,      0.8999,      0.9009,      0.9019,      0.9029,      0.9039,      0.9049,     0.90591,     0.90691,     0.90791,     0.90891,     0.90991,     0.91091,     0.91191,\n",
       "           0.91291,     0.91391,     0.91491,     0.91592,     0.91692,     0.91792,     0.91892,     0.91992,     0.92092,     0.92192,     0.92292,     0.92392,     0.92492,     0.92593,     0.92693,     0.92793,     0.92893,     0.92993,     0.93093,     0.93193,     0.93293,     0.93393,     0.93493,     0.93594,\n",
       "           0.93694,     0.93794,     0.93894,     0.93994,     0.94094,     0.94194,     0.94294,     0.94394,     0.94494,     0.94595,     0.94695,     0.94795,     0.94895,     0.94995,     0.95095,     0.95195,     0.95295,     0.95395,     0.95495,     0.95596,     0.95696,     0.95796,     0.95896,     0.95996,\n",
       "           0.96096,     0.96196,     0.96296,     0.96396,     0.96496,     0.96597,     0.96697,     0.96797,     0.96897,     0.96997,     0.97097,     0.97197,     0.97297,     0.97397,     0.97497,     0.97598,     0.97698,     0.97798,     0.97898,     0.97998,     0.98098,     0.98198,     0.98298,     0.98398,\n",
       "           0.98498,     0.98599,     0.98699,     0.98799,     0.98899,     0.98999,     0.99099,     0.99199,     0.99299,     0.99399,     0.99499,       0.996,       0.997,       0.998,       0.999,           1]), array([[    0.99053,     0.99053,     0.99053,     0.98864,     0.98864,     0.98864,     0.98769,     0.98674,     0.98674,     0.98485,     0.98485,      0.9839,      0.9839,      0.9839,      0.9839,      0.9839,      0.9839,      0.9839,      0.9839,      0.9839,     0.98295,     0.98295,     0.98295,\n",
       "             0.9824,     0.98201,     0.98201,     0.98201,     0.98201,     0.98201,     0.98201,     0.98201,     0.98201,     0.98201,     0.98201,     0.98106,     0.98106,     0.98106,     0.98011,     0.97917,     0.97917,     0.97917,     0.97917,     0.97917,     0.97917,     0.97917,     0.97917,\n",
       "            0.97917,     0.97917,     0.97917,     0.97917,     0.97917,     0.97917,     0.97917,     0.97917,     0.97917,     0.97917,     0.97917,     0.97917,     0.97822,     0.97822,     0.97822,     0.97822,     0.97822,     0.97822,     0.97822,     0.97822,     0.97822,     0.97822,     0.97822,\n",
       "            0.97822,     0.97822,     0.97822,     0.97727,     0.97727,     0.97727,     0.97727,     0.97727,     0.97727,     0.97727,     0.97727,     0.97727,     0.97727,     0.97727,     0.97727,     0.97727,     0.97727,     0.97727,     0.97727,     0.97727,     0.97727,     0.97727,     0.97727,\n",
       "            0.97727,     0.97727,     0.97727,     0.97727,     0.97727,     0.97727,     0.97727,     0.97727,     0.97727,     0.97727,     0.97727,     0.97727,     0.97673,     0.97633,     0.97633,     0.97633,     0.97633,     0.97538,     0.97538,     0.97538,     0.97538,     0.97538,     0.97538,\n",
       "            0.97538,     0.97538,     0.97538,     0.97538,     0.97538,     0.97538,     0.97538,     0.97513,     0.97483,     0.97453,     0.97443,     0.97443,     0.97443,     0.97443,     0.97443,     0.97443,     0.97443,     0.97443,     0.97443,     0.97443,     0.97348,     0.97348,     0.97348,\n",
       "            0.97348,     0.97348,      0.9732,     0.97292,     0.97263,     0.97233,     0.97203,     0.97174,     0.97159,     0.97159,     0.97159,     0.97159,     0.97159,     0.97159,     0.97159,     0.97159,     0.97159,     0.97159,     0.97159,     0.97159,     0.97159,     0.97159,     0.97159,\n",
       "            0.97159,     0.97159,     0.97159,     0.97159,     0.97159,     0.97159,     0.97136,     0.97093,     0.97064,     0.97064,     0.97064,     0.97064,     0.97064,     0.97064,     0.97064,     0.97064,     0.97064,     0.97064,     0.97064,     0.97064,     0.97064,     0.97064,     0.97064,\n",
       "            0.97064,     0.97064,     0.97064,     0.97064,     0.97064,     0.97064,     0.97064,     0.97064,     0.97064,     0.97064,     0.97064,     0.97064,     0.97064,     0.97064,     0.97064,     0.97064,     0.97064,     0.97064,     0.97064,     0.97064,     0.97064,     0.97064,     0.97064,\n",
       "            0.97064,     0.97064,     0.97064,     0.97064,     0.97064,     0.97064,     0.97064,     0.97064,     0.97064,     0.97064,     0.97064,     0.97064,     0.97064,     0.97064,     0.97064,     0.97064,     0.97064,     0.97064,     0.97064,     0.97064,     0.97064,     0.97064,     0.97064,\n",
       "            0.97064,     0.97064,     0.97064,     0.97064,     0.97064,     0.97064,     0.97046,     0.97001,      0.9697,      0.9697,      0.9697,      0.9697,      0.9697,      0.9697,      0.9697,      0.9697,      0.9697,      0.9697,      0.9697,      0.9697,      0.9697,      0.9697,      0.9697,\n",
       "             0.9697,      0.9697,      0.9697,      0.9697,      0.9697,      0.9697,      0.9697,      0.9697,      0.9697,      0.9697,      0.9697,      0.9697,      0.9697,      0.9697,      0.9697,      0.9697,      0.9697,      0.9697,      0.9697,      0.9697,      0.9697,      0.9697,      0.9697,\n",
       "            0.96958,     0.96928,     0.96898,     0.96875,     0.96875,     0.96875,     0.96875,     0.96875,     0.96875,     0.96875,     0.96875,     0.96875,     0.96871,     0.96862,     0.96853,     0.96844,     0.96835,     0.96826,     0.96817,     0.96808,     0.96799,      0.9679,     0.96781,\n",
       "            0.96771,     0.96761,     0.96752,     0.96742,     0.96732,     0.96722,     0.96713,     0.96703,     0.96693,     0.96686,     0.96686,     0.96686,     0.96686,     0.96686,     0.96686,     0.96686,     0.96686,     0.96686,     0.96686,     0.96686,     0.96686,     0.96686,     0.96686,\n",
       "            0.96686,     0.96686,     0.96686,     0.96686,     0.96686,     0.96686,     0.96686,     0.96686,     0.96686,     0.96686,     0.96686,     0.96686,     0.96686,     0.96686,     0.96686,     0.96686,     0.96686,     0.96686,     0.96686,     0.96686,     0.96686,     0.96686,     0.96686,\n",
       "            0.96684,     0.96668,     0.96653,     0.96637,     0.96621,     0.96606,     0.96591,      0.9659,      0.9658,      0.9657,      0.9656,     0.96549,     0.96539,     0.96529,     0.96519,     0.96509,     0.96498,     0.96496,     0.96496,     0.96496,     0.96496,     0.96496,     0.96496,\n",
       "            0.96496,     0.96496,     0.96496,     0.96496,     0.96496,     0.96496,     0.96496,     0.96496,     0.96496,     0.96496,     0.96496,     0.96496,     0.96496,     0.96496,     0.96496,     0.96496,     0.96496,     0.96496,     0.96496,     0.96496,     0.96496,     0.96484,     0.96467,\n",
       "             0.9645,     0.96433,     0.96417,     0.96402,     0.96402,     0.96402,     0.96402,     0.96402,     0.96402,     0.96402,     0.96402,     0.96402,     0.96402,     0.96402,     0.96402,     0.96402,     0.96402,     0.96402,     0.96402,     0.96402,     0.96402,     0.96402,     0.96402,\n",
       "            0.96402,     0.96402,     0.96402,     0.96402,     0.96402,     0.96402,     0.96402,     0.96402,     0.96402,     0.96393,     0.96307,     0.96307,     0.96307,     0.96307,     0.96307,     0.96307,     0.96307,     0.96307,     0.96307,     0.96307,     0.96307,     0.96307,     0.96307,\n",
       "            0.96307,     0.96307,     0.96307,     0.96307,     0.96307,     0.96307,     0.96307,     0.96307,     0.96307,     0.96307,     0.96307,     0.96307,     0.96307,     0.96307,     0.96307,     0.96307,     0.96307,     0.96307,     0.96307,     0.96307,     0.96307,     0.96307,     0.96307,\n",
       "            0.96307,     0.96307,     0.96307,     0.96307,     0.96307,     0.96307,     0.96307,     0.96307,     0.96307,     0.96307,     0.96307,     0.96307,     0.96307,     0.96307,     0.96307,     0.96307,     0.96307,     0.96297,     0.96286,     0.96275,     0.96265,     0.96254,     0.96243,\n",
       "            0.96232,     0.96221,     0.96212,     0.96212,     0.96212,     0.96212,     0.96212,     0.96212,     0.96212,     0.96212,     0.96212,     0.96212,     0.96212,     0.96212,     0.96212,     0.96212,     0.96117,     0.96117,     0.96117,     0.96117,     0.96117,     0.96117,     0.96117,\n",
       "            0.96117,     0.96117,     0.96117,     0.96117,     0.96117,     0.96117,     0.96117,     0.96117,     0.96117,     0.96117,     0.96117,     0.96112,     0.96105,     0.96099,     0.96092,     0.96086,     0.96079,     0.96073,     0.96066,      0.9606,     0.96053,     0.96047,      0.9604,\n",
       "            0.96034,     0.96027,     0.96023,     0.96023,     0.96023,     0.96014,      0.9599,     0.95966,     0.95941,     0.95925,     0.95917,      0.9591,     0.95902,     0.95895,     0.95887,      0.9588,     0.95872,     0.95865,     0.95857,      0.9585,     0.95843,     0.95835,     0.95833,\n",
       "            0.95833,     0.95833,     0.95833,     0.95833,     0.95833,     0.95833,     0.95833,     0.95833,     0.95833,     0.95833,     0.95833,     0.95822,     0.95803,     0.95783,     0.95764,     0.95745,     0.95739,     0.95739,     0.95739,     0.95739,     0.95739,     0.95739,     0.95739,\n",
       "            0.95638,     0.95631,     0.95625,     0.95618,     0.95611,     0.95605,     0.95598,     0.95591,     0.95585,     0.95578,     0.95571,     0.95564,     0.95558,     0.95551,     0.95549,     0.95549,     0.95549,     0.95549,     0.95549,     0.95549,     0.95549,     0.95549,     0.95549,\n",
       "            0.95549,     0.95549,     0.95549,     0.95549,     0.95549,     0.95549,     0.95549,     0.95549,     0.95549,     0.95548,     0.95541,     0.95534,     0.95526,     0.95519,     0.95512,     0.95505,     0.95498,      0.9549,     0.95483,     0.95476,     0.95469,     0.95462,     0.95455,\n",
       "            0.95455,     0.95455,     0.95455,     0.95455,     0.95455,     0.95446,     0.95433,      0.9542,     0.95407,     0.95394,     0.95381,     0.95368,      0.9536,      0.9536,     0.95352,      0.9533,     0.95308,     0.95287,     0.95265,     0.95265,     0.95265,     0.95265,     0.95265,\n",
       "            0.95265,     0.95265,     0.95265,     0.95258,     0.95247,     0.95236,     0.95226,     0.95215,     0.95204,     0.95193,     0.95182,     0.95172,     0.95051,     0.95023,     0.94995,     0.94979,     0.94975,      0.9497,     0.94966,     0.94961,     0.94957,     0.94952,     0.94948,\n",
       "            0.94944,     0.94939,     0.94935,      0.9493,     0.94926,     0.94922,     0.94917,     0.94913,     0.94908,     0.94904,       0.949,     0.94895,     0.94891,     0.94886,     0.94886,     0.94886,     0.94885,     0.94869,     0.94853,     0.94836,      0.9482,     0.94804,     0.94792,\n",
       "            0.94792,      0.9477,     0.94742,     0.94715,     0.94674,     0.94609,      0.9459,     0.94576,     0.94562,     0.94548,     0.94534,     0.94521,     0.94508,     0.94508,     0.94508,     0.94501,     0.94452,     0.94401,     0.94336,     0.94298,      0.9427,     0.94243,     0.94163,\n",
       "            0.94097,     0.94058,     0.94019,      0.9398,     0.93942,     0.93921,     0.93902,     0.93882,     0.93863,      0.9384,     0.93776,     0.93711,     0.93655,     0.93655,     0.93655,     0.93655,     0.93655,     0.93655,     0.93655,     0.93641,     0.93624,     0.93606,     0.93588,\n",
       "            0.93571,     0.93533,     0.93468,     0.93466,     0.93466,     0.93466,     0.93466,     0.93466,     0.93466,     0.93466,     0.93466,     0.93466,     0.93466,     0.93466,     0.93466,     0.93466,     0.93414,     0.93371,     0.93371,     0.93287,     0.93162,     0.93113,     0.93072,\n",
       "             0.9304,     0.93008,     0.92941,     0.92888,      0.9287,     0.92853,     0.92835,     0.92817,     0.92799,      0.9278,     0.92761,     0.92741,     0.92722,     0.92708,     0.92708,     0.92685,      0.9262,     0.92527,     0.92483,     0.92444,     0.92331,     0.92297,     0.92265,\n",
       "             0.9223,     0.92166,     0.92125,     0.92101,     0.92077,     0.92053,     0.91937,     0.91918,     0.91898,     0.91879,     0.91859,     0.91816,     0.91768,     0.91677,     0.91587,     0.91512,     0.91433,     0.91359,     0.91311,     0.91262,     0.91214,     0.91171,     0.91132,\n",
       "            0.91098,     0.91098,     0.91062,     0.90807,     0.90775,     0.90743,     0.90709,      0.9067,     0.90631,     0.90475,     0.90361,     0.90283,     0.90152,     0.90152,     0.90049,     0.90033,     0.90017,         0.9,     0.89984,     0.89968,     0.89854,     0.89757,     0.89565,\n",
       "            0.89447,     0.89293,     0.89265,     0.89237,     0.89209,     0.89151,     0.89092,     0.89044,     0.88975,     0.88904,     0.88865,     0.88826,     0.88667,     0.88443,      0.8835,     0.88311,     0.88272,     0.88154,     0.88089,     0.88035,     0.87987,     0.87761,     0.87638,\n",
       "            0.87486,     0.87437,     0.87383,     0.87319,     0.87131,     0.86811,     0.86746,     0.86696,     0.86648,     0.86552,     0.86487,     0.86357,     0.86251,     0.85979,     0.85931,     0.85874,     0.85664,     0.85443,     0.85346,     0.85249,     0.84698,     0.84409,     0.84375,\n",
       "            0.84056,     0.83864,     0.83591,     0.83526,     0.83431,     0.82955,     0.82761,     0.82377,     0.81994,       0.818,     0.81606,     0.81412,     0.81028,     0.80644,     0.80364,     0.80315,     0.79778,     0.79394,     0.79183,     0.78627,     0.78433,     0.77955,     0.77877,\n",
       "            0.77623,     0.77559,     0.77036,     0.76466,     0.75938,     0.75703,     0.75266,     0.74977,     0.74228,     0.73926,     0.73447,     0.72943,     0.72396,     0.71918,     0.71345,     0.70867,     0.70483,     0.70005,     0.69432,     0.68859,     0.67908,     0.67711,     0.67235,\n",
       "            0.65907,     0.65237,     0.64576,     0.63997,     0.63424,     0.62567,     0.61615,     0.60569,     0.59712,     0.58854,     0.57524,     0.56762,     0.55905,     0.54479,     0.53528,     0.52387,     0.50772,     0.49157,     0.47922,      0.4555,     0.42609,     0.41089,     0.39759,\n",
       "            0.37671,     0.35204,     0.31979,     0.30838,     0.28561,     0.26189,     0.24763,     0.23054,     0.21534,     0.20299,     0.18684,     0.17353,     0.16686,     0.15639,      0.1393,     0.13163,     0.11932,     0.10317,     0.09271,     0.08414,    0.070835,    0.063212,    0.051801,\n",
       "           0.045125,    0.041289,    0.030825,    0.026043,    0.024835,    0.021213,    0.016431,   0.0050202,   0.0021319,           0,           0,           0,           0,           0,           0,           0,           0,           0,           0,           0,           0,           0,           0,\n",
       "                  0,           0,           0,           0,           0,           0,           0,           0,           0,           0,           0]]), 'Confidence', 'Recall']]\n",
       "fitness: 0.8852107595244857\n",
       "keys: ['metrics/precision(B)', 'metrics/recall(B)', 'metrics/mAP50(B)', 'metrics/mAP50-95(B)']\n",
       "maps: array([    0.87392])\n",
       "names: {0: 'fire'}\n",
       "plot: True\n",
       "results_dict: {'metrics/precision(B)': 0.9804191055780501, 'metrics/recall(B)': 0.9554924242424242, 'metrics/mAP50(B)': 0.986786014932289, 'metrics/mAP50-95(B)': 0.8739246200347297, 'fitness': 0.8852107595244857}\n",
       "save_dir: WindowsPath('e:/Default_Apps/Desktop/Development/_School/FYP/C300_AIFirstResponders/server/fire_detection_ai/scripts/../runs/detect/train')\n",
       "speed: {'preprocess': 0.17513091189002022, 'inference': 4.9848425811922485, 'loss': 0.0005291198110822493, 'postprocess': 0.5400643130849461}\n",
       "task: 'detect'"
      ]
     },
     "execution_count": 2,
     "metadata": {},
     "output_type": "execute_result"
    }
   ],
   "source": [
    "model = YOLO(\"../runs/detect/train/weights/last.pt\")\n",
    "\n",
    "model.train(\n",
    "    task=\"detect\",\n",
    "    mode=\"train\",\n",
    "    data=\"../dataset/data.yaml\",\n",
    "    epochs=100,\n",
    "    imgsz=640,\n",
    "    device=0,\n",
    "    patience=90,\n",
    "    resume=True\n",
    ")"
   ]
  }
 ],
 "metadata": {
  "kernelspec": {
   "display_name": ".venv",
   "language": "python",
   "name": "python3"
  },
  "language_info": {
   "codemirror_mode": {
    "name": "ipython",
    "version": 3
   },
   "file_extension": ".py",
   "mimetype": "text/x-python",
   "name": "python",
   "nbconvert_exporter": "python",
   "pygments_lexer": "ipython3",
   "version": "3.12.4"
  }
 },
 "nbformat": 4,
 "nbformat_minor": 2
}
