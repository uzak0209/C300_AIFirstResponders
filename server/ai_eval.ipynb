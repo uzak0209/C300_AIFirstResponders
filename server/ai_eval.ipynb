{
 "cells": [
  {
   "cell_type": "code",
   "execution_count": 9,
   "metadata": {},
   "outputs": [
    {
     "name": "stdout",
     "output_type": "stream",
     "text": [
      "\n",
      "image 1/1 c:\\Users\\22001522\\Desktop\\Project\\_school\\C300_AIFirstResponders\\server\\fire_test_3.jpg: 640x640 1 fire, 139.0ms\n",
      "Speed: 4.0ms preprocess, 139.0ms inference, 1.0ms postprocess per image at shape (1, 3, 640, 640)\n",
      "[[103, 44, 313, 123, 'fire', 0.54]]\n"
     ]
    }
   ],
   "source": [
    "from ultralytics import YOLO\n",
    "\n",
    "model = YOLO(\"best.pt\")\n",
    "results = model.predict(\"fire_test_3.jpg\")\n",
    "result = results[0]\n",
    "\n",
    "output = []\n",
    "for box in result.boxes:\n",
    "    x1, y1, x2, y2 = [round(x) for x in box.xyxy[0].tolist()]\n",
    "    class_id = box.cls[0].item()\n",
    "    prob = round(box.conf[0].item(), 2)\n",
    "    output.append([x1, y1, x2, y2, result.names[class_id], prob])\n",
    "    \n",
    "print(output)"
   ]
  }
 ],
 "metadata": {
  "kernelspec": {
   "display_name": ".venv",
   "language": "python",
   "name": "python3"
  },
  "language_info": {
   "codemirror_mode": {
    "name": "ipython",
    "version": 3
   },
   "file_extension": ".py",
   "mimetype": "text/x-python",
   "name": "python",
   "nbconvert_exporter": "python",
   "pygments_lexer": "ipython3",
   "version": "3.12.3"
  }
 },
 "nbformat": 4,
 "nbformat_minor": 2
}
