{
 "cells": [
  {
   "cell_type": "code",
   "execution_count": 3,
   "metadata": {},
   "outputs": [],
   "source": [
    "import os\n",
    "import torch\n",
    "from ultralytics import YOLO, settings"
   ]
  },
  {
   "cell_type": "code",
   "execution_count": 4,
   "metadata": {},
   "outputs": [
    {
     "name": "stdout",
     "output_type": "stream",
     "text": [
      "version: 2.3.1+cpu\n",
      "cuda available: False\n"
     ]
    }
   ],
   "source": [
    "settings.reset()\n",
    "\n",
    "current_directory = os.getcwd()\n",
    "\n",
    "dataset_directory = os.path.join(current_directory, \"..\\\\dataset\")\n",
    "weights_directory = os.path.join(current_directory, \"..\\\\weights\")\n",
    "runs_directory = os.path.join(current_directory, \"..\\\\runs\")\n",
    "\n",
    "settings.update(\n",
    "    {\n",
    "        \"datasets_dir\": f\"{dataset_directory}\",\n",
    "        \"weights_dir\": f\"{weights_directory}\",\n",
    "        \"runs_dir\": f\"{runs_directory}\",\n",
    "    }\n",
    ")\n",
    "\n",
    "print(f\"version: {torch.__version__}\")\n",
    "print(f\"cuda available: {torch.cuda.is_available()}\")"
   ]
  },
  {
   "cell_type": "code",
   "execution_count": null,
   "metadata": {},
   "outputs": [],
   "source": []
  }
 ],
 "metadata": {
  "kernelspec": {
   "display_name": ".venv",
   "language": "python",
   "name": "python3"
  },
  "language_info": {
   "codemirror_mode": {
    "name": "ipython",
    "version": 3
   },
   "file_extension": ".py",
   "mimetype": "text/x-python",
   "name": "python",
   "nbconvert_exporter": "python",
   "pygments_lexer": "ipython3",
   "version": "3.12.3"
  }
 },
 "nbformat": 4,
 "nbformat_minor": 2
}
