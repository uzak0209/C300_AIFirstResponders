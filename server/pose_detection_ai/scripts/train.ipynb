{
 "cells": [
  {
   "cell_type": "code",
   "execution_count": 1,
   "metadata": {},
   "outputs": [
    {
     "name": "stdout",
     "output_type": "stream",
     "text": [
      "Loading data from dataset.yaml\n",
      "Dataset Information: {'path': 'C:/Users/22017111/OneDrive - Republic Polytechnic/c290/C300_AIFirstResponders/server/pose_detection_ai/datasets', 'train': 'train/image', 'val': 'valid/image', 'test': 'test/image', 'nc': 3, 'names': ['bend_arms', 'correct', 'squat'], 'kpt_shape': [12, 3], 'keypoints': {'number': 12, 'names': ['keypoint_6', 'keypoint_7', 'keypoint_8', 'keypoint_9', 'keypoint_10', 'keypoint_11', 'keypoint_12', 'keypoint_13', 'keypoint_14', 'keypoint_15', 'keypoint_16', 'keypoint_17']}}\n",
      "Checking paths: C:\\Users\\22017111\\OneDrive - Republic Polytechnic\\c290\\C300_AIFirstResponders\\server\\pose_detection_ai\\datasets\\train\\image, C:\\Users\\22017111\\OneDrive - Republic Polytechnic\\c290\\C300_AIFirstResponders\\server\\pose_detection_ai\\datasets\\train\\labels\n",
      "Train set: 96 images, 96 labels\n",
      "Sample images: ['photo_10_2024-07-10_19-06-24.jpg', 'photo_10_2024-07-18_15-54-20.jpg', 'photo_10_2024-07-18_15-55-01.jpg']\n",
      "Sample labels: ['photo_10_2024-07-10_19-06-24.txt', 'photo_10_2024-07-18_15-54-20.txt', 'photo_10_2024-07-18_15-55-01.txt']\n",
      "Checking paths: C:\\Users\\22017111\\OneDrive - Republic Polytechnic\\c290\\C300_AIFirstResponders\\server\\pose_detection_ai\\datasets\\valid\\image, C:\\Users\\22017111\\OneDrive - Republic Polytechnic\\c290\\C300_AIFirstResponders\\server\\pose_detection_ai\\datasets\\valid\\labels\n",
      "Valid set: 15 images, 15 labels\n",
      "Sample images: ['photo_100_2024-07-18_15-54-20.jpg', 'photo_100_2024-07-18_15-55-01.jpg', 'photo_100_2024-07-18_15-55-50.jpg']\n",
      "Sample labels: ['photo_100_2024-07-18_15-54-20.txt', 'photo_100_2024-07-18_15-55-01.txt', 'photo_100_2024-07-18_15-55-50.txt']\n",
      "Checking paths: C:\\Users\\22017111\\OneDrive - Republic Polytechnic\\c290\\C300_AIFirstResponders\\server\\pose_detection_ai\\datasets\\test\\image, C:\\Users\\22017111\\OneDrive - Republic Polytechnic\\c290\\C300_AIFirstResponders\\server\\pose_detection_ai\\datasets\\test\\labels\n",
      "Test set: 29 images, 29 labels\n",
      "Sample images: ['photo_29_2024-07-18_15-54-20.jpg', 'photo_29_2024-07-18_15-55-50.jpg', 'photo_30_2024-07-18_15-54-20.jpg']\n",
      "Sample labels: ['photo_29_2024-07-18_15-54-20.txt', 'photo_29_2024-07-18_15-55-50.txt', 'photo_30_2024-07-18_15-54-20.txt']\n",
      "New https://pypi.org/project/ultralytics/8.2.68 available  Update with 'pip install -U ultralytics'\n",
      "Ultralytics YOLOv8.2.66  Python-3.12.3 torch-2.4.0+cu121 CUDA:0 (NVIDIA GeForce RTX 3060 Laptop GPU, 6144MiB)\n",
      "\u001b[34m\u001b[1mengine\\trainer: \u001b[0mtask=pose, mode=train, model=models/yolov8m-pose.pt, data=C:\\Users\\22017111\\OneDrive - Republic Polytechnic\\c290\\C300_AIFirstResponders\\server\\pose_detection_ai\\datasets\\dataset.yaml, epochs=20, time=None, patience=0, batch=16, imgsz=640, save=True, save_period=-1, cache=False, device=0, workers=8, project=None, name=train11, exist_ok=False, pretrained=True, optimizer=auto, verbose=True, seed=0, deterministic=True, single_cls=False, rect=False, cos_lr=False, close_mosaic=10, resume=False, amp=True, fraction=1.0, profile=False, freeze=None, multi_scale=False, overlap_mask=True, mask_ratio=4, dropout=0.0, val=True, split=val, save_json=False, save_hybrid=False, conf=None, iou=0.7, max_det=300, half=False, dnn=False, plots=True, source=None, vid_stride=1, stream_buffer=False, visualize=False, augment=False, agnostic_nms=False, classes=None, retina_masks=False, embed=None, show=False, save_frames=False, save_txt=False, save_conf=False, save_crop=False, show_labels=True, show_conf=True, show_boxes=True, line_width=None, format=torchscript, keras=False, optimize=False, int8=False, dynamic=False, simplify=False, opset=None, workspace=4, nms=False, lr0=0.01, lrf=0.01, momentum=0.937, weight_decay=0.0005, warmup_epochs=3.0, warmup_momentum=0.8, warmup_bias_lr=0.1, box=7.5, cls=0.5, dfl=1.5, pose=12.0, kobj=1.0, label_smoothing=0.0, nbs=64, hsv_h=0.015, hsv_s=0.7, hsv_v=0.4, degrees=0.0, translate=0.1, scale=0.5, shear=0.0, perspective=0.0, flipud=0.0, fliplr=0.5, bgr=0.0, mosaic=1.0, mixup=0.0, copy_paste=0.0, auto_augment=randaugment, erasing=0.4, crop_fraction=1.0, cfg=None, tracker=botsort.yaml, save_dir=c:\\Users\\22017111\\OneDrive - Republic Polytechnic\\c290\\C300_AIFirstResponders\\server\\pose_detection_ai\\scripts\\..\\runs\\pose\\train11\n",
      "Overriding model.yaml kpt_shape=[17, 3] with kpt_shape=[12, 3]\n",
      "Overriding model.yaml nc=1 with nc=3\n",
      "\n",
      "                   from  n    params  module                                       arguments                     \n",
      "  0                  -1  1      1392  ultralytics.nn.modules.conv.Conv             [3, 48, 3, 2]                 \n",
      "  1                  -1  1     41664  ultralytics.nn.modules.conv.Conv             [48, 96, 3, 2]                \n",
      "  2                  -1  2    111360  ultralytics.nn.modules.block.C2f             [96, 96, 2, True]             \n",
      "  3                  -1  1    166272  ultralytics.nn.modules.conv.Conv             [96, 192, 3, 2]               \n",
      "  4                  -1  4    813312  ultralytics.nn.modules.block.C2f             [192, 192, 4, True]           \n",
      "  5                  -1  1    664320  ultralytics.nn.modules.conv.Conv             [192, 384, 3, 2]              \n",
      "  6                  -1  4   3248640  ultralytics.nn.modules.block.C2f             [384, 384, 4, True]           \n",
      "  7                  -1  1   1991808  ultralytics.nn.modules.conv.Conv             [384, 576, 3, 2]              \n",
      "  8                  -1  2   3985920  ultralytics.nn.modules.block.C2f             [576, 576, 2, True]           \n",
      "  9                  -1  1    831168  ultralytics.nn.modules.block.SPPF            [576, 576, 5]                 \n",
      " 10                  -1  1         0  torch.nn.modules.upsampling.Upsample         [None, 2, 'nearest']          \n",
      " 11             [-1, 6]  1         0  ultralytics.nn.modules.conv.Concat           [1]                           \n",
      " 12                  -1  2   1993728  ultralytics.nn.modules.block.C2f             [960, 384, 2]                 \n",
      " 13                  -1  1         0  torch.nn.modules.upsampling.Upsample         [None, 2, 'nearest']          \n",
      " 14             [-1, 4]  1         0  ultralytics.nn.modules.conv.Concat           [1]                           \n",
      " 15                  -1  2    517632  ultralytics.nn.modules.block.C2f             [576, 192, 2]                 \n",
      " 16                  -1  1    332160  ultralytics.nn.modules.conv.Conv             [192, 192, 3, 2]              \n",
      " 17            [-1, 12]  1         0  ultralytics.nn.modules.conv.Concat           [1]                           \n",
      " 18                  -1  2   1846272  ultralytics.nn.modules.block.C2f             [576, 384, 2]                 \n",
      " 19                  -1  1   1327872  ultralytics.nn.modules.conv.Conv             [384, 384, 3, 2]              \n",
      " 20             [-1, 9]  1         0  ultralytics.nn.modules.conv.Concat           [1]                           \n",
      " 21                  -1  2   4207104  ultralytics.nn.modules.block.C2f             [960, 576, 2]                 \n",
      " 22        [15, 18, 21]  1   4343173  ultralytics.nn.modules.head.Pose             [3, [12, 3], [192, 384, 576]] \n",
      "YOLOv8m-pose summary: 320 layers, 26,423,797 parameters, 26,423,781 gradients, 81.2 GFLOPs\n",
      "\n",
      "Transferred 475/517 items from pretrained weights\n",
      "\u001b[34m\u001b[1mTensorBoard: \u001b[0mStart with 'tensorboard --logdir c:\\Users\\22017111\\OneDrive - Republic Polytechnic\\c290\\C300_AIFirstResponders\\server\\pose_detection_ai\\scripts\\..\\runs\\pose\\train11', view at http://localhost:6006/\n",
      "Freezing layer 'model.22.dfl.conv.weight'\n",
      "\u001b[34m\u001b[1mAMP: \u001b[0mrunning Automatic Mixed Precision (AMP) checks with YOLOv8n...\n",
      "\u001b[34m\u001b[1mAMP: \u001b[0mchecks passed \n"
     ]
    },
    {
     "name": "stderr",
     "output_type": "stream",
     "text": [
      "c:\\Users\\22017111\\OneDrive - Republic Polytechnic\\c290\\C300_AIFirstResponders\\server\\.venv\\Lib\\site-packages\\ultralytics\\engine\\trainer.py:268: FutureWarning: `torch.cuda.amp.GradScaler(args...)` is deprecated. Please use `torch.amp.GradScaler('cuda', args...)` instead.\n",
      "  self.scaler = torch.cuda.amp.GradScaler(enabled=self.amp)\n",
      "\u001b[34m\u001b[1mtrain: \u001b[0mScanning C:\\Users\\22017111\\OneDrive - Republic Polytechnic\\c290\\C300_AIFirstResponders\\server\\pose_detection_ai\\datasets\\train\\image.cache... 0 images, 96 backgrounds, 0 corrupt: 100%|██████████| 96/96 [00:00<?, ?it/s]"
     ]
    },
    {
     "name": "stdout",
     "output_type": "stream",
     "text": [
      "WARNING  No labels found in C:\\Users\\22017111\\OneDrive - Republic Polytechnic\\c290\\C300_AIFirstResponders\\server\\pose_detection_ai\\datasets\\train\\image.cache, training may not work correctly. See https://docs.ultralytics.com/datasets for dataset formatting guidance.\n",
      "WARNING  No 'flip_idx' array defined in data.yaml, setting augmentation 'fliplr=0.0'\n"
     ]
    },
    {
     "name": "stderr",
     "output_type": "stream",
     "text": [
      "\n",
      "\u001b[34m\u001b[1mval: \u001b[0mScanning C:\\Users\\22017111\\OneDrive - Republic Polytechnic\\c290\\C300_AIFirstResponders\\server\\pose_detection_ai\\datasets\\valid\\image.cache... 0 images, 15 backgrounds, 0 corrupt: 100%|██████████| 15/15 [00:00<?, ?it/s]"
     ]
    },
    {
     "name": "stdout",
     "output_type": "stream",
     "text": [
      "WARNING  No labels found in C:\\Users\\22017111\\OneDrive - Republic Polytechnic\\c290\\C300_AIFirstResponders\\server\\pose_detection_ai\\datasets\\valid\\image.cache, training may not work correctly. See https://docs.ultralytics.com/datasets for dataset formatting guidance.\n"
     ]
    },
    {
     "name": "stderr",
     "output_type": "stream",
     "text": [
      "\n"
     ]
    },
    {
     "name": "stdout",
     "output_type": "stream",
     "text": [
      "Plotting labels to c:\\Users\\22017111\\OneDrive - Republic Polytechnic\\c290\\C300_AIFirstResponders\\server\\pose_detection_ai\\scripts\\..\\runs\\pose\\train11\\labels.jpg... \n",
      "zero-size array to reduction operation maximum which has no identity\n",
      "\u001b[34m\u001b[1moptimizer:\u001b[0m 'optimizer=auto' found, ignoring 'lr0=0.01' and 'momentum=0.937' and determining best 'optimizer', 'lr0' and 'momentum' automatically... \n",
      "\u001b[34m\u001b[1moptimizer:\u001b[0m AdamW(lr=0.001429, momentum=0.9) with parameter groups 83 weight(decay=0.0), 93 weight(decay=0.0005), 92 bias(decay=0.0)\n",
      "\u001b[34m\u001b[1mTensorBoard: \u001b[0mmodel graph visualization added \n",
      "Image sizes 640 train, 640 val\n",
      "Using 8 dataloader workers\n",
      "Logging results to \u001b[1mc:\\Users\\22017111\\OneDrive - Republic Polytechnic\\c290\\C300_AIFirstResponders\\server\\pose_detection_ai\\scripts\\..\\runs\\pose\\train11\u001b[0m\n",
      "Starting training for 20 epochs...\n",
      "\n",
      "      Epoch    GPU_mem   box_loss  pose_loss  kobj_loss   cls_loss   dfl_loss  Instances       Size\n"
     ]
    },
    {
     "name": "stderr",
     "output_type": "stream",
     "text": [
      "       1/20      7.08G          0          0          0      133.5          0          0        640: 100%|██████████| 6/6 [00:23<00:00,  3.85s/it]\n",
      "                 Class     Images  Instances      Box(P          R      mAP50  mAP50-95)     Pose(P          R      mAP50  mAP50-95): 100%|██████████| 1/1 [00:00<00:00,  1.41it/s]"
     ]
    },
    {
     "name": "stdout",
     "output_type": "stream",
     "text": [
      "                   all         15          0          0          0          0          0          0          0          0          0\n",
      "WARNING  no labels found in pose set, can not compute metrics without labels\n"
     ]
    },
    {
     "name": "stderr",
     "output_type": "stream",
     "text": [
      "\n"
     ]
    },
    {
     "name": "stdout",
     "output_type": "stream",
     "text": [
      "\n",
      "      Epoch    GPU_mem   box_loss  pose_loss  kobj_loss   cls_loss   dfl_loss  Instances       Size\n"
     ]
    },
    {
     "name": "stderr",
     "output_type": "stream",
     "text": [
      "       2/20      6.73G          0          0          0      135.1          0          0        640: 100%|██████████| 6/6 [00:09<00:00,  1.53s/it]\n",
      "                 Class     Images  Instances      Box(P          R      mAP50  mAP50-95)     Pose(P          R      mAP50  mAP50-95): 100%|██████████| 1/1 [00:00<00:00,  6.12it/s]"
     ]
    },
    {
     "name": "stdout",
     "output_type": "stream",
     "text": [
      "                   all         15          0          0          0          0          0          0          0          0          0\n",
      "WARNING  no labels found in pose set, can not compute metrics without labels\n"
     ]
    },
    {
     "name": "stderr",
     "output_type": "stream",
     "text": [
      "\n"
     ]
    },
    {
     "name": "stdout",
     "output_type": "stream",
     "text": [
      "\n",
      "      Epoch    GPU_mem   box_loss  pose_loss  kobj_loss   cls_loss   dfl_loss  Instances       Size\n"
     ]
    },
    {
     "name": "stderr",
     "output_type": "stream",
     "text": [
      "       3/20      6.92G          0          0          0      114.7          0          0        640: 100%|██████████| 6/6 [00:13<00:00,  2.33s/it]\n",
      "                 Class     Images  Instances      Box(P          R      mAP50  mAP50-95)     Pose(P          R      mAP50  mAP50-95): 100%|██████████| 1/1 [00:00<00:00,  1.22it/s]"
     ]
    },
    {
     "name": "stdout",
     "output_type": "stream",
     "text": [
      "                   all         15          0          0          0          0          0          0          0          0          0\n",
      "WARNING  no labels found in pose set, can not compute metrics without labels\n"
     ]
    },
    {
     "name": "stderr",
     "output_type": "stream",
     "text": [
      "\n"
     ]
    },
    {
     "name": "stdout",
     "output_type": "stream",
     "text": [
      "\n",
      "      Epoch    GPU_mem   box_loss  pose_loss  kobj_loss   cls_loss   dfl_loss  Instances       Size\n"
     ]
    },
    {
     "name": "stderr",
     "output_type": "stream",
     "text": [
      "       4/20      7.01G          0          0          0      91.38          0          0        640: 100%|██████████| 6/6 [00:12<00:00,  2.01s/it]\n",
      "                 Class     Images  Instances      Box(P          R      mAP50  mAP50-95)     Pose(P          R      mAP50  mAP50-95): 100%|██████████| 1/1 [00:00<00:00,  1.88it/s]"
     ]
    },
    {
     "name": "stdout",
     "output_type": "stream",
     "text": [
      "                   all         15          0          0          0          0          0          0          0          0          0\n",
      "WARNING  no labels found in pose set, can not compute metrics without labels\n"
     ]
    },
    {
     "name": "stderr",
     "output_type": "stream",
     "text": [
      "\n"
     ]
    },
    {
     "name": "stdout",
     "output_type": "stream",
     "text": [
      "\n",
      "      Epoch    GPU_mem   box_loss  pose_loss  kobj_loss   cls_loss   dfl_loss  Instances       Size\n"
     ]
    },
    {
     "name": "stderr",
     "output_type": "stream",
     "text": [
      "       5/20      7.02G          0          0          0      82.98          0          0        640: 100%|██████████| 6/6 [00:14<00:00,  2.40s/it]\n",
      "                 Class     Images  Instances      Box(P          R      mAP50  mAP50-95)     Pose(P          R      mAP50  mAP50-95): 100%|██████████| 1/1 [00:00<00:00,  1.51it/s]"
     ]
    },
    {
     "name": "stdout",
     "output_type": "stream",
     "text": [
      "                   all         15          0          0          0          0          0          0          0          0          0\n",
      "WARNING  no labels found in pose set, can not compute metrics without labels\n"
     ]
    },
    {
     "name": "stderr",
     "output_type": "stream",
     "text": [
      "\n"
     ]
    },
    {
     "name": "stdout",
     "output_type": "stream",
     "text": [
      "\n",
      "      Epoch    GPU_mem   box_loss  pose_loss  kobj_loss   cls_loss   dfl_loss  Instances       Size\n"
     ]
    },
    {
     "name": "stderr",
     "output_type": "stream",
     "text": [
      "       6/20      7.03G          0          0          0       71.8          0          0        640: 100%|██████████| 6/6 [00:17<00:00,  2.95s/it]\n",
      "                 Class     Images  Instances      Box(P          R      mAP50  mAP50-95)     Pose(P          R      mAP50  mAP50-95): 100%|██████████| 1/1 [00:01<00:00,  1.15s/it]"
     ]
    },
    {
     "name": "stdout",
     "output_type": "stream",
     "text": [
      "                   all         15          0          0          0          0          0          0          0          0          0\n",
      "WARNING  no labels found in pose set, can not compute metrics without labels\n"
     ]
    },
    {
     "name": "stderr",
     "output_type": "stream",
     "text": [
      "\n"
     ]
    },
    {
     "name": "stdout",
     "output_type": "stream",
     "text": [
      "\n",
      "      Epoch    GPU_mem   box_loss  pose_loss  kobj_loss   cls_loss   dfl_loss  Instances       Size\n"
     ]
    },
    {
     "name": "stderr",
     "output_type": "stream",
     "text": [
      "       7/20      7.02G          0          0          0      64.08          0          0        640: 100%|██████████| 6/6 [00:15<00:00,  2.53s/it]\n",
      "                 Class     Images  Instances      Box(P          R      mAP50  mAP50-95)     Pose(P          R      mAP50  mAP50-95): 100%|██████████| 1/1 [00:00<00:00,  2.23it/s]"
     ]
    },
    {
     "name": "stdout",
     "output_type": "stream",
     "text": [
      "                   all         15          0          0          0          0          0          0          0          0          0\n",
      "WARNING  no labels found in pose set, can not compute metrics without labels\n"
     ]
    },
    {
     "name": "stderr",
     "output_type": "stream",
     "text": [
      "\n"
     ]
    },
    {
     "name": "stdout",
     "output_type": "stream",
     "text": [
      "\n",
      "      Epoch    GPU_mem   box_loss  pose_loss  kobj_loss   cls_loss   dfl_loss  Instances       Size\n"
     ]
    },
    {
     "name": "stderr",
     "output_type": "stream",
     "text": [
      "       8/20      7.02G          0          0          0      58.76          0          0        640: 100%|██████████| 6/6 [00:27<00:00,  4.57s/it]\n",
      "                 Class     Images  Instances      Box(P          R      mAP50  mAP50-95)     Pose(P          R      mAP50  mAP50-95): 100%|██████████| 1/1 [00:01<00:00,  1.68s/it]"
     ]
    },
    {
     "name": "stdout",
     "output_type": "stream",
     "text": [
      "                   all         15          0          0          0          0          0          0          0          0          0\n",
      "WARNING  no labels found in pose set, can not compute metrics without labels\n"
     ]
    },
    {
     "name": "stderr",
     "output_type": "stream",
     "text": [
      "\n"
     ]
    },
    {
     "name": "stdout",
     "output_type": "stream",
     "text": [
      "\n",
      "      Epoch    GPU_mem   box_loss  pose_loss  kobj_loss   cls_loss   dfl_loss  Instances       Size\n"
     ]
    },
    {
     "name": "stderr",
     "output_type": "stream",
     "text": [
      "       9/20      7.02G          0          0          0      54.18          0          0        640: 100%|██████████| 6/6 [00:27<00:00,  4.60s/it]\n",
      "                 Class     Images  Instances      Box(P          R      mAP50  mAP50-95)     Pose(P          R      mAP50  mAP50-95): 100%|██████████| 1/1 [00:01<00:00,  1.58s/it]"
     ]
    },
    {
     "name": "stdout",
     "output_type": "stream",
     "text": [
      "                   all         15          0          0          0          0          0          0          0          0          0\n",
      "WARNING  no labels found in pose set, can not compute metrics without labels\n"
     ]
    },
    {
     "name": "stderr",
     "output_type": "stream",
     "text": [
      "\n"
     ]
    },
    {
     "name": "stdout",
     "output_type": "stream",
     "text": [
      "\n",
      "      Epoch    GPU_mem   box_loss  pose_loss  kobj_loss   cls_loss   dfl_loss  Instances       Size\n"
     ]
    },
    {
     "name": "stderr",
     "output_type": "stream",
     "text": [
      "      10/20      6.93G          0          0          0      50.07          0          0        640: 100%|██████████| 6/6 [00:13<00:00,  2.29s/it]\n",
      "                 Class     Images  Instances      Box(P          R      mAP50  mAP50-95)     Pose(P          R      mAP50  mAP50-95): 100%|██████████| 1/1 [00:01<00:00,  1.71s/it]"
     ]
    },
    {
     "name": "stdout",
     "output_type": "stream",
     "text": [
      "                   all         15          0          0          0          0          0          0          0          0          0\n",
      "WARNING  no labels found in pose set, can not compute metrics without labels\n"
     ]
    },
    {
     "name": "stderr",
     "output_type": "stream",
     "text": [
      "\n"
     ]
    },
    {
     "name": "stdout",
     "output_type": "stream",
     "text": [
      "Closing dataloader mosaic\n",
      "\n",
      "      Epoch    GPU_mem   box_loss  pose_loss  kobj_loss   cls_loss   dfl_loss  Instances       Size\n"
     ]
    },
    {
     "name": "stderr",
     "output_type": "stream",
     "text": [
      "      11/20      6.94G          0          0          0      46.56          0          0        640: 100%|██████████| 6/6 [00:20<00:00,  3.40s/it]\n",
      "                 Class     Images  Instances      Box(P          R      mAP50  mAP50-95)     Pose(P          R      mAP50  mAP50-95): 100%|██████████| 1/1 [00:00<00:00,  2.26it/s]"
     ]
    },
    {
     "name": "stdout",
     "output_type": "stream",
     "text": [
      "                   all         15          0          0          0          0          0          0          0          0          0\n",
      "WARNING  no labels found in pose set, can not compute metrics without labels\n"
     ]
    },
    {
     "name": "stderr",
     "output_type": "stream",
     "text": [
      "\n"
     ]
    },
    {
     "name": "stdout",
     "output_type": "stream",
     "text": [
      "\n",
      "      Epoch    GPU_mem   box_loss  pose_loss  kobj_loss   cls_loss   dfl_loss  Instances       Size\n"
     ]
    },
    {
     "name": "stderr",
     "output_type": "stream",
     "text": [
      "      12/20      6.94G          0          0          0      43.45          0          0        640: 100%|██████████| 6/6 [00:10<00:00,  1.79s/it]\n",
      "                 Class     Images  Instances      Box(P          R      mAP50  mAP50-95)     Pose(P          R      mAP50  mAP50-95): 100%|██████████| 1/1 [00:00<00:00,  1.70it/s]"
     ]
    },
    {
     "name": "stdout",
     "output_type": "stream",
     "text": [
      "                   all         15          0          0          0          0          0          0          0          0          0\n",
      "WARNING  no labels found in pose set, can not compute metrics without labels\n"
     ]
    },
    {
     "name": "stderr",
     "output_type": "stream",
     "text": [
      "\n"
     ]
    },
    {
     "name": "stdout",
     "output_type": "stream",
     "text": [
      "\n",
      "      Epoch    GPU_mem   box_loss  pose_loss  kobj_loss   cls_loss   dfl_loss  Instances       Size\n"
     ]
    },
    {
     "name": "stderr",
     "output_type": "stream",
     "text": [
      "      13/20      6.93G          0          0          0      41.29          0          0        640: 100%|██████████| 6/6 [00:15<00:00,  2.63s/it]\n",
      "                 Class     Images  Instances      Box(P          R      mAP50  mAP50-95)     Pose(P          R      mAP50  mAP50-95): 100%|██████████| 1/1 [00:01<00:00,  1.30s/it]"
     ]
    },
    {
     "name": "stdout",
     "output_type": "stream",
     "text": [
      "                   all         15          0          0          0          0          0          0          0          0          0\n",
      "WARNING  no labels found in pose set, can not compute metrics without labels\n"
     ]
    },
    {
     "name": "stderr",
     "output_type": "stream",
     "text": [
      "\n"
     ]
    },
    {
     "name": "stdout",
     "output_type": "stream",
     "text": [
      "\n",
      "      Epoch    GPU_mem   box_loss  pose_loss  kobj_loss   cls_loss   dfl_loss  Instances       Size\n"
     ]
    },
    {
     "name": "stderr",
     "output_type": "stream",
     "text": [
      "      14/20      6.93G          0          0          0      38.81          0          0        640: 100%|██████████| 6/6 [00:15<00:00,  2.57s/it]\n",
      "                 Class     Images  Instances      Box(P          R      mAP50  mAP50-95)     Pose(P          R      mAP50  mAP50-95): 100%|██████████| 1/1 [00:01<00:00,  1.14s/it]"
     ]
    },
    {
     "name": "stdout",
     "output_type": "stream",
     "text": [
      "                   all         15          0          0          0          0          0          0          0          0          0\n",
      "WARNING  no labels found in pose set, can not compute metrics without labels\n"
     ]
    },
    {
     "name": "stderr",
     "output_type": "stream",
     "text": [
      "\n"
     ]
    },
    {
     "name": "stdout",
     "output_type": "stream",
     "text": [
      "\n",
      "      Epoch    GPU_mem   box_loss  pose_loss  kobj_loss   cls_loss   dfl_loss  Instances       Size\n"
     ]
    },
    {
     "name": "stderr",
     "output_type": "stream",
     "text": [
      "      15/20      6.94G          0          0          0      36.62          0          0        640: 100%|██████████| 6/6 [00:14<00:00,  2.49s/it]\n",
      "                 Class     Images  Instances      Box(P          R      mAP50  mAP50-95)     Pose(P          R      mAP50  mAP50-95): 100%|██████████| 1/1 [00:01<00:00,  1.88s/it]"
     ]
    },
    {
     "name": "stdout",
     "output_type": "stream",
     "text": [
      "                   all         15          0          0          0          0          0          0          0          0          0\n",
      "WARNING  no labels found in pose set, can not compute metrics without labels\n"
     ]
    },
    {
     "name": "stderr",
     "output_type": "stream",
     "text": [
      "\n"
     ]
    },
    {
     "name": "stdout",
     "output_type": "stream",
     "text": [
      "\n",
      "      Epoch    GPU_mem   box_loss  pose_loss  kobj_loss   cls_loss   dfl_loss  Instances       Size\n"
     ]
    },
    {
     "name": "stderr",
     "output_type": "stream",
     "text": [
      "      16/20      7.04G          0          0          0      35.24          0          0        640: 100%|██████████| 6/6 [00:15<00:00,  2.53s/it]\n",
      "                 Class     Images  Instances      Box(P          R      mAP50  mAP50-95)     Pose(P          R      mAP50  mAP50-95): 100%|██████████| 1/1 [00:01<00:00,  1.19s/it]"
     ]
    },
    {
     "name": "stdout",
     "output_type": "stream",
     "text": [
      "                   all         15          0          0          0          0          0          0          0          0          0\n",
      "WARNING  no labels found in pose set, can not compute metrics without labels\n"
     ]
    },
    {
     "name": "stderr",
     "output_type": "stream",
     "text": [
      "\n"
     ]
    },
    {
     "name": "stdout",
     "output_type": "stream",
     "text": [
      "\n",
      "      Epoch    GPU_mem   box_loss  pose_loss  kobj_loss   cls_loss   dfl_loss  Instances       Size\n"
     ]
    },
    {
     "name": "stderr",
     "output_type": "stream",
     "text": [
      "      17/20      6.92G          0          0          0      34.77          0          0        640: 100%|██████████| 6/6 [00:14<00:00,  2.40s/it]\n",
      "                 Class     Images  Instances      Box(P          R      mAP50  mAP50-95)     Pose(P          R      mAP50  mAP50-95): 100%|██████████| 1/1 [00:01<00:00,  1.18s/it]"
     ]
    },
    {
     "name": "stdout",
     "output_type": "stream",
     "text": [
      "                   all         15          0          0          0          0          0          0          0          0          0\n",
      "WARNING  no labels found in pose set, can not compute metrics without labels\n"
     ]
    },
    {
     "name": "stderr",
     "output_type": "stream",
     "text": [
      "\n"
     ]
    },
    {
     "name": "stdout",
     "output_type": "stream",
     "text": [
      "\n",
      "      Epoch    GPU_mem   box_loss  pose_loss  kobj_loss   cls_loss   dfl_loss  Instances       Size\n"
     ]
    },
    {
     "name": "stderr",
     "output_type": "stream",
     "text": [
      "      18/20      7.02G          0          0          0      33.14          0          0        640: 100%|██████████| 6/6 [00:13<00:00,  2.26s/it]\n",
      "                 Class     Images  Instances      Box(P          R      mAP50  mAP50-95)     Pose(P          R      mAP50  mAP50-95): 100%|██████████| 1/1 [00:01<00:00,  1.23s/it]"
     ]
    },
    {
     "name": "stdout",
     "output_type": "stream",
     "text": [
      "                   all         15          0          0          0          0          0          0          0          0          0\n",
      "WARNING  no labels found in pose set, can not compute metrics without labels\n"
     ]
    },
    {
     "name": "stderr",
     "output_type": "stream",
     "text": [
      "\n"
     ]
    },
    {
     "name": "stdout",
     "output_type": "stream",
     "text": [
      "\n",
      "      Epoch    GPU_mem   box_loss  pose_loss  kobj_loss   cls_loss   dfl_loss  Instances       Size\n"
     ]
    },
    {
     "name": "stderr",
     "output_type": "stream",
     "text": [
      "      19/20      6.94G          0          0          0      32.69          0          0        640: 100%|██████████| 6/6 [00:16<00:00,  2.68s/it]\n",
      "                 Class     Images  Instances      Box(P          R      mAP50  mAP50-95)     Pose(P          R      mAP50  mAP50-95): 100%|██████████| 1/1 [00:01<00:00,  2.00s/it]"
     ]
    },
    {
     "name": "stdout",
     "output_type": "stream",
     "text": [
      "                   all         15          0          0          0          0          0          0          0          0          0\n",
      "WARNING  no labels found in pose set, can not compute metrics without labels\n"
     ]
    },
    {
     "name": "stderr",
     "output_type": "stream",
     "text": [
      "\n"
     ]
    },
    {
     "name": "stdout",
     "output_type": "stream",
     "text": [
      "\n",
      "      Epoch    GPU_mem   box_loss  pose_loss  kobj_loss   cls_loss   dfl_loss  Instances       Size\n"
     ]
    },
    {
     "name": "stderr",
     "output_type": "stream",
     "text": [
      "      20/20      7.03G          0          0          0      31.77          0          0        640: 100%|██████████| 6/6 [00:12<00:00,  2.14s/it]\n",
      "                 Class     Images  Instances      Box(P          R      mAP50  mAP50-95)     Pose(P          R      mAP50  mAP50-95): 100%|██████████| 1/1 [00:01<00:00,  1.07s/it]"
     ]
    },
    {
     "name": "stdout",
     "output_type": "stream",
     "text": [
      "                   all         15          0          0          0          0          0          0          0          0          0\n",
      "WARNING  no labels found in pose set, can not compute metrics without labels\n"
     ]
    },
    {
     "name": "stderr",
     "output_type": "stream",
     "text": [
      "\n"
     ]
    },
    {
     "name": "stdout",
     "output_type": "stream",
     "text": [
      "\n",
      "20 epochs completed in 0.115 hours.\n",
      "Optimizer stripped from c:\\Users\\22017111\\OneDrive - Republic Polytechnic\\c290\\C300_AIFirstResponders\\server\\pose_detection_ai\\scripts\\..\\runs\\pose\\train11\\weights\\last.pt, 53.2MB\n",
      "Optimizer stripped from c:\\Users\\22017111\\OneDrive - Republic Polytechnic\\c290\\C300_AIFirstResponders\\server\\pose_detection_ai\\scripts\\..\\runs\\pose\\train11\\weights\\best.pt, 53.2MB\n",
      "\n",
      "Validating c:\\Users\\22017111\\OneDrive - Republic Polytechnic\\c290\\C300_AIFirstResponders\\server\\pose_detection_ai\\scripts\\..\\runs\\pose\\train11\\weights\\best.pt...\n",
      "Ultralytics YOLOv8.2.66  Python-3.12.3 torch-2.4.0+cu121 CUDA:0 (NVIDIA GeForce RTX 3060 Laptop GPU, 6144MiB)\n",
      "YOLOv8m-pose summary (fused): 237 layers, 26,406,949 parameters, 0 gradients, 80.9 GFLOPs\n"
     ]
    },
    {
     "name": "stderr",
     "output_type": "stream",
     "text": [
      "                 Class     Images  Instances      Box(P          R      mAP50  mAP50-95)     Pose(P          R      mAP50  mAP50-95): 100%|██████████| 1/1 [00:00<00:00,  2.54it/s]"
     ]
    },
    {
     "name": "stdout",
     "output_type": "stream",
     "text": [
      "                   all         15          0          0          0          0          0          0          0          0          0\n",
      "WARNING  no labels found in pose set, can not compute metrics without labels\n"
     ]
    },
    {
     "name": "stderr",
     "output_type": "stream",
     "text": [
      "\n"
     ]
    },
    {
     "name": "stdout",
     "output_type": "stream",
     "text": [
      "Speed: 1.0ms preprocess, 20.6ms inference, 0.0ms loss, 1.4ms postprocess per image\n",
      "Results saved to \u001b[1mc:\\Users\\22017111\\OneDrive - Republic Polytechnic\\c290\\C300_AIFirstResponders\\server\\pose_detection_ai\\scripts\\..\\runs\\pose\\train11\u001b[0m\n"
     ]
    }
   ],
   "source": [
    "from ultralytics import YOLO\n",
    "import yaml\n",
    "import os\n",
    "\n",
    "# Load the YOLO model\n",
    "model = YOLO(\"models/yolov8m-pose.pt\")\n",
    "\n",
    "# Debug: Print out some data information\n",
    "print(\"Loading data from dataset.yaml\")\n",
    "dataset_yaml_path = r\"C:\\Users\\22017111\\OneDrive - Republic Polytechnic\\c290\\C300_AIFirstResponders\\server\\pose_detection_ai\\datasets\\dataset.yaml\"\n",
    "with open(dataset_yaml_path, 'r') as file:\n",
    "    data = yaml.safe_load(file)\n",
    "    print(\"Dataset Information:\", data)\n",
    "\n",
    "# Check if image and label directories contain files\n",
    "base_path = r\"C:\\Users\\22017111\\OneDrive - Republic Polytechnic\\c290\\C300_AIFirstResponders\\server\\pose_detection_ai\\datasets\"\n",
    "for split in ['train', 'valid', 'test']:\n",
    "    image_dir = os.path.join(base_path, split, \"image\")\n",
    "    label_dir = os.path.join(base_path, split, \"labels\")\n",
    "    print(f\"Checking paths: {image_dir}, {label_dir}\")  # Debugging print statements\n",
    "    try:\n",
    "        images = os.listdir(image_dir)\n",
    "        labels = os.listdir(label_dir)\n",
    "    except FileNotFoundError as e:\n",
    "        print(f\"Error: {e}\")\n",
    "        continue\n",
    "    print(f\"{split.capitalize()} set: {len(images)} images, {len(labels)} labels\")\n",
    "\n",
    "    if len(images) == 0 or len(labels) == 0:\n",
    "        raise ValueError(f\"{split.capitalize()} set contains no images or labels.\")\n",
    "\n",
    "    # Debugging: Print out the first few entries\n",
    "    print(f\"Sample images: {images[:3]}\")\n",
    "    print(f\"Sample labels: {labels[:3]}\")\n",
    "\n",
    "# Train the model\n",
    "try:\n",
    "    model.train(\n",
    "        task=\"detect\",\n",
    "        mode=\"train\",\n",
    "        data=dataset_yaml_path,  # Path to the updated dataset YAML file\n",
    "        epochs=20,\n",
    "        imgsz=640,\n",
    "        device=0,\n",
    "        patience=0,\n",
    "        # resume=True\n",
    "    )\n",
    "except RuntimeError as e:\n",
    "    print(\"RuntimeError during training:\", e)\n"
   ]
  },
  {
   "cell_type": "code",
   "execution_count": null,
   "metadata": {},
   "outputs": [],
   "source": []
  }
 ],
 "metadata": {
  "kernelspec": {
   "display_name": ".venv",
   "language": "python",
   "name": "python3"
  },
  "language_info": {
   "codemirror_mode": {
    "name": "ipython",
    "version": 3
   },
   "file_extension": ".py",
   "mimetype": "text/x-python",
   "name": "python",
   "nbconvert_exporter": "python",
   "pygments_lexer": "ipython3",
   "version": "3.12.3"
  }
 },
 "nbformat": 4,
 "nbformat_minor": 2
}
