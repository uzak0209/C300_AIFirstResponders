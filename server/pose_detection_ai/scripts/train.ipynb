{
 "cells": [
  {
   "cell_type": "code",
   "execution_count": 1,
   "metadata": {},
   "outputs": [
    {
     "name": "stdout",
     "output_type": "stream",
     "text": [
      "Loading data from dataset.yaml\n"
     ]
    },
    {
     "ename": "FileNotFoundError",
     "evalue": "[Errno 2] No such file or directory: 'C:\\\\Users\\\\22017111\\\\OneDrive - Republic Polytechnic\\\\c290\\\\C300_AIFirstResponders\\\\server\\\\pose_detection_ai\\\\datasets\\\\dataset.yaml'",
     "output_type": "error",
     "traceback": [
      "\u001b[1;31m---------------------------------------------------------------------------\u001b[0m",
      "\u001b[1;31mFileNotFoundError\u001b[0m                         Traceback (most recent call last)",
      "Cell \u001b[1;32mIn[1], line 11\u001b[0m\n\u001b[0;32m      9\u001b[0m \u001b[38;5;28mprint\u001b[39m(\u001b[38;5;124m\"\u001b[39m\u001b[38;5;124mLoading data from dataset.yaml\u001b[39m\u001b[38;5;124m\"\u001b[39m)\n\u001b[0;32m     10\u001b[0m dataset_yaml_path \u001b[38;5;241m=\u001b[39m \u001b[38;5;124mr\u001b[39m\u001b[38;5;124m\"\u001b[39m\u001b[38;5;124mC:\u001b[39m\u001b[38;5;124m\\\u001b[39m\u001b[38;5;124mUsers\u001b[39m\u001b[38;5;124m\\\u001b[39m\u001b[38;5;124m22017111\u001b[39m\u001b[38;5;124m\\\u001b[39m\u001b[38;5;124mOneDrive - Republic Polytechnic\u001b[39m\u001b[38;5;124m\\\u001b[39m\u001b[38;5;124mc290\u001b[39m\u001b[38;5;124m\\\u001b[39m\u001b[38;5;124mC300_AIFirstResponders\u001b[39m\u001b[38;5;124m\\\u001b[39m\u001b[38;5;124mserver\u001b[39m\u001b[38;5;124m\\\u001b[39m\u001b[38;5;124mpose_detection_ai\u001b[39m\u001b[38;5;124m\\\u001b[39m\u001b[38;5;124mdatasets\u001b[39m\u001b[38;5;124m\\\u001b[39m\u001b[38;5;124mdataset.yaml\u001b[39m\u001b[38;5;124m\"\u001b[39m\n\u001b[1;32m---> 11\u001b[0m \u001b[38;5;28;01mwith\u001b[39;00m \u001b[38;5;28;43mopen\u001b[39;49m\u001b[43m(\u001b[49m\u001b[43mdataset_yaml_path\u001b[49m\u001b[43m,\u001b[49m\u001b[43m \u001b[49m\u001b[38;5;124;43m'\u001b[39;49m\u001b[38;5;124;43mr\u001b[39;49m\u001b[38;5;124;43m'\u001b[39;49m\u001b[43m)\u001b[49m \u001b[38;5;28;01mas\u001b[39;00m file:\n\u001b[0;32m     12\u001b[0m     data \u001b[38;5;241m=\u001b[39m yaml\u001b[38;5;241m.\u001b[39msafe_load(file)\n\u001b[0;32m     13\u001b[0m     \u001b[38;5;28mprint\u001b[39m(\u001b[38;5;124m\"\u001b[39m\u001b[38;5;124mDataset Information:\u001b[39m\u001b[38;5;124m\"\u001b[39m, data)\n",
      "File \u001b[1;32m~\\AppData\\Roaming\\Python\\Python312\\site-packages\\IPython\\core\\interactiveshell.py:324\u001b[0m, in \u001b[0;36m_modified_open\u001b[1;34m(file, *args, **kwargs)\u001b[0m\n\u001b[0;32m    317\u001b[0m \u001b[38;5;28;01mif\u001b[39;00m file \u001b[38;5;129;01min\u001b[39;00m {\u001b[38;5;241m0\u001b[39m, \u001b[38;5;241m1\u001b[39m, \u001b[38;5;241m2\u001b[39m}:\n\u001b[0;32m    318\u001b[0m     \u001b[38;5;28;01mraise\u001b[39;00m \u001b[38;5;167;01mValueError\u001b[39;00m(\n\u001b[0;32m    319\u001b[0m         \u001b[38;5;124mf\u001b[39m\u001b[38;5;124m\"\u001b[39m\u001b[38;5;124mIPython won\u001b[39m\u001b[38;5;124m'\u001b[39m\u001b[38;5;124mt let you open fd=\u001b[39m\u001b[38;5;132;01m{\u001b[39;00mfile\u001b[38;5;132;01m}\u001b[39;00m\u001b[38;5;124m by default \u001b[39m\u001b[38;5;124m\"\u001b[39m\n\u001b[0;32m    320\u001b[0m         \u001b[38;5;124m\"\u001b[39m\u001b[38;5;124mas it is likely to crash IPython. If you know what you are doing, \u001b[39m\u001b[38;5;124m\"\u001b[39m\n\u001b[0;32m    321\u001b[0m         \u001b[38;5;124m\"\u001b[39m\u001b[38;5;124myou can use builtins\u001b[39m\u001b[38;5;124m'\u001b[39m\u001b[38;5;124m open.\u001b[39m\u001b[38;5;124m\"\u001b[39m\n\u001b[0;32m    322\u001b[0m     )\n\u001b[1;32m--> 324\u001b[0m \u001b[38;5;28;01mreturn\u001b[39;00m \u001b[43mio_open\u001b[49m\u001b[43m(\u001b[49m\u001b[43mfile\u001b[49m\u001b[43m,\u001b[49m\u001b[43m \u001b[49m\u001b[38;5;241;43m*\u001b[39;49m\u001b[43margs\u001b[49m\u001b[43m,\u001b[49m\u001b[43m \u001b[49m\u001b[38;5;241;43m*\u001b[39;49m\u001b[38;5;241;43m*\u001b[39;49m\u001b[43mkwargs\u001b[49m\u001b[43m)\u001b[49m\n",
      "\u001b[1;31mFileNotFoundError\u001b[0m: [Errno 2] No such file or directory: 'C:\\\\Users\\\\22017111\\\\OneDrive - Republic Polytechnic\\\\c290\\\\C300_AIFirstResponders\\\\server\\\\pose_detection_ai\\\\datasets\\\\dataset.yaml'"
     ]
    }
   ],
   "source": [
    "from ultralytics import YOLO\n",
    "import yaml\n",
    "import os\n",
    "\n",
    "# Load the YOLO model\n",
    "model = YOLO(\"models/yolov8m-pose.pt\")\n",
    "\n",
    "# Debug: Print out some data information\n",
    "print(\"Loading data from dataset.yaml\")\n",
    "dataset_yaml_path = r\"C:\\Users\\22017111\\OneDrive - Republic Polytechnic\\c290\\C300_AIFirstResponders\\server\\pose_detection_ai\\datasets\\dataset.yaml\"\n",
    "with open(dataset_yaml_path, 'r') as file:\n",
    "    data = yaml.safe_load(file)\n",
    "    print(\"Dataset Information:\", data)\n",
    "\n",
    "# Check if image and label directories contain files\n",
    "base_path = r\"C:\\Users\\22017111\\OneDrive - Republic Polytechnic\\c290\\C300_AIFirstResponders\\server\\pose_detection_ai\\datasets\"\n",
    "for split in ['train', 'valid', 'test']:\n",
    "    image_dir = os.path.join(base_path, split, \"image\")\n",
    "    label_dir = os.path.join(base_path, split, \"labels\")\n",
    "    print(f\"Checking paths: {image_dir}, {label_dir}\")  # Debugging print statements\n",
    "    try:\n",
    "        images = os.listdir(image_dir)\n",
    "        labels = os.listdir(label_dir)\n",
    "    except FileNotFoundError as e:\n",
    "        print(f\"Error: {e}\")\n",
    "        continue\n",
    "    print(f\"{split.capitalize()} set: {len(images)} images, {len(labels)} labels\")\n",
    "\n",
    "    if len(images) == 0 or len(labels) == 0:\n",
    "        raise ValueError(f\"{split.capitalize()} set contains no images or labels.\")\n",
    "\n",
    "    # Debugging: Print out the first few entries\n",
    "    print(f\"Sample images: {images[:3]}\")\n",
    "    print(f\"Sample labels: {labels[:3]}\")\n",
    "\n",
    "# Train the model\n",
    "try:\n",
    "    model.train(\n",
    "        task=\"detect\",\n",
    "        mode=\"train\",\n",
    "        data=dataset_yaml_path,  # Path to the updated dataset YAML file\n",
    "        epochs=20,\n",
    "        imgsz=640,\n",
    "        device=0,\n",
    "        patience=0,\n",
    "        # resume=True\n",
    "    )\n",
    "except RuntimeError as e:\n",
    "    print(\"RuntimeError during training:\", e)\n"
   ]
  },
  {
   "cell_type": "code",
   "execution_count": null,
   "metadata": {},
   "outputs": [],
   "source": []
  }
 ],
 "metadata": {
  "kernelspec": {
   "display_name": ".venv",
   "language": "python",
   "name": "python3"
  },
  "language_info": {
   "codemirror_mode": {
    "name": "ipython",
    "version": 3
   },
   "file_extension": ".py",
   "mimetype": "text/x-python",
   "name": "python",
   "nbconvert_exporter": "python",
   "pygments_lexer": "ipython3",
   "version": "3.12.6"
  }
 },
 "nbformat": 4,
 "nbformat_minor": 2
}
